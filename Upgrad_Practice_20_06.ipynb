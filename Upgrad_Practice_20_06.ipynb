{
  "nbformat": 4,
  "nbformat_minor": 0,
  "metadata": {
    "colab": {
      "name": "Upgrad_Practice_20/06.ipynb",
      "version": "0.3.2",
      "provenance": [],
      "collapsed_sections": [],
      "include_colab_link": true
    },
    "kernelspec": {
      "name": "python3",
      "display_name": "Python 3"
    }
  },
  "cells": [
    {
      "cell_type": "markdown",
      "metadata": {
        "id": "view-in-github",
        "colab_type": "text"
      },
      "source": [
        "<a href=\"https://colab.research.google.com/github/Shreyas3108/Upgrad_DS/blob/master/Upgrad_Practice_20_06.ipynb\" target=\"_parent\"><img src=\"https://colab.research.google.com/assets/colab-badge.svg\" alt=\"Open In Colab\"/></a>"
      ]
    },
    {
      "cell_type": "code",
      "metadata": {
        "id": "Td4a-KEN7kQb",
        "colab_type": "code",
        "colab": {}
      },
      "source": [
        "from google.colab import files"
      ],
      "execution_count": 0,
      "outputs": []
    },
    {
      "cell_type": "code",
      "metadata": {
        "id": "M5UEfp9z78pH",
        "colab_type": "code",
        "outputId": "f2c29ea6-bb64-413a-db0c-c1ebdd5020f8",
        "colab": {
          "resources": {
            "http://localhost:8080/nbextensions/google.colab/files.js": {
              "data": "Ly8gQ29weXJpZ2h0IDIwMTcgR29vZ2xlIExMQwovLwovLyBMaWNlbnNlZCB1bmRlciB0aGUgQXBhY2hlIExpY2Vuc2UsIFZlcnNpb24gMi4wICh0aGUgIkxpY2Vuc2UiKTsKLy8geW91IG1heSBub3QgdXNlIHRoaXMgZmlsZSBleGNlcHQgaW4gY29tcGxpYW5jZSB3aXRoIHRoZSBMaWNlbnNlLgovLyBZb3UgbWF5IG9idGFpbiBhIGNvcHkgb2YgdGhlIExpY2Vuc2UgYXQKLy8KLy8gICAgICBodHRwOi8vd3d3LmFwYWNoZS5vcmcvbGljZW5zZXMvTElDRU5TRS0yLjAKLy8KLy8gVW5sZXNzIHJlcXVpcmVkIGJ5IGFwcGxpY2FibGUgbGF3IG9yIGFncmVlZCB0byBpbiB3cml0aW5nLCBzb2Z0d2FyZQovLyBkaXN0cmlidXRlZCB1bmRlciB0aGUgTGljZW5zZSBpcyBkaXN0cmlidXRlZCBvbiBhbiAiQVMgSVMiIEJBU0lTLAovLyBXSVRIT1VUIFdBUlJBTlRJRVMgT1IgQ09ORElUSU9OUyBPRiBBTlkgS0lORCwgZWl0aGVyIGV4cHJlc3Mgb3IgaW1wbGllZC4KLy8gU2VlIHRoZSBMaWNlbnNlIGZvciB0aGUgc3BlY2lmaWMgbGFuZ3VhZ2UgZ292ZXJuaW5nIHBlcm1pc3Npb25zIGFuZAovLyBsaW1pdGF0aW9ucyB1bmRlciB0aGUgTGljZW5zZS4KCi8qKgogKiBAZmlsZW92ZXJ2aWV3IEhlbHBlcnMgZm9yIGdvb2dsZS5jb2xhYiBQeXRob24gbW9kdWxlLgogKi8KKGZ1bmN0aW9uKHNjb3BlKSB7CmZ1bmN0aW9uIHNwYW4odGV4dCwgc3R5bGVBdHRyaWJ1dGVzID0ge30pIHsKICBjb25zdCBlbGVtZW50ID0gZG9jdW1lbnQuY3JlYXRlRWxlbWVudCgnc3BhbicpOwogIGVsZW1lbnQudGV4dENvbnRlbnQgPSB0ZXh0OwogIGZvciAoY29uc3Qga2V5IG9mIE9iamVjdC5rZXlzKHN0eWxlQXR0cmlidXRlcykpIHsKICAgIGVsZW1lbnQuc3R5bGVba2V5XSA9IHN0eWxlQXR0cmlidXRlc1trZXldOwogIH0KICByZXR1cm4gZWxlbWVudDsKfQoKLy8gTWF4IG51bWJlciBvZiBieXRlcyB3aGljaCB3aWxsIGJlIHVwbG9hZGVkIGF0IGEgdGltZS4KY29uc3QgTUFYX1BBWUxPQURfU0laRSA9IDEwMCAqIDEwMjQ7Ci8vIE1heCBhbW91bnQgb2YgdGltZSB0byBibG9jayB3YWl0aW5nIGZvciB0aGUgdXNlci4KY29uc3QgRklMRV9DSEFOR0VfVElNRU9VVF9NUyA9IDMwICogMTAwMDsKCmZ1bmN0aW9uIF91cGxvYWRGaWxlcyhpbnB1dElkLCBvdXRwdXRJZCkgewogIGNvbnN0IHN0ZXBzID0gdXBsb2FkRmlsZXNTdGVwKGlucHV0SWQsIG91dHB1dElkKTsKICBjb25zdCBvdXRwdXRFbGVtZW50ID0gZG9jdW1lbnQuZ2V0RWxlbWVudEJ5SWQob3V0cHV0SWQpOwogIC8vIENhY2hlIHN0ZXBzIG9uIHRoZSBvdXRwdXRFbGVtZW50IHRvIG1ha2UgaXQgYXZhaWxhYmxlIGZvciB0aGUgbmV4dCBjYWxsCiAgLy8gdG8gdXBsb2FkRmlsZXNDb250aW51ZSBmcm9tIFB5dGhvbi4KICBvdXRwdXRFbGVtZW50LnN0ZXBzID0gc3RlcHM7CgogIHJldHVybiBfdXBsb2FkRmlsZXNDb250aW51ZShvdXRwdXRJZCk7Cn0KCi8vIFRoaXMgaXMgcm91Z2hseSBhbiBhc3luYyBnZW5lcmF0b3IgKG5vdCBzdXBwb3J0ZWQgaW4gdGhlIGJyb3dzZXIgeWV0KSwKLy8gd2hlcmUgdGhlcmUgYXJlIG11bHRpcGxlIGFzeW5jaHJvbm91cyBzdGVwcyBhbmQgdGhlIFB5dGhvbiBzaWRlIGlzIGdvaW5nCi8vIHRvIHBvbGwgZm9yIGNvbXBsZXRpb24gb2YgZWFjaCBzdGVwLgovLyBUaGlzIHVzZXMgYSBQcm9taXNlIHRvIGJsb2NrIHRoZSBweXRob24gc2lkZSBvbiBjb21wbGV0aW9uIG9mIGVhY2ggc3RlcCwKLy8gdGhlbiBwYXNzZXMgdGhlIHJlc3VsdCBvZiB0aGUgcHJldmlvdXMgc3RlcCBhcyB0aGUgaW5wdXQgdG8gdGhlIG5leHQgc3RlcC4KZnVuY3Rpb24gX3VwbG9hZEZpbGVzQ29udGludWUob3V0cHV0SWQpIHsKICBjb25zdCBvdXRwdXRFbGVtZW50ID0gZG9jdW1lbnQuZ2V0RWxlbWVudEJ5SWQob3V0cHV0SWQpOwogIGNvbnN0IHN0ZXBzID0gb3V0cHV0RWxlbWVudC5zdGVwczsKCiAgY29uc3QgbmV4dCA9IHN0ZXBzLm5leHQob3V0cHV0RWxlbWVudC5sYXN0UHJvbWlzZVZhbHVlKTsKICByZXR1cm4gUHJvbWlzZS5yZXNvbHZlKG5leHQudmFsdWUucHJvbWlzZSkudGhlbigodmFsdWUpID0+IHsKICAgIC8vIENhY2hlIHRoZSBsYXN0IHByb21pc2UgdmFsdWUgdG8gbWFrZSBpdCBhdmFpbGFibGUgdG8gdGhlIG5leHQKICAgIC8vIHN0ZXAgb2YgdGhlIGdlbmVyYXRvci4KICAgIG91dHB1dEVsZW1lbnQubGFzdFByb21pc2VWYWx1ZSA9IHZhbHVlOwogICAgcmV0dXJuIG5leHQudmFsdWUucmVzcG9uc2U7CiAgfSk7Cn0KCi8qKgogKiBHZW5lcmF0b3IgZnVuY3Rpb24gd2hpY2ggaXMgY2FsbGVkIGJldHdlZW4gZWFjaCBhc3luYyBzdGVwIG9mIHRoZSB1cGxvYWQKICogcHJvY2Vzcy4KICogQHBhcmFtIHtzdHJpbmd9IGlucHV0SWQgRWxlbWVudCBJRCBvZiB0aGUgaW5wdXQgZmlsZSBwaWNrZXIgZWxlbWVudC4KICogQHBhcmFtIHtzdHJpbmd9IG91dHB1dElkIEVsZW1lbnQgSUQgb2YgdGhlIG91dHB1dCBkaXNwbGF5LgogKiBAcmV0dXJuIHshSXRlcmFibGU8IU9iamVjdD59IEl0ZXJhYmxlIG9mIG5leHQgc3RlcHMuCiAqLwpmdW5jdGlvbiogdXBsb2FkRmlsZXNTdGVwKGlucHV0SWQsIG91dHB1dElkKSB7CiAgY29uc3QgaW5wdXRFbGVtZW50ID0gZG9jdW1lbnQuZ2V0RWxlbWVudEJ5SWQoaW5wdXRJZCk7CiAgaW5wdXRFbGVtZW50LmRpc2FibGVkID0gZmFsc2U7CgogIGNvbnN0IG91dHB1dEVsZW1lbnQgPSBkb2N1bWVudC5nZXRFbGVtZW50QnlJZChvdXRwdXRJZCk7CiAgb3V0cHV0RWxlbWVudC5pbm5lckhUTUwgPSAnJzsKCiAgY29uc3QgcGlja2VkUHJvbWlzZSA9IG5ldyBQcm9taXNlKChyZXNvbHZlKSA9PiB7CiAgICBpbnB1dEVsZW1lbnQuYWRkRXZlbnRMaXN0ZW5lcignY2hhbmdlJywgKGUpID0+IHsKICAgICAgcmVzb2x2ZShlLnRhcmdldC5maWxlcyk7CiAgICB9KTsKICB9KTsKCiAgY29uc3QgY2FuY2VsID0gZG9jdW1lbnQuY3JlYXRlRWxlbWVudCgnYnV0dG9uJyk7CiAgaW5wdXRFbGVtZW50LnBhcmVudEVsZW1lbnQuYXBwZW5kQ2hpbGQoY2FuY2VsKTsKICBjYW5jZWwudGV4dENvbnRlbnQgPSAnQ2FuY2VsIHVwbG9hZCc7CiAgY29uc3QgY2FuY2VsUHJvbWlzZSA9IG5ldyBQcm9taXNlKChyZXNvbHZlKSA9PiB7CiAgICBjYW5jZWwub25jbGljayA9ICgpID0+IHsKICAgICAgcmVzb2x2ZShudWxsKTsKICAgIH07CiAgfSk7CgogIC8vIENhbmNlbCB1cGxvYWQgaWYgdXNlciBoYXNuJ3QgcGlja2VkIGFueXRoaW5nIGluIHRpbWVvdXQuCiAgY29uc3QgdGltZW91dFByb21pc2UgPSBuZXcgUHJvbWlzZSgocmVzb2x2ZSkgPT4gewogICAgc2V0VGltZW91dCgoKSA9PiB7CiAgICAgIHJlc29sdmUobnVsbCk7CiAgICB9LCBGSUxFX0NIQU5HRV9USU1FT1VUX01TKTsKICB9KTsKCiAgLy8gV2FpdCBmb3IgdGhlIHVzZXIgdG8gcGljayB0aGUgZmlsZXMuCiAgY29uc3QgZmlsZXMgPSB5aWVsZCB7CiAgICBwcm9taXNlOiBQcm9taXNlLnJhY2UoW3BpY2tlZFByb21pc2UsIHRpbWVvdXRQcm9taXNlLCBjYW5jZWxQcm9taXNlXSksCiAgICByZXNwb25zZTogewogICAgICBhY3Rpb246ICdzdGFydGluZycsCiAgICB9CiAgfTsKCiAgaWYgKCFmaWxlcykgewogICAgcmV0dXJuIHsKICAgICAgcmVzcG9uc2U6IHsKICAgICAgICBhY3Rpb246ICdjb21wbGV0ZScsCiAgICAgIH0KICAgIH07CiAgfQoKICBjYW5jZWwucmVtb3ZlKCk7CgogIC8vIERpc2FibGUgdGhlIGlucHV0IGVsZW1lbnQgc2luY2UgZnVydGhlciBwaWNrcyBhcmUgbm90IGFsbG93ZWQuCiAgaW5wdXRFbGVtZW50LmRpc2FibGVkID0gdHJ1ZTsKCiAgZm9yIChjb25zdCBmaWxlIG9mIGZpbGVzKSB7CiAgICBjb25zdCBsaSA9IGRvY3VtZW50LmNyZWF0ZUVsZW1lbnQoJ2xpJyk7CiAgICBsaS5hcHBlbmQoc3BhbihmaWxlLm5hbWUsIHtmb250V2VpZ2h0OiAnYm9sZCd9KSk7CiAgICBsaS5hcHBlbmQoc3BhbigKICAgICAgICBgKCR7ZmlsZS50eXBlIHx8ICduL2EnfSkgLSAke2ZpbGUuc2l6ZX0gYnl0ZXMsIGAgKwogICAgICAgIGBsYXN0IG1vZGlmaWVkOiAkewogICAgICAgICAgICBmaWxlLmxhc3RNb2RpZmllZERhdGUgPyBmaWxlLmxhc3RNb2RpZmllZERhdGUudG9Mb2NhbGVEYXRlU3RyaW5nKCkgOgogICAgICAgICAgICAgICAgICAgICAgICAgICAgICAgICAgICAnbi9hJ30gLSBgKSk7CiAgICBjb25zdCBwZXJjZW50ID0gc3BhbignMCUgZG9uZScpOwogICAgbGkuYXBwZW5kQ2hpbGQocGVyY2VudCk7CgogICAgb3V0cHV0RWxlbWVudC5hcHBlbmRDaGlsZChsaSk7CgogICAgY29uc3QgZmlsZURhdGFQcm9taXNlID0gbmV3IFByb21pc2UoKHJlc29sdmUpID0+IHsKICAgICAgY29uc3QgcmVhZGVyID0gbmV3IEZpbGVSZWFkZXIoKTsKICAgICAgcmVhZGVyLm9ubG9hZCA9IChlKSA9PiB7CiAgICAgICAgcmVzb2x2ZShlLnRhcmdldC5yZXN1bHQpOwogICAgICB9OwogICAgICByZWFkZXIucmVhZEFzQXJyYXlCdWZmZXIoZmlsZSk7CiAgICB9KTsKICAgIC8vIFdhaXQgZm9yIHRoZSBkYXRhIHRvIGJlIHJlYWR5LgogICAgbGV0IGZpbGVEYXRhID0geWllbGQgewogICAgICBwcm9taXNlOiBmaWxlRGF0YVByb21pc2UsCiAgICAgIHJlc3BvbnNlOiB7CiAgICAgICAgYWN0aW9uOiAnY29udGludWUnLAogICAgICB9CiAgICB9OwoKICAgIC8vIFVzZSBhIGNodW5rZWQgc2VuZGluZyB0byBhdm9pZCBtZXNzYWdlIHNpemUgbGltaXRzLiBTZWUgYi82MjExNTY2MC4KICAgIGxldCBwb3NpdGlvbiA9IDA7CiAgICB3aGlsZSAocG9zaXRpb24gPCBmaWxlRGF0YS5ieXRlTGVuZ3RoKSB7CiAgICAgIGNvbnN0IGxlbmd0aCA9IE1hdGgubWluKGZpbGVEYXRhLmJ5dGVMZW5ndGggLSBwb3NpdGlvbiwgTUFYX1BBWUxPQURfU0laRSk7CiAgICAgIGNvbnN0IGNodW5rID0gbmV3IFVpbnQ4QXJyYXkoZmlsZURhdGEsIHBvc2l0aW9uLCBsZW5ndGgpOwogICAgICBwb3NpdGlvbiArPSBsZW5ndGg7CgogICAgICBjb25zdCBiYXNlNjQgPSBidG9hKFN0cmluZy5mcm9tQ2hhckNvZGUuYXBwbHkobnVsbCwgY2h1bmspKTsKICAgICAgeWllbGQgewogICAgICAgIHJlc3BvbnNlOiB7CiAgICAgICAgICBhY3Rpb246ICdhcHBlbmQnLAogICAgICAgICAgZmlsZTogZmlsZS5uYW1lLAogICAgICAgICAgZGF0YTogYmFzZTY0LAogICAgICAgIH0sCiAgICAgIH07CiAgICAgIHBlcmNlbnQudGV4dENvbnRlbnQgPQogICAgICAgICAgYCR7TWF0aC5yb3VuZCgocG9zaXRpb24gLyBmaWxlRGF0YS5ieXRlTGVuZ3RoKSAqIDEwMCl9JSBkb25lYDsKICAgIH0KICB9CgogIC8vIEFsbCBkb25lLgogIHlpZWxkIHsKICAgIHJlc3BvbnNlOiB7CiAgICAgIGFjdGlvbjogJ2NvbXBsZXRlJywKICAgIH0KICB9Owp9CgpzY29wZS5nb29nbGUgPSBzY29wZS5nb29nbGUgfHwge307CnNjb3BlLmdvb2dsZS5jb2xhYiA9IHNjb3BlLmdvb2dsZS5jb2xhYiB8fCB7fTsKc2NvcGUuZ29vZ2xlLmNvbGFiLl9maWxlcyA9IHsKICBfdXBsb2FkRmlsZXMsCiAgX3VwbG9hZEZpbGVzQ29udGludWUsCn07Cn0pKHNlbGYpOwo=",
              "ok": true,
              "headers": [
                [
                  "content-type",
                  "application/javascript"
                ]
              ],
              "status": 200,
              "status_text": ""
            }
          },
          "base_uri": "https://localhost:8080/",
          "height": 41
        }
      },
      "source": [
        "upload = files.upload()"
      ],
      "execution_count": 0,
      "outputs": [
        {
          "output_type": "display_data",
          "data": {
            "text/html": [
              "\n",
              "     <input type=\"file\" id=\"files-2569acec-50fc-4a0a-910e-7a88b96384f0\" name=\"files[]\" multiple disabled />\n",
              "     <output id=\"result-2569acec-50fc-4a0a-910e-7a88b96384f0\">\n",
              "      Upload widget is only available when the cell has been executed in the\n",
              "      current browser session. Please rerun this cell to enable.\n",
              "      </output>\n",
              "      <script src=\"/nbextensions/google.colab/files.js\"></script> "
            ],
            "text/plain": [
              "<IPython.core.display.HTML object>"
            ]
          },
          "metadata": {
            "tags": []
          }
        }
      ]
    },
    {
      "cell_type": "code",
      "metadata": {
        "id": "Z2Fz-IgM83ax",
        "colab_type": "code",
        "colab": {}
      },
      "source": [
        "import pandas as pd\n",
        "import numpy as np"
      ],
      "execution_count": 0,
      "outputs": []
    },
    {
      "cell_type": "code",
      "metadata": {
        "id": "GKENAnFs8HLz",
        "colab_type": "code",
        "colab": {}
      },
      "source": [
        "df = pd.read_csv('https://raw.githubusercontent.com/Shreyas3108/Upgrad_DS/master/matches.csv')"
      ],
      "execution_count": 0,
      "outputs": []
    },
    {
      "cell_type": "code",
      "metadata": {
        "id": "T62U9F-J86Ef",
        "colab_type": "code",
        "outputId": "81c51573-3bdd-4a2c-c2b7-552b304f8f27",
        "colab": {
          "base_uri": "https://localhost:8080/",
          "height": 434
        }
      },
      "source": [
        "df.head()"
      ],
      "execution_count": 0,
      "outputs": [
        {
          "output_type": "execute_result",
          "data": {
            "text/html": [
              "<div>\n",
              "<style scoped>\n",
              "    .dataframe tbody tr th:only-of-type {\n",
              "        vertical-align: middle;\n",
              "    }\n",
              "\n",
              "    .dataframe tbody tr th {\n",
              "        vertical-align: top;\n",
              "    }\n",
              "\n",
              "    .dataframe thead th {\n",
              "        text-align: right;\n",
              "    }\n",
              "</style>\n",
              "<table border=\"1\" class=\"dataframe\">\n",
              "  <thead>\n",
              "    <tr style=\"text-align: right;\">\n",
              "      <th></th>\n",
              "      <th>id</th>\n",
              "      <th>season</th>\n",
              "      <th>city</th>\n",
              "      <th>date</th>\n",
              "      <th>team1</th>\n",
              "      <th>team2</th>\n",
              "      <th>toss_winner</th>\n",
              "      <th>toss_decision</th>\n",
              "      <th>result</th>\n",
              "      <th>dl_applied</th>\n",
              "      <th>winner</th>\n",
              "      <th>win_by_runs</th>\n",
              "      <th>win_by_wickets</th>\n",
              "      <th>player_of_match</th>\n",
              "      <th>venue</th>\n",
              "      <th>umpire1</th>\n",
              "      <th>umpire2</th>\n",
              "      <th>umpire3</th>\n",
              "    </tr>\n",
              "  </thead>\n",
              "  <tbody>\n",
              "    <tr>\n",
              "      <th>0</th>\n",
              "      <td>1</td>\n",
              "      <td>2017</td>\n",
              "      <td>Hyderabad</td>\n",
              "      <td>2017-04-05</td>\n",
              "      <td>Sunrisers Hyderabad</td>\n",
              "      <td>Royal Challengers Bangalore</td>\n",
              "      <td>Royal Challengers Bangalore</td>\n",
              "      <td>field</td>\n",
              "      <td>normal</td>\n",
              "      <td>0</td>\n",
              "      <td>Sunrisers Hyderabad</td>\n",
              "      <td>35</td>\n",
              "      <td>0</td>\n",
              "      <td>Yuvraj Singh</td>\n",
              "      <td>Rajiv Gandhi International Stadium, Uppal</td>\n",
              "      <td>AY Dandekar</td>\n",
              "      <td>NJ Llong</td>\n",
              "      <td>NaN</td>\n",
              "    </tr>\n",
              "    <tr>\n",
              "      <th>1</th>\n",
              "      <td>2</td>\n",
              "      <td>2017</td>\n",
              "      <td>Pune</td>\n",
              "      <td>2017-04-06</td>\n",
              "      <td>Mumbai Indians</td>\n",
              "      <td>Rising Pune Supergiant</td>\n",
              "      <td>Rising Pune Supergiant</td>\n",
              "      <td>field</td>\n",
              "      <td>normal</td>\n",
              "      <td>0</td>\n",
              "      <td>Rising Pune Supergiant</td>\n",
              "      <td>0</td>\n",
              "      <td>7</td>\n",
              "      <td>SPD Smith</td>\n",
              "      <td>Maharashtra Cricket Association Stadium</td>\n",
              "      <td>A Nand Kishore</td>\n",
              "      <td>S Ravi</td>\n",
              "      <td>NaN</td>\n",
              "    </tr>\n",
              "    <tr>\n",
              "      <th>2</th>\n",
              "      <td>3</td>\n",
              "      <td>2017</td>\n",
              "      <td>Rajkot</td>\n",
              "      <td>2017-04-07</td>\n",
              "      <td>Gujarat Lions</td>\n",
              "      <td>Kolkata Knight Riders</td>\n",
              "      <td>Kolkata Knight Riders</td>\n",
              "      <td>field</td>\n",
              "      <td>normal</td>\n",
              "      <td>0</td>\n",
              "      <td>Kolkata Knight Riders</td>\n",
              "      <td>0</td>\n",
              "      <td>10</td>\n",
              "      <td>CA Lynn</td>\n",
              "      <td>Saurashtra Cricket Association Stadium</td>\n",
              "      <td>Nitin Menon</td>\n",
              "      <td>CK Nandan</td>\n",
              "      <td>NaN</td>\n",
              "    </tr>\n",
              "    <tr>\n",
              "      <th>3</th>\n",
              "      <td>4</td>\n",
              "      <td>2017</td>\n",
              "      <td>Indore</td>\n",
              "      <td>2017-04-08</td>\n",
              "      <td>Rising Pune Supergiant</td>\n",
              "      <td>Kings XI Punjab</td>\n",
              "      <td>Kings XI Punjab</td>\n",
              "      <td>field</td>\n",
              "      <td>normal</td>\n",
              "      <td>0</td>\n",
              "      <td>Kings XI Punjab</td>\n",
              "      <td>0</td>\n",
              "      <td>6</td>\n",
              "      <td>GJ Maxwell</td>\n",
              "      <td>Holkar Cricket Stadium</td>\n",
              "      <td>AK Chaudhary</td>\n",
              "      <td>C Shamshuddin</td>\n",
              "      <td>NaN</td>\n",
              "    </tr>\n",
              "    <tr>\n",
              "      <th>4</th>\n",
              "      <td>5</td>\n",
              "      <td>2017</td>\n",
              "      <td>Bangalore</td>\n",
              "      <td>2017-04-08</td>\n",
              "      <td>Royal Challengers Bangalore</td>\n",
              "      <td>Delhi Daredevils</td>\n",
              "      <td>Royal Challengers Bangalore</td>\n",
              "      <td>bat</td>\n",
              "      <td>normal</td>\n",
              "      <td>0</td>\n",
              "      <td>Royal Challengers Bangalore</td>\n",
              "      <td>15</td>\n",
              "      <td>0</td>\n",
              "      <td>KM Jadhav</td>\n",
              "      <td>M Chinnaswamy Stadium</td>\n",
              "      <td>NaN</td>\n",
              "      <td>NaN</td>\n",
              "      <td>NaN</td>\n",
              "    </tr>\n",
              "  </tbody>\n",
              "</table>\n",
              "</div>"
            ],
            "text/plain": [
              "   id  season       city  ...         umpire1        umpire2 umpire3\n",
              "0   1    2017  Hyderabad  ...     AY Dandekar       NJ Llong     NaN\n",
              "1   2    2017       Pune  ...  A Nand Kishore         S Ravi     NaN\n",
              "2   3    2017     Rajkot  ...     Nitin Menon      CK Nandan     NaN\n",
              "3   4    2017     Indore  ...    AK Chaudhary  C Shamshuddin     NaN\n",
              "4   5    2017  Bangalore  ...             NaN            NaN     NaN\n",
              "\n",
              "[5 rows x 18 columns]"
            ]
          },
          "metadata": {
            "tags": []
          },
          "execution_count": 5
        }
      ]
    },
    {
      "cell_type": "code",
      "metadata": {
        "id": "fcRV_Cbp89Ab",
        "colab_type": "code",
        "outputId": "79f0b2b7-34aa-4551-95af-45d6b4ff94fd",
        "colab": {
          "base_uri": "https://localhost:8080/",
          "height": 34
        }
      },
      "source": [
        "!ls"
      ],
      "execution_count": 0,
      "outputs": [
        {
          "output_type": "stream",
          "text": [
            "sample_data\n"
          ],
          "name": "stdout"
        }
      ]
    },
    {
      "cell_type": "code",
      "metadata": {
        "id": "czYJkgnJ9CpP",
        "colab_type": "code",
        "outputId": "347371ae-fbd3-4db4-8051-425c9842cde5",
        "colab": {
          "base_uri": "https://localhost:8080/",
          "height": 178
        }
      },
      "source": [
        "import io\n",
        "df2 = pd.read_csv(io.BytesIO(upload['SampleData.csv']))"
      ],
      "execution_count": 0,
      "outputs": [
        {
          "output_type": "error",
          "ename": "KeyError",
          "evalue": "ignored",
          "traceback": [
            "\u001b[0;31m---------------------------------------------------------------------------\u001b[0m",
            "\u001b[0;31mKeyError\u001b[0m                                  Traceback (most recent call last)",
            "\u001b[0;32m<ipython-input-7-39fc0ba65a7b>\u001b[0m in \u001b[0;36m<module>\u001b[0;34m()\u001b[0m\n\u001b[1;32m      1\u001b[0m \u001b[0;32mimport\u001b[0m \u001b[0mio\u001b[0m\u001b[0;34m\u001b[0m\u001b[0;34m\u001b[0m\u001b[0m\n\u001b[0;32m----> 2\u001b[0;31m \u001b[0mdf2\u001b[0m \u001b[0;34m=\u001b[0m \u001b[0mpd\u001b[0m\u001b[0;34m.\u001b[0m\u001b[0mread_csv\u001b[0m\u001b[0;34m(\u001b[0m\u001b[0mio\u001b[0m\u001b[0;34m.\u001b[0m\u001b[0mBytesIO\u001b[0m\u001b[0;34m(\u001b[0m\u001b[0mupload\u001b[0m\u001b[0;34m[\u001b[0m\u001b[0;34m'SampleData.csv'\u001b[0m\u001b[0;34m]\u001b[0m\u001b[0;34m)\u001b[0m\u001b[0;34m)\u001b[0m\u001b[0;34m\u001b[0m\u001b[0;34m\u001b[0m\u001b[0m\n\u001b[0m",
            "\u001b[0;31mKeyError\u001b[0m: 'SampleData.csv'"
          ]
        }
      ]
    },
    {
      "cell_type": "markdown",
      "metadata": {
        "id": "HifcGu9XAIvx",
        "colab_type": "text"
      },
      "source": [
        ""
      ]
    },
    {
      "cell_type": "code",
      "metadata": {
        "id": "k6Sb5wll_gd3",
        "colab_type": "code",
        "colab": {}
      },
      "source": [
        "upload"
      ],
      "execution_count": 0,
      "outputs": []
    },
    {
      "cell_type": "code",
      "metadata": {
        "id": "p0bts7UBAB5a",
        "colab_type": "code",
        "colab": {}
      },
      "source": [
        "import numpy as np\n",
        "a = np.array([[1,2,3 , np.nan],[4,5,6,8]]) \n",
        "#print (a.shape)\n",
        "#print(a.size)\n",
        "#print(type(a))"
      ],
      "execution_count": 0,
      "outputs": []
    },
    {
      "cell_type": "code",
      "metadata": {
        "id": "_hqxx2IqAeQJ",
        "colab_type": "code",
        "outputId": "e931419a-aec9-4ebf-ea52-f35cf101eb62",
        "colab": {
          "base_uri": "https://localhost:8080/",
          "height": 34
        }
      },
      "source": [
        "a.shape"
      ],
      "execution_count": 0,
      "outputs": [
        {
          "output_type": "execute_result",
          "data": {
            "text/plain": [
              "(2, 4)"
            ]
          },
          "metadata": {
            "tags": []
          },
          "execution_count": 9
        }
      ]
    },
    {
      "cell_type": "code",
      "metadata": {
        "id": "pdJpJybGAf5M",
        "colab_type": "code",
        "colab": {}
      },
      "source": [
        "import numpy as np\n",
        "import pandas as pd\n",
        "import matplotlib.pyplot as plt\n",
        "import seaborn as sns\n",
        "sns.set(style=\"darkgrid\")\n",
        "\n",
        "%matplotlib inline"
      ],
      "execution_count": 0,
      "outputs": []
    },
    {
      "cell_type": "code",
      "metadata": {
        "id": "_R5Y4HpJAsn7",
        "colab_type": "code",
        "colab": {}
      },
      "source": [
        "tips = sns.load_dataset(\"tips\")"
      ],
      "execution_count": 0,
      "outputs": []
    },
    {
      "cell_type": "code",
      "metadata": {
        "id": "KkyVCMtUBuu8",
        "colab_type": "code",
        "outputId": "1828d4d3-8799-402b-f4c1-ddaaad6b4d8a",
        "colab": {
          "base_uri": "https://localhost:8080/",
          "height": 332
        }
      },
      "source": [
        "tips.groupby(by = 'sex')['smoker'].count().plot(kind = 'bar' , color = 'navy')\n",
        "plt.title('Gender Based Smoking Statistics')\n",
        "plt.ylabel('Count of Smokers')\n",
        "plt.xlabel('Gender')\n",
        "plt.show()"
      ],
      "execution_count": 0,
      "outputs": [
        {
          "output_type": "display_data",
          "data": {
            "image/png": "[encoded data removed]",
            "text/plain": [
              "<Figure size 432x288 with 1 Axes>"
            ]
          },
          "metadata": {
            "tags": []
          }
        }
      ]
    },
    {
      "cell_type": "code",
      "metadata": {
        "id": "phAK4kcRDTvF",
        "colab_type": "code",
        "outputId": "00ae8bb3-32f1-4f55-dc88-814700fc41e7",
        "colab": {
          "base_uri": "https://localhost:8080/",
          "height": 290
        }
      },
      "source": [
        "tips['total_bill'].plot(kind = 'hist')"
      ],
      "execution_count": 0,
      "outputs": [
        {
          "output_type": "execute_result",
          "data": {
            "text/plain": [
              "<matplotlib.axes._subplots.AxesSubplot at 0x7fa215b9d588>"
            ]
          },
          "metadata": {
            "tags": []
          },
          "execution_count": 13
        },
        {
          "output_type": "display_data",
          "data": {
            "image/png": "[encoded data removed]",
            "text/plain": [
              "<Figure size 432x288 with 1 Axes>"
            ]
          },
          "metadata": {
            "tags": []
          }
        }
      ]
    },
    {
      "cell_type": "code",
      "metadata": {
        "id": "muGIJzNiHDfW",
        "colab_type": "code",
        "outputId": "10463dd5-db83-42fa-8ec7-150488fadd55",
        "colab": {
          "base_uri": "https://localhost:8080/",
          "height": 134
        }
      },
      "source": [
        "tips['size'].value_counts()"
      ],
      "execution_count": 0,
      "outputs": [
        {
          "output_type": "execute_result",
          "data": {
            "text/plain": [
              "2    156\n",
              "3     38\n",
              "4     37\n",
              "5      5\n",
              "6      4\n",
              "1      4\n",
              "Name: size, dtype: int64"
            ]
          },
          "metadata": {
            "tags": []
          },
          "execution_count": 14
        }
      ]
    },
    {
      "cell_type": "code",
      "metadata": {
        "id": "1lH8flDTLhvv",
        "colab_type": "code",
        "outputId": "d30bc069-a8bc-45cd-80f4-795269185fc3",
        "colab": {
          "base_uri": "https://localhost:8080/",
          "height": 306
        }
      },
      "source": [
        "tips.boxplot(by = 'sex' , column='tip')\n",
        "plt.show()"
      ],
      "execution_count": 0,
      "outputs": [
        {
          "output_type": "display_data",
          "data": {
            "image/png": "[encoded data removed]",
            "text/plain": [
              "<Figure size 432x288 with 1 Axes>"
            ]
          },
          "metadata": {
            "tags": []
          }
        }
      ]
    },
    {
      "cell_type": "code",
      "metadata": {
        "id": "SAxsrDbMOHyf",
        "colab_type": "code",
        "outputId": "1e16e8de-bcc7-440e-b349-a11dc93652fc",
        "colab": {
          "base_uri": "https://localhost:8080/",
          "height": 84
        }
      },
      "source": [
        "tips.groupby('sex')['tip'].mean()"
      ],
      "execution_count": 0,
      "outputs": [
        {
          "output_type": "execute_result",
          "data": {
            "text/plain": [
              "sex\n",
              "Male      3.089618\n",
              "Female    2.833448\n",
              "Name: tip, dtype: float64"
            ]
          },
          "metadata": {
            "tags": []
          },
          "execution_count": 16
        }
      ]
    },
    {
      "cell_type": "code",
      "metadata": {
        "id": "RdTDXd0GQCIo",
        "colab_type": "code",
        "outputId": "e7cd7c58-1e0a-4406-f620-efb9c3b5c8bd",
        "colab": {
          "base_uri": "https://localhost:8080/",
          "height": 84
        }
      },
      "source": [
        "tips.groupby('sex')['tip'].min()"
      ],
      "execution_count": 0,
      "outputs": [
        {
          "output_type": "execute_result",
          "data": {
            "text/plain": [
              "sex\n",
              "Male      1.0\n",
              "Female    1.0\n",
              "Name: tip, dtype: float64"
            ]
          },
          "metadata": {
            "tags": []
          },
          "execution_count": 17
        }
      ]
    },
    {
      "cell_type": "code",
      "metadata": {
        "id": "pLmV4NCOQHiT",
        "colab_type": "code",
        "outputId": "900bb4d0-b88c-4b1f-991d-8b793080101b",
        "colab": {
          "base_uri": "https://localhost:8080/",
          "height": 84
        }
      },
      "source": [
        "tips.groupby('sex')['tip'].max()"
      ],
      "execution_count": 0,
      "outputs": [
        {
          "output_type": "execute_result",
          "data": {
            "text/plain": [
              "sex\n",
              "Male      10.0\n",
              "Female     6.5\n",
              "Name: tip, dtype: float64"
            ]
          },
          "metadata": {
            "tags": []
          },
          "execution_count": 18
        }
      ]
    },
    {
      "cell_type": "code",
      "metadata": {
        "id": "PbU1IIOIQIQn",
        "colab_type": "code",
        "outputId": "437886d5-8cb0-455a-e510-180b3c590c98",
        "colab": {
          "base_uri": "https://localhost:8080/",
          "height": 291
        }
      },
      "source": [
        "plt.scatter(tips['total_bill'] , tips['tip'] , alpha= 0.4)\n",
        "plt.xlabel('Total Bills')\n",
        "plt.ylabel('Tips')\n",
        "plt.show()"
      ],
      "execution_count": 0,
      "outputs": [
        {
          "output_type": "display_data",
          "data": {
            "image/png": "[encoded data removed]",
            "text/plain": [
              "<Figure size 432x288 with 1 Axes>"
            ]
          },
          "metadata": {
            "tags": []
          }
        }
      ]
    },
    {
      "cell_type": "code",
      "metadata": {
        "id": "X4wjW_fQLe3_",
        "colab_type": "code",
        "outputId": "48876aea-cb52-493a-fe91-29b0fd096095",
        "colab": {
          "base_uri": "https://localhost:8080/",
          "height": 195
        }
      },
      "source": [
        "tips.head()"
      ],
      "execution_count": 0,
      "outputs": [
        {
          "output_type": "execute_result",
          "data": {
            "text/html": [
              "<div>\n",
              "<style scoped>\n",
              "    .dataframe tbody tr th:only-of-type {\n",
              "        vertical-align: middle;\n",
              "    }\n",
              "\n",
              "    .dataframe tbody tr th {\n",
              "        vertical-align: top;\n",
              "    }\n",
              "\n",
              "    .dataframe thead th {\n",
              "        text-align: right;\n",
              "    }\n",
              "</style>\n",
              "<table border=\"1\" class=\"dataframe\">\n",
              "  <thead>\n",
              "    <tr style=\"text-align: right;\">\n",
              "      <th></th>\n",
              "      <th>total_bill</th>\n",
              "      <th>tip</th>\n",
              "      <th>sex</th>\n",
              "      <th>smoker</th>\n",
              "      <th>day</th>\n",
              "      <th>time</th>\n",
              "      <th>size</th>\n",
              "    </tr>\n",
              "  </thead>\n",
              "  <tbody>\n",
              "    <tr>\n",
              "      <th>0</th>\n",
              "      <td>16.99</td>\n",
              "      <td>1.01</td>\n",
              "      <td>Female</td>\n",
              "      <td>No</td>\n",
              "      <td>Sun</td>\n",
              "      <td>Dinner</td>\n",
              "      <td>2</td>\n",
              "    </tr>\n",
              "    <tr>\n",
              "      <th>1</th>\n",
              "      <td>10.34</td>\n",
              "      <td>1.66</td>\n",
              "      <td>Male</td>\n",
              "      <td>No</td>\n",
              "      <td>Sun</td>\n",
              "      <td>Dinner</td>\n",
              "      <td>3</td>\n",
              "    </tr>\n",
              "    <tr>\n",
              "      <th>2</th>\n",
              "      <td>21.01</td>\n",
              "      <td>3.50</td>\n",
              "      <td>Male</td>\n",
              "      <td>No</td>\n",
              "      <td>Sun</td>\n",
              "      <td>Dinner</td>\n",
              "      <td>3</td>\n",
              "    </tr>\n",
              "    <tr>\n",
              "      <th>3</th>\n",
              "      <td>23.68</td>\n",
              "      <td>3.31</td>\n",
              "      <td>Male</td>\n",
              "      <td>No</td>\n",
              "      <td>Sun</td>\n",
              "      <td>Dinner</td>\n",
              "      <td>2</td>\n",
              "    </tr>\n",
              "    <tr>\n",
              "      <th>4</th>\n",
              "      <td>24.59</td>\n",
              "      <td>3.61</td>\n",
              "      <td>Female</td>\n",
              "      <td>No</td>\n",
              "      <td>Sun</td>\n",
              "      <td>Dinner</td>\n",
              "      <td>4</td>\n",
              "    </tr>\n",
              "  </tbody>\n",
              "</table>\n",
              "</div>"
            ],
            "text/plain": [
              "   total_bill   tip     sex smoker  day    time  size\n",
              "0       16.99  1.01  Female     No  Sun  Dinner     2\n",
              "1       10.34  1.66    Male     No  Sun  Dinner     3\n",
              "2       21.01  3.50    Male     No  Sun  Dinner     3\n",
              "3       23.68  3.31    Male     No  Sun  Dinner     2\n",
              "4       24.59  3.61  Female     No  Sun  Dinner     4"
            ]
          },
          "metadata": {
            "tags": []
          },
          "execution_count": 19
        }
      ]
    },
    {
      "cell_type": "code",
      "metadata": {
        "id": "-9eTIat6Lf4C",
        "colab_type": "code",
        "outputId": "d7d99b62-b0dd-4603-86db-af4c1ef1647c",
        "colab": {
          "base_uri": "https://localhost:8080/",
          "height": 291
        }
      },
      "source": [
        "sns.swarmplot('smoker', 'tip','sex' ,data=tips)\n",
        "sns.despine()"
      ],
      "execution_count": 0,
      "outputs": [
        {
          "output_type": "display_data",
          "data": {
            "image/png": "[encoded data removed]",
            "text/plain": [
              "<Figure size 432x288 with 1 Axes>"
            ]
          },
          "metadata": {
            "tags": []
          }
        }
      ]
    },
    {
      "cell_type": "code",
      "metadata": {
        "id": "uuSWBJyFMkZo",
        "colab_type": "code",
        "outputId": "cdfee9a4-c8c6-4d90-86cd-d912934b5550",
        "colab": {
          "base_uri": "https://localhost:8080/",
          "height": 386
        }
      },
      "source": [
        "sns.lmplot('total_bill','tip' , hue = 'sex' , data=tips)"
      ],
      "execution_count": 0,
      "outputs": [
        {
          "output_type": "execute_result",
          "data": {
            "text/plain": [
              "<seaborn.axisgrid.FacetGrid at 0x7fa210866048>"
            ]
          },
          "metadata": {
            "tags": []
          },
          "execution_count": 48
        },
        {
          "output_type": "display_data",
          "data": {
            "image/png": "[encoded data removed]",
            "text/plain": [
              "<Figure size 440.35x360 with 1 Axes>"
            ]
          },
          "metadata": {
            "tags": []
          }
        }
      ]
    },
    {
      "cell_type": "code",
      "metadata": {
        "id": "HnQJUqK7OJKY",
        "colab_type": "code",
        "outputId": "1356936e-2552-4390-b896-8c18d35e5e88",
        "colab": {
          "base_uri": "https://localhost:8080/",
          "height": 386
        }
      },
      "source": [
        "sns.lmplot('total_bill','tip' , hue ='sex' , col= 'smoker', data=tips)"
      ],
      "execution_count": 0,
      "outputs": [
        {
          "output_type": "execute_result",
          "data": {
            "text/plain": [
              "<seaborn.axisgrid.FacetGrid at 0x7fa20ed53ac8>"
            ]
          },
          "metadata": {
            "tags": []
          },
          "execution_count": 54
        },
        {
          "output_type": "display_data",
          "data": {
            "image/png": "[encoded data removed]",
            "text/plain": [
              "<Figure size 800.35x360 with 2 Axes>"
            ]
          },
          "metadata": {
            "tags": []
          }
        }
      ]
    },
    {
      "cell_type": "code",
      "metadata": {
        "id": "dpqMzgQdOZty",
        "colab_type": "code",
        "colab": {}
      },
      "source": [
        ""
      ],
      "execution_count": 0,
      "outputs": []
    },
    {
      "cell_type": "code",
      "metadata": {
        "id": "lZ6XGjzrP5nZ",
        "colab_type": "code",
        "colab": {}
      },
      "source": [
        "import pandas as pd\n",
        "import numpy as np"
      ],
      "execution_count": 0,
      "outputs": []
    },
    {
      "cell_type": "code",
      "metadata": {
        "id": "U4LinUIQrYy7",
        "colab_type": "code",
        "colab": {
          "base_uri": "https://localhost:8080/",
          "height": 280
        },
        "outputId": "1d022a75-4d75-486b-9c9b-d880115515fc"
      },
      "source": [
        "!pip install googlefinance.get"
      ],
      "execution_count": 2,
      "outputs": [
        {
          "output_type": "stream",
          "text": [
            "Collecting googlefinance.get\n",
            "  Downloading https://files.pythonhosted.org/packages/36/b4/b107f896e21f91443871cdd522b646a90b22dd8651defdf947bb8d96d066/googlefinance.get-0.4.9-py2.py3-none-any.whl\n",
            "Requirement already satisfied: requests in /usr/local/lib/python3.6/dist-packages (from googlefinance.get) (2.21.0)\n",
            "Requirement already satisfied: pandas in /usr/local/lib/python3.6/dist-packages (from googlefinance.get) (0.24.2)\n",
            "Requirement already satisfied: certifi>=2017.4.17 in /usr/local/lib/python3.6/dist-packages (from requests->googlefinance.get) (2019.3.9)\n",
            "Requirement already satisfied: chardet<3.1.0,>=3.0.2 in /usr/local/lib/python3.6/dist-packages (from requests->googlefinance.get) (3.0.4)\n",
            "Requirement already satisfied: urllib3<1.25,>=1.21.1 in /usr/local/lib/python3.6/dist-packages (from requests->googlefinance.get) (1.24.3)\n",
            "Requirement already satisfied: idna<2.9,>=2.5 in /usr/local/lib/python3.6/dist-packages (from requests->googlefinance.get) (2.8)\n",
            "Requirement already satisfied: numpy>=1.12.0 in /usr/local/lib/python3.6/dist-packages (from pandas->googlefinance.get) (1.16.4)\n",
            "Requirement already satisfied: pytz>=2011k in /usr/local/lib/python3.6/dist-packages (from pandas->googlefinance.get) (2018.9)\n",
            "Requirement already satisfied: python-dateutil>=2.5.0 in /usr/local/lib/python3.6/dist-packages (from pandas->googlefinance.get) (2.5.3)\n",
            "Requirement already satisfied: six>=1.5 in /usr/local/lib/python3.6/dist-packages (from python-dateutil>=2.5.0->pandas->googlefinance.get) (1.12.0)\n",
            "Installing collected packages: googlefinance.get\n",
            "Successfully installed googlefinance.get-0.4.9\n"
          ],
          "name": "stdout"
        }
      ]
    },
    {
      "cell_type": "code",
      "metadata": {
        "id": "AqpNVTmVtkXY",
        "colab_type": "code",
        "colab": {}
      },
      "source": [
        "\n",
        "from googlefinance.get import get_code"
      ],
      "execution_count": 0,
      "outputs": []
    },
    {
      "cell_type": "code",
      "metadata": {
        "id": "rxz72YQTtrnI",
        "colab_type": "code",
        "colab": {}
      },
      "source": [
        "df= pd.read_csv('LTI.NS (2).csv')"
      ],
      "execution_count": 0,
      "outputs": []
    },
    {
      "cell_type": "code",
      "metadata": {
        "id": "PIGgMO-Pt4pH",
        "colab_type": "code",
        "colab": {
          "base_uri": "https://localhost:8080/",
          "height": 202
        },
        "outputId": "91fdd09a-7cef-4852-e5ba-243cfcedf318"
      },
      "source": [
        "df.head()"
      ],
      "execution_count": 13,
      "outputs": [
        {
          "output_type": "execute_result",
          "data": {
            "text/html": [
              "<div>\n",
              "<style scoped>\n",
              "    .dataframe tbody tr th:only-of-type {\n",
              "        vertical-align: middle;\n",
              "    }\n",
              "\n",
              "    .dataframe tbody tr th {\n",
              "        vertical-align: top;\n",
              "    }\n",
              "\n",
              "    .dataframe thead th {\n",
              "        text-align: right;\n",
              "    }\n",
              "</style>\n",
              "<table border=\"1\" class=\"dataframe\">\n",
              "  <thead>\n",
              "    <tr style=\"text-align: right;\">\n",
              "      <th></th>\n",
              "      <th>Date</th>\n",
              "      <th>Open</th>\n",
              "      <th>High</th>\n",
              "      <th>Low</th>\n",
              "      <th>Close</th>\n",
              "      <th>Adj Close</th>\n",
              "      <th>Volume</th>\n",
              "    </tr>\n",
              "  </thead>\n",
              "  <tbody>\n",
              "    <tr>\n",
              "      <th>0</th>\n",
              "      <td>2018-06-19</td>\n",
              "      <td>NaN</td>\n",
              "      <td>NaN</td>\n",
              "      <td>NaN</td>\n",
              "      <td>NaN</td>\n",
              "      <td>NaN</td>\n",
              "      <td>NaN</td>\n",
              "    </tr>\n",
              "    <tr>\n",
              "      <th>1</th>\n",
              "      <td>2018-06-20</td>\n",
              "      <td>1697.949951</td>\n",
              "      <td>1697.949951</td>\n",
              "      <td>1666.000000</td>\n",
              "      <td>1671.050049</td>\n",
              "      <td>1645.703857</td>\n",
              "      <td>44209.0</td>\n",
              "    </tr>\n",
              "    <tr>\n",
              "      <th>2</th>\n",
              "      <td>2018-06-21</td>\n",
              "      <td>1667.000000</td>\n",
              "      <td>1694.800049</td>\n",
              "      <td>1656.900024</td>\n",
              "      <td>1686.400024</td>\n",
              "      <td>1660.821045</td>\n",
              "      <td>45080.0</td>\n",
              "    </tr>\n",
              "    <tr>\n",
              "      <th>3</th>\n",
              "      <td>2018-06-22</td>\n",
              "      <td>1688.000000</td>\n",
              "      <td>1714.400024</td>\n",
              "      <td>1665.000000</td>\n",
              "      <td>1673.300049</td>\n",
              "      <td>1647.919800</td>\n",
              "      <td>124995.0</td>\n",
              "    </tr>\n",
              "    <tr>\n",
              "      <th>4</th>\n",
              "      <td>2018-06-25</td>\n",
              "      <td>1673.000000</td>\n",
              "      <td>1695.000000</td>\n",
              "      <td>1655.000000</td>\n",
              "      <td>1662.150024</td>\n",
              "      <td>1636.938843</td>\n",
              "      <td>63432.0</td>\n",
              "    </tr>\n",
              "  </tbody>\n",
              "</table>\n",
              "</div>"
            ],
            "text/plain": [
              "         Date         Open         High  ...        Close    Adj Close    Volume\n",
              "0  2018-06-19          NaN          NaN  ...          NaN          NaN       NaN\n",
              "1  2018-06-20  1697.949951  1697.949951  ...  1671.050049  1645.703857   44209.0\n",
              "2  2018-06-21  1667.000000  1694.800049  ...  1686.400024  1660.821045   45080.0\n",
              "3  2018-06-22  1688.000000  1714.400024  ...  1673.300049  1647.919800  124995.0\n",
              "4  2018-06-25  1673.000000  1695.000000  ...  1662.150024  1636.938843   63432.0\n",
              "\n",
              "[5 rows x 7 columns]"
            ]
          },
          "metadata": {
            "tags": []
          },
          "execution_count": 13
        }
      ]
    },
    {
      "cell_type": "code",
      "metadata": {
        "id": "RAmLRC9qugK9",
        "colab_type": "code",
        "colab": {
          "base_uri": "https://localhost:8080/",
          "height": 156
        },
        "outputId": "219137a4-594b-4ed5-b983-767a57447563"
      },
      "source": [
        "df.dtypes"
      ],
      "execution_count": 14,
      "outputs": [
        {
          "output_type": "execute_result",
          "data": {
            "text/plain": [
              "Date          object\n",
              "Open         float64\n",
              "High         float64\n",
              "Low          float64\n",
              "Close        float64\n",
              "Adj Close    float64\n",
              "Volume       float64\n",
              "dtype: object"
            ]
          },
          "metadata": {
            "tags": []
          },
          "execution_count": 14
        }
      ]
    },
    {
      "cell_type": "code",
      "metadata": {
        "id": "6Yw7wX8eumxd",
        "colab_type": "code",
        "colab": {
          "base_uri": "https://localhost:8080/",
          "height": 1949
        },
        "outputId": "f23b4fb0-442a-429c-8258-67441e06a039"
      },
      "source": [
        "df.sort_values(by = 'Date', ascending = False)"
      ],
      "execution_count": 15,
      "outputs": [
        {
          "output_type": "execute_result",
          "data": {
            "text/html": [
              "<div>\n",
              "<style scoped>\n",
              "    .dataframe tbody tr th:only-of-type {\n",
              "        vertical-align: middle;\n",
              "    }\n",
              "\n",
              "    .dataframe tbody tr th {\n",
              "        vertical-align: top;\n",
              "    }\n",
              "\n",
              "    .dataframe thead th {\n",
              "        text-align: right;\n",
              "    }\n",
              "</style>\n",
              "<table border=\"1\" class=\"dataframe\">\n",
              "  <thead>\n",
              "    <tr style=\"text-align: right;\">\n",
              "      <th></th>\n",
              "      <th>Date</th>\n",
              "      <th>Open</th>\n",
              "      <th>High</th>\n",
              "      <th>Low</th>\n",
              "      <th>Close</th>\n",
              "      <th>Adj Close</th>\n",
              "      <th>Volume</th>\n",
              "    </tr>\n",
              "  </thead>\n",
              "  <tbody>\n",
              "    <tr>\n",
              "      <th>243</th>\n",
              "      <td>2019-06-19</td>\n",
              "      <td>1748.000000</td>\n",
              "      <td>1760.050049</td>\n",
              "      <td>1728.849976</td>\n",
              "      <td>1734.099976</td>\n",
              "      <td>1734.099976</td>\n",
              "      <td>61117.0</td>\n",
              "    </tr>\n",
              "    <tr>\n",
              "      <th>242</th>\n",
              "      <td>2019-06-18</td>\n",
              "      <td>1774.949951</td>\n",
              "      <td>1774.949951</td>\n",
              "      <td>1740.000000</td>\n",
              "      <td>1746.300049</td>\n",
              "      <td>1746.300049</td>\n",
              "      <td>74979.0</td>\n",
              "    </tr>\n",
              "    <tr>\n",
              "      <th>241</th>\n",
              "      <td>2019-06-17</td>\n",
              "      <td>1778.000000</td>\n",
              "      <td>1789.000000</td>\n",
              "      <td>1764.000000</td>\n",
              "      <td>1767.250000</td>\n",
              "      <td>1767.250000</td>\n",
              "      <td>176830.0</td>\n",
              "    </tr>\n",
              "    <tr>\n",
              "      <th>240</th>\n",
              "      <td>2019-06-14</td>\n",
              "      <td>1760.000000</td>\n",
              "      <td>1790.949951</td>\n",
              "      <td>1760.000000</td>\n",
              "      <td>1772.250000</td>\n",
              "      <td>1772.250000</td>\n",
              "      <td>448513.0</td>\n",
              "    </tr>\n",
              "    <tr>\n",
              "      <th>239</th>\n",
              "      <td>2019-06-13</td>\n",
              "      <td>1790.000000</td>\n",
              "      <td>1794.000000</td>\n",
              "      <td>1750.000000</td>\n",
              "      <td>1759.400024</td>\n",
              "      <td>1759.400024</td>\n",
              "      <td>110310.0</td>\n",
              "    </tr>\n",
              "    <tr>\n",
              "      <th>238</th>\n",
              "      <td>2019-06-12</td>\n",
              "      <td>1802.800049</td>\n",
              "      <td>1809.849976</td>\n",
              "      <td>1787.000000</td>\n",
              "      <td>1789.449951</td>\n",
              "      <td>1789.449951</td>\n",
              "      <td>53091.0</td>\n",
              "    </tr>\n",
              "    <tr>\n",
              "      <th>237</th>\n",
              "      <td>2019-06-11</td>\n",
              "      <td>1799.949951</td>\n",
              "      <td>1824.000000</td>\n",
              "      <td>1787.800049</td>\n",
              "      <td>1801.949951</td>\n",
              "      <td>1801.949951</td>\n",
              "      <td>322557.0</td>\n",
              "    </tr>\n",
              "    <tr>\n",
              "      <th>236</th>\n",
              "      <td>2019-06-10</td>\n",
              "      <td>1816.000000</td>\n",
              "      <td>1817.250000</td>\n",
              "      <td>1773.050049</td>\n",
              "      <td>1797.400024</td>\n",
              "      <td>1797.400024</td>\n",
              "      <td>149612.0</td>\n",
              "    </tr>\n",
              "    <tr>\n",
              "      <th>235</th>\n",
              "      <td>2019-06-07</td>\n",
              "      <td>1790.150024</td>\n",
              "      <td>1822.949951</td>\n",
              "      <td>1777.199951</td>\n",
              "      <td>1805.150024</td>\n",
              "      <td>1805.150024</td>\n",
              "      <td>123921.0</td>\n",
              "    </tr>\n",
              "    <tr>\n",
              "      <th>234</th>\n",
              "      <td>2019-06-06</td>\n",
              "      <td>1779.300049</td>\n",
              "      <td>1794.900024</td>\n",
              "      <td>1772.500000</td>\n",
              "      <td>1780.900024</td>\n",
              "      <td>1780.900024</td>\n",
              "      <td>106861.0</td>\n",
              "    </tr>\n",
              "    <tr>\n",
              "      <th>233</th>\n",
              "      <td>2019-06-04</td>\n",
              "      <td>1788.000000</td>\n",
              "      <td>1800.000000</td>\n",
              "      <td>1770.099976</td>\n",
              "      <td>1775.199951</td>\n",
              "      <td>1775.199951</td>\n",
              "      <td>74910.0</td>\n",
              "    </tr>\n",
              "    <tr>\n",
              "      <th>232</th>\n",
              "      <td>2019-06-03</td>\n",
              "      <td>1775.400024</td>\n",
              "      <td>1816.699951</td>\n",
              "      <td>1766.099976</td>\n",
              "      <td>1788.250000</td>\n",
              "      <td>1788.250000</td>\n",
              "      <td>88003.0</td>\n",
              "    </tr>\n",
              "    <tr>\n",
              "      <th>231</th>\n",
              "      <td>2019-05-31</td>\n",
              "      <td>1830.000000</td>\n",
              "      <td>1840.000000</td>\n",
              "      <td>1775.000000</td>\n",
              "      <td>1785.050049</td>\n",
              "      <td>1785.050049</td>\n",
              "      <td>129078.0</td>\n",
              "    </tr>\n",
              "    <tr>\n",
              "      <th>230</th>\n",
              "      <td>2019-05-30</td>\n",
              "      <td>1823.099976</td>\n",
              "      <td>1858.000000</td>\n",
              "      <td>1786.000000</td>\n",
              "      <td>1824.750000</td>\n",
              "      <td>1824.750000</td>\n",
              "      <td>266529.0</td>\n",
              "    </tr>\n",
              "    <tr>\n",
              "      <th>229</th>\n",
              "      <td>2019-05-29</td>\n",
              "      <td>1778.000000</td>\n",
              "      <td>1836.000000</td>\n",
              "      <td>1765.650024</td>\n",
              "      <td>1825.949951</td>\n",
              "      <td>1825.949951</td>\n",
              "      <td>261250.0</td>\n",
              "    </tr>\n",
              "    <tr>\n",
              "      <th>228</th>\n",
              "      <td>2019-05-28</td>\n",
              "      <td>1739.699951</td>\n",
              "      <td>1805.000000</td>\n",
              "      <td>1735.000000</td>\n",
              "      <td>1783.250000</td>\n",
              "      <td>1783.250000</td>\n",
              "      <td>353289.0</td>\n",
              "    </tr>\n",
              "    <tr>\n",
              "      <th>227</th>\n",
              "      <td>2019-05-27</td>\n",
              "      <td>1754.949951</td>\n",
              "      <td>1764.000000</td>\n",
              "      <td>1716.900024</td>\n",
              "      <td>1729.349976</td>\n",
              "      <td>1729.349976</td>\n",
              "      <td>145947.0</td>\n",
              "    </tr>\n",
              "    <tr>\n",
              "      <th>226</th>\n",
              "      <td>2019-05-24</td>\n",
              "      <td>1758.000000</td>\n",
              "      <td>1775.949951</td>\n",
              "      <td>1741.500000</td>\n",
              "      <td>1755.349976</td>\n",
              "      <td>1755.349976</td>\n",
              "      <td>299222.0</td>\n",
              "    </tr>\n",
              "    <tr>\n",
              "      <th>225</th>\n",
              "      <td>2019-05-23</td>\n",
              "      <td>1782.000000</td>\n",
              "      <td>1784.949951</td>\n",
              "      <td>1751.300049</td>\n",
              "      <td>1759.949951</td>\n",
              "      <td>1759.949951</td>\n",
              "      <td>66152.0</td>\n",
              "    </tr>\n",
              "    <tr>\n",
              "      <th>224</th>\n",
              "      <td>2019-05-22</td>\n",
              "      <td>1771.150024</td>\n",
              "      <td>1792.000000</td>\n",
              "      <td>1760.000000</td>\n",
              "      <td>1781.199951</td>\n",
              "      <td>1781.199951</td>\n",
              "      <td>290008.0</td>\n",
              "    </tr>\n",
              "    <tr>\n",
              "      <th>223</th>\n",
              "      <td>2019-05-21</td>\n",
              "      <td>1764.900024</td>\n",
              "      <td>1785.000000</td>\n",
              "      <td>1759.000000</td>\n",
              "      <td>1778.300049</td>\n",
              "      <td>1778.300049</td>\n",
              "      <td>136473.0</td>\n",
              "    </tr>\n",
              "    <tr>\n",
              "      <th>222</th>\n",
              "      <td>2019-05-20</td>\n",
              "      <td>1825.000000</td>\n",
              "      <td>1825.000000</td>\n",
              "      <td>1754.000000</td>\n",
              "      <td>1759.599976</td>\n",
              "      <td>1759.599976</td>\n",
              "      <td>216070.0</td>\n",
              "    </tr>\n",
              "    <tr>\n",
              "      <th>221</th>\n",
              "      <td>2019-05-17</td>\n",
              "      <td>1808.000000</td>\n",
              "      <td>1830.000000</td>\n",
              "      <td>1764.000000</td>\n",
              "      <td>1788.199951</td>\n",
              "      <td>1788.199951</td>\n",
              "      <td>173957.0</td>\n",
              "    </tr>\n",
              "    <tr>\n",
              "      <th>220</th>\n",
              "      <td>2019-05-16</td>\n",
              "      <td>1763.900024</td>\n",
              "      <td>1815.000000</td>\n",
              "      <td>1729.250000</td>\n",
              "      <td>1803.250000</td>\n",
              "      <td>1803.250000</td>\n",
              "      <td>187888.0</td>\n",
              "    </tr>\n",
              "    <tr>\n",
              "      <th>219</th>\n",
              "      <td>2019-05-15</td>\n",
              "      <td>1717.000000</td>\n",
              "      <td>1764.000000</td>\n",
              "      <td>1714.949951</td>\n",
              "      <td>1758.099976</td>\n",
              "      <td>1758.099976</td>\n",
              "      <td>176080.0</td>\n",
              "    </tr>\n",
              "    <tr>\n",
              "      <th>218</th>\n",
              "      <td>2019-05-14</td>\n",
              "      <td>1709.900024</td>\n",
              "      <td>1724.449951</td>\n",
              "      <td>1697.300049</td>\n",
              "      <td>1717.400024</td>\n",
              "      <td>1717.400024</td>\n",
              "      <td>138044.0</td>\n",
              "    </tr>\n",
              "    <tr>\n",
              "      <th>217</th>\n",
              "      <td>2019-05-13</td>\n",
              "      <td>1700.000000</td>\n",
              "      <td>1715.000000</td>\n",
              "      <td>1692.650024</td>\n",
              "      <td>1710.300049</td>\n",
              "      <td>1710.300049</td>\n",
              "      <td>67070.0</td>\n",
              "    </tr>\n",
              "    <tr>\n",
              "      <th>216</th>\n",
              "      <td>2019-05-10</td>\n",
              "      <td>1688.099976</td>\n",
              "      <td>1705.000000</td>\n",
              "      <td>1681.550049</td>\n",
              "      <td>1697.449951</td>\n",
              "      <td>1697.449951</td>\n",
              "      <td>110021.0</td>\n",
              "    </tr>\n",
              "    <tr>\n",
              "      <th>215</th>\n",
              "      <td>2019-05-09</td>\n",
              "      <td>1686.099976</td>\n",
              "      <td>1692.000000</td>\n",
              "      <td>1661.000000</td>\n",
              "      <td>1684.199951</td>\n",
              "      <td>1684.199951</td>\n",
              "      <td>181871.0</td>\n",
              "    </tr>\n",
              "    <tr>\n",
              "      <th>214</th>\n",
              "      <td>2019-05-08</td>\n",
              "      <td>1703.550049</td>\n",
              "      <td>1715.449951</td>\n",
              "      <td>1690.000000</td>\n",
              "      <td>1696.099976</td>\n",
              "      <td>1696.099976</td>\n",
              "      <td>296480.0</td>\n",
              "    </tr>\n",
              "    <tr>\n",
              "      <th>...</th>\n",
              "      <td>...</td>\n",
              "      <td>...</td>\n",
              "      <td>...</td>\n",
              "      <td>...</td>\n",
              "      <td>...</td>\n",
              "      <td>...</td>\n",
              "      <td>...</td>\n",
              "    </tr>\n",
              "    <tr>\n",
              "      <th>29</th>\n",
              "      <td>2018-07-30</td>\n",
              "      <td>1827.949951</td>\n",
              "      <td>1845.800049</td>\n",
              "      <td>1810.150024</td>\n",
              "      <td>1823.500000</td>\n",
              "      <td>1795.841553</td>\n",
              "      <td>174492.0</td>\n",
              "    </tr>\n",
              "    <tr>\n",
              "      <th>28</th>\n",
              "      <td>2018-07-27</td>\n",
              "      <td>1800.000000</td>\n",
              "      <td>1865.000000</td>\n",
              "      <td>1800.000000</td>\n",
              "      <td>1836.599976</td>\n",
              "      <td>1808.742798</td>\n",
              "      <td>360521.0</td>\n",
              "    </tr>\n",
              "    <tr>\n",
              "      <th>27</th>\n",
              "      <td>2018-07-26</td>\n",
              "      <td>1801.000000</td>\n",
              "      <td>1835.000000</td>\n",
              "      <td>1797.000000</td>\n",
              "      <td>1809.949951</td>\n",
              "      <td>1782.496948</td>\n",
              "      <td>151522.0</td>\n",
              "    </tr>\n",
              "    <tr>\n",
              "      <th>26</th>\n",
              "      <td>2018-07-25</td>\n",
              "      <td>1790.000000</td>\n",
              "      <td>1855.000000</td>\n",
              "      <td>1775.000000</td>\n",
              "      <td>1804.500000</td>\n",
              "      <td>1777.129761</td>\n",
              "      <td>424662.0</td>\n",
              "    </tr>\n",
              "    <tr>\n",
              "      <th>25</th>\n",
              "      <td>2018-07-24</td>\n",
              "      <td>1820.000000</td>\n",
              "      <td>1867.000000</td>\n",
              "      <td>1756.000000</td>\n",
              "      <td>1802.699951</td>\n",
              "      <td>1775.356934</td>\n",
              "      <td>709856.0</td>\n",
              "    </tr>\n",
              "    <tr>\n",
              "      <th>24</th>\n",
              "      <td>2018-07-23</td>\n",
              "      <td>1764.000000</td>\n",
              "      <td>1776.000000</td>\n",
              "      <td>1700.000000</td>\n",
              "      <td>1721.199951</td>\n",
              "      <td>1695.093140</td>\n",
              "      <td>206941.0</td>\n",
              "    </tr>\n",
              "    <tr>\n",
              "      <th>23</th>\n",
              "      <td>2018-07-20</td>\n",
              "      <td>1711.000000</td>\n",
              "      <td>1764.000000</td>\n",
              "      <td>1687.300049</td>\n",
              "      <td>1750.949951</td>\n",
              "      <td>1724.391846</td>\n",
              "      <td>143240.0</td>\n",
              "    </tr>\n",
              "    <tr>\n",
              "      <th>22</th>\n",
              "      <td>2018-07-19</td>\n",
              "      <td>1824.849976</td>\n",
              "      <td>1826.849976</td>\n",
              "      <td>1645.449951</td>\n",
              "      <td>1721.750000</td>\n",
              "      <td>1695.634888</td>\n",
              "      <td>413414.0</td>\n",
              "    </tr>\n",
              "    <tr>\n",
              "      <th>21</th>\n",
              "      <td>2018-07-18</td>\n",
              "      <td>1864.900024</td>\n",
              "      <td>1883.500000</td>\n",
              "      <td>1815.000000</td>\n",
              "      <td>1859.199951</td>\n",
              "      <td>1830.999878</td>\n",
              "      <td>157307.0</td>\n",
              "    </tr>\n",
              "    <tr>\n",
              "      <th>20</th>\n",
              "      <td>2018-07-17</td>\n",
              "      <td>1835.000000</td>\n",
              "      <td>1872.000000</td>\n",
              "      <td>1812.750000</td>\n",
              "      <td>1850.449951</td>\n",
              "      <td>1822.382690</td>\n",
              "      <td>132449.0</td>\n",
              "    </tr>\n",
              "    <tr>\n",
              "      <th>19</th>\n",
              "      <td>2018-07-16</td>\n",
              "      <td>1843.300049</td>\n",
              "      <td>1845.000000</td>\n",
              "      <td>1793.550049</td>\n",
              "      <td>1834.500000</td>\n",
              "      <td>1806.674683</td>\n",
              "      <td>158006.0</td>\n",
              "    </tr>\n",
              "    <tr>\n",
              "      <th>18</th>\n",
              "      <td>2018-07-13</td>\n",
              "      <td>1856.000000</td>\n",
              "      <td>1867.000000</td>\n",
              "      <td>1822.650024</td>\n",
              "      <td>1845.750000</td>\n",
              "      <td>1817.754028</td>\n",
              "      <td>346041.0</td>\n",
              "    </tr>\n",
              "    <tr>\n",
              "      <th>17</th>\n",
              "      <td>2018-07-12</td>\n",
              "      <td>1800.000000</td>\n",
              "      <td>1856.000000</td>\n",
              "      <td>1797.699951</td>\n",
              "      <td>1849.550049</td>\n",
              "      <td>1821.496460</td>\n",
              "      <td>308639.0</td>\n",
              "    </tr>\n",
              "    <tr>\n",
              "      <th>16</th>\n",
              "      <td>2018-07-11</td>\n",
              "      <td>1720.000000</td>\n",
              "      <td>1836.699951</td>\n",
              "      <td>1720.000000</td>\n",
              "      <td>1790.949951</td>\n",
              "      <td>1763.785278</td>\n",
              "      <td>500483.0</td>\n",
              "    </tr>\n",
              "    <tr>\n",
              "      <th>15</th>\n",
              "      <td>2018-07-10</td>\n",
              "      <td>1693.250000</td>\n",
              "      <td>1727.800049</td>\n",
              "      <td>1693.250000</td>\n",
              "      <td>1719.849976</td>\n",
              "      <td>1693.763672</td>\n",
              "      <td>111801.0</td>\n",
              "    </tr>\n",
              "    <tr>\n",
              "      <th>14</th>\n",
              "      <td>2018-07-09</td>\n",
              "      <td>1670.000000</td>\n",
              "      <td>1702.000000</td>\n",
              "      <td>1658.000000</td>\n",
              "      <td>1684.349976</td>\n",
              "      <td>1658.802002</td>\n",
              "      <td>74046.0</td>\n",
              "    </tr>\n",
              "    <tr>\n",
              "      <th>13</th>\n",
              "      <td>2018-07-06</td>\n",
              "      <td>1644.000000</td>\n",
              "      <td>1675.000000</td>\n",
              "      <td>1640.099976</td>\n",
              "      <td>1667.949951</td>\n",
              "      <td>1642.650757</td>\n",
              "      <td>45126.0</td>\n",
              "    </tr>\n",
              "    <tr>\n",
              "      <th>12</th>\n",
              "      <td>2018-07-05</td>\n",
              "      <td>1650.000000</td>\n",
              "      <td>1655.000000</td>\n",
              "      <td>1642.150024</td>\n",
              "      <td>1648.199951</td>\n",
              "      <td>1623.200439</td>\n",
              "      <td>12177.0</td>\n",
              "    </tr>\n",
              "    <tr>\n",
              "      <th>11</th>\n",
              "      <td>2018-07-04</td>\n",
              "      <td>1651.000000</td>\n",
              "      <td>1659.400024</td>\n",
              "      <td>1642.699951</td>\n",
              "      <td>1646.650024</td>\n",
              "      <td>1621.673950</td>\n",
              "      <td>17807.0</td>\n",
              "    </tr>\n",
              "    <tr>\n",
              "      <th>10</th>\n",
              "      <td>2018-07-03</td>\n",
              "      <td>1658.000000</td>\n",
              "      <td>1666.199951</td>\n",
              "      <td>1635.000000</td>\n",
              "      <td>1649.949951</td>\n",
              "      <td>1624.923828</td>\n",
              "      <td>35877.0</td>\n",
              "    </tr>\n",
              "    <tr>\n",
              "      <th>9</th>\n",
              "      <td>2018-07-02</td>\n",
              "      <td>1680.000000</td>\n",
              "      <td>1680.000000</td>\n",
              "      <td>1645.000000</td>\n",
              "      <td>1649.699951</td>\n",
              "      <td>1624.677612</td>\n",
              "      <td>42300.0</td>\n",
              "    </tr>\n",
              "    <tr>\n",
              "      <th>8</th>\n",
              "      <td>2018-06-29</td>\n",
              "      <td>1640.000000</td>\n",
              "      <td>1695.000000</td>\n",
              "      <td>1640.000000</td>\n",
              "      <td>1671.400024</td>\n",
              "      <td>1646.048584</td>\n",
              "      <td>141637.0</td>\n",
              "    </tr>\n",
              "    <tr>\n",
              "      <th>7</th>\n",
              "      <td>2018-06-28</td>\n",
              "      <td>1661.000000</td>\n",
              "      <td>1674.099976</td>\n",
              "      <td>1632.099976</td>\n",
              "      <td>1641.699951</td>\n",
              "      <td>1616.799072</td>\n",
              "      <td>64417.0</td>\n",
              "    </tr>\n",
              "    <tr>\n",
              "      <th>6</th>\n",
              "      <td>2018-06-27</td>\n",
              "      <td>1644.000000</td>\n",
              "      <td>1674.000000</td>\n",
              "      <td>1638.050049</td>\n",
              "      <td>1658.150024</td>\n",
              "      <td>1632.999634</td>\n",
              "      <td>72687.0</td>\n",
              "    </tr>\n",
              "    <tr>\n",
              "      <th>5</th>\n",
              "      <td>2018-06-26</td>\n",
              "      <td>1670.000000</td>\n",
              "      <td>1680.000000</td>\n",
              "      <td>1624.000000</td>\n",
              "      <td>1633.800049</td>\n",
              "      <td>1609.018921</td>\n",
              "      <td>55619.0</td>\n",
              "    </tr>\n",
              "    <tr>\n",
              "      <th>4</th>\n",
              "      <td>2018-06-25</td>\n",
              "      <td>1673.000000</td>\n",
              "      <td>1695.000000</td>\n",
              "      <td>1655.000000</td>\n",
              "      <td>1662.150024</td>\n",
              "      <td>1636.938843</td>\n",
              "      <td>63432.0</td>\n",
              "    </tr>\n",
              "    <tr>\n",
              "      <th>3</th>\n",
              "      <td>2018-06-22</td>\n",
              "      <td>1688.000000</td>\n",
              "      <td>1714.400024</td>\n",
              "      <td>1665.000000</td>\n",
              "      <td>1673.300049</td>\n",
              "      <td>1647.919800</td>\n",
              "      <td>124995.0</td>\n",
              "    </tr>\n",
              "    <tr>\n",
              "      <th>2</th>\n",
              "      <td>2018-06-21</td>\n",
              "      <td>1667.000000</td>\n",
              "      <td>1694.800049</td>\n",
              "      <td>1656.900024</td>\n",
              "      <td>1686.400024</td>\n",
              "      <td>1660.821045</td>\n",
              "      <td>45080.0</td>\n",
              "    </tr>\n",
              "    <tr>\n",
              "      <th>1</th>\n",
              "      <td>2018-06-20</td>\n",
              "      <td>1697.949951</td>\n",
              "      <td>1697.949951</td>\n",
              "      <td>1666.000000</td>\n",
              "      <td>1671.050049</td>\n",
              "      <td>1645.703857</td>\n",
              "      <td>44209.0</td>\n",
              "    </tr>\n",
              "    <tr>\n",
              "      <th>0</th>\n",
              "      <td>2018-06-19</td>\n",
              "      <td>NaN</td>\n",
              "      <td>NaN</td>\n",
              "      <td>NaN</td>\n",
              "      <td>NaN</td>\n",
              "      <td>NaN</td>\n",
              "      <td>NaN</td>\n",
              "    </tr>\n",
              "  </tbody>\n",
              "</table>\n",
              "<p>244 rows × 7 columns</p>\n",
              "</div>"
            ],
            "text/plain": [
              "           Date         Open         High  ...        Close    Adj Close    Volume\n",
              "243  2019-06-19  1748.000000  1760.050049  ...  1734.099976  1734.099976   61117.0\n",
              "242  2019-06-18  1774.949951  1774.949951  ...  1746.300049  1746.300049   74979.0\n",
              "241  2019-06-17  1778.000000  1789.000000  ...  1767.250000  1767.250000  176830.0\n",
              "240  2019-06-14  1760.000000  1790.949951  ...  1772.250000  1772.250000  448513.0\n",
              "239  2019-06-13  1790.000000  1794.000000  ...  1759.400024  1759.400024  110310.0\n",
              "238  2019-06-12  1802.800049  1809.849976  ...  1789.449951  1789.449951   53091.0\n",
              "237  2019-06-11  1799.949951  1824.000000  ...  1801.949951  1801.949951  322557.0\n",
              "236  2019-06-10  1816.000000  1817.250000  ...  1797.400024  1797.400024  149612.0\n",
              "235  2019-06-07  1790.150024  1822.949951  ...  1805.150024  1805.150024  123921.0\n",
              "234  2019-06-06  1779.300049  1794.900024  ...  1780.900024  1780.900024  106861.0\n",
              "233  2019-06-04  1788.000000  1800.000000  ...  1775.199951  1775.199951   74910.0\n",
              "232  2019-06-03  1775.400024  1816.699951  ...  1788.250000  1788.250000   88003.0\n",
              "231  2019-05-31  1830.000000  1840.000000  ...  1785.050049  1785.050049  129078.0\n",
              "230  2019-05-30  1823.099976  1858.000000  ...  1824.750000  1824.750000  266529.0\n",
              "229  2019-05-29  1778.000000  1836.000000  ...  1825.949951  1825.949951  261250.0\n",
              "228  2019-05-28  1739.699951  1805.000000  ...  1783.250000  1783.250000  353289.0\n",
              "227  2019-05-27  1754.949951  1764.000000  ...  1729.349976  1729.349976  145947.0\n",
              "226  2019-05-24  1758.000000  1775.949951  ...  1755.349976  1755.349976  299222.0\n",
              "225  2019-05-23  1782.000000  1784.949951  ...  1759.949951  1759.949951   66152.0\n",
              "224  2019-05-22  1771.150024  1792.000000  ...  1781.199951  1781.199951  290008.0\n",
              "223  2019-05-21  1764.900024  1785.000000  ...  1778.300049  1778.300049  136473.0\n",
              "222  2019-05-20  1825.000000  1825.000000  ...  1759.599976  1759.599976  216070.0\n",
              "221  2019-05-17  1808.000000  1830.000000  ...  1788.199951  1788.199951  173957.0\n",
              "220  2019-05-16  1763.900024  1815.000000  ...  1803.250000  1803.250000  187888.0\n",
              "219  2019-05-15  1717.000000  1764.000000  ...  1758.099976  1758.099976  176080.0\n",
              "218  2019-05-14  1709.900024  1724.449951  ...  1717.400024  1717.400024  138044.0\n",
              "217  2019-05-13  1700.000000  1715.000000  ...  1710.300049  1710.300049   67070.0\n",
              "216  2019-05-10  1688.099976  1705.000000  ...  1697.449951  1697.449951  110021.0\n",
              "215  2019-05-09  1686.099976  1692.000000  ...  1684.199951  1684.199951  181871.0\n",
              "214  2019-05-08  1703.550049  1715.449951  ...  1696.099976  1696.099976  296480.0\n",
              "..          ...          ...          ...  ...          ...          ...       ...\n",
              "29   2018-07-30  1827.949951  1845.800049  ...  1823.500000  1795.841553  174492.0\n",
              "28   2018-07-27  1800.000000  1865.000000  ...  1836.599976  1808.742798  360521.0\n",
              "27   2018-07-26  1801.000000  1835.000000  ...  1809.949951  1782.496948  151522.0\n",
              "26   2018-07-25  1790.000000  1855.000000  ...  1804.500000  1777.129761  424662.0\n",
              "25   2018-07-24  1820.000000  1867.000000  ...  1802.699951  1775.356934  709856.0\n",
              "24   2018-07-23  1764.000000  1776.000000  ...  1721.199951  1695.093140  206941.0\n",
              "23   2018-07-20  1711.000000  1764.000000  ...  1750.949951  1724.391846  143240.0\n",
              "22   2018-07-19  1824.849976  1826.849976  ...  1721.750000  1695.634888  413414.0\n",
              "21   2018-07-18  1864.900024  1883.500000  ...  1859.199951  1830.999878  157307.0\n",
              "20   2018-07-17  1835.000000  1872.000000  ...  1850.449951  1822.382690  132449.0\n",
              "19   2018-07-16  1843.300049  1845.000000  ...  1834.500000  1806.674683  158006.0\n",
              "18   2018-07-13  1856.000000  1867.000000  ...  1845.750000  1817.754028  346041.0\n",
              "17   2018-07-12  1800.000000  1856.000000  ...  1849.550049  1821.496460  308639.0\n",
              "16   2018-07-11  1720.000000  1836.699951  ...  1790.949951  1763.785278  500483.0\n",
              "15   2018-07-10  1693.250000  1727.800049  ...  1719.849976  1693.763672  111801.0\n",
              "14   2018-07-09  1670.000000  1702.000000  ...  1684.349976  1658.802002   74046.0\n",
              "13   2018-07-06  1644.000000  1675.000000  ...  1667.949951  1642.650757   45126.0\n",
              "12   2018-07-05  1650.000000  1655.000000  ...  1648.199951  1623.200439   12177.0\n",
              "11   2018-07-04  1651.000000  1659.400024  ...  1646.650024  1621.673950   17807.0\n",
              "10   2018-07-03  1658.000000  1666.199951  ...  1649.949951  1624.923828   35877.0\n",
              "9    2018-07-02  1680.000000  1680.000000  ...  1649.699951  1624.677612   42300.0\n",
              "8    2018-06-29  1640.000000  1695.000000  ...  1671.400024  1646.048584  141637.0\n",
              "7    2018-06-28  1661.000000  1674.099976  ...  1641.699951  1616.799072   64417.0\n",
              "6    2018-06-27  1644.000000  1674.000000  ...  1658.150024  1632.999634   72687.0\n",
              "5    2018-06-26  1670.000000  1680.000000  ...  1633.800049  1609.018921   55619.0\n",
              "4    2018-06-25  1673.000000  1695.000000  ...  1662.150024  1636.938843   63432.0\n",
              "3    2018-06-22  1688.000000  1714.400024  ...  1673.300049  1647.919800  124995.0\n",
              "2    2018-06-21  1667.000000  1694.800049  ...  1686.400024  1660.821045   45080.0\n",
              "1    2018-06-20  1697.949951  1697.949951  ...  1671.050049  1645.703857   44209.0\n",
              "0    2018-06-19          NaN          NaN  ...          NaN          NaN       NaN\n",
              "\n",
              "[244 rows x 7 columns]"
            ]
          },
          "metadata": {
            "tags": []
          },
          "execution_count": 15
        }
      ]
    },
    {
      "cell_type": "code",
      "metadata": {
        "id": "xSqxzgzAutlc",
        "colab_type": "code",
        "colab": {
          "base_uri": "https://localhost:8080/",
          "height": 35
        },
        "outputId": "ed28524b-36fc-4055-a9bc-fcca56e1a854"
      },
      "source": [
        "df.shape"
      ],
      "execution_count": 16,
      "outputs": [
        {
          "output_type": "execute_result",
          "data": {
            "text/plain": [
              "(244, 7)"
            ]
          },
          "metadata": {
            "tags": []
          },
          "execution_count": 16
        }
      ]
    },
    {
      "cell_type": "code",
      "metadata": {
        "id": "ozWtGtdWvECv",
        "colab_type": "code",
        "colab": {}
      },
      "source": [
        "df['Date_f'] = pd.to_datetime(df['Date'])"
      ],
      "execution_count": 0,
      "outputs": []
    },
    {
      "cell_type": "code",
      "metadata": {
        "id": "i8pxzQQdvsG0",
        "colab_type": "code",
        "colab": {}
      },
      "source": [
        "s = df['Date_f']"
      ],
      "execution_count": 0,
      "outputs": []
    },
    {
      "cell_type": "code",
      "metadata": {
        "id": "GRKmC0Mmvxo4",
        "colab_type": "code",
        "colab": {
          "base_uri": "https://localhost:8080/",
          "height": 1092
        },
        "outputId": "0ae7f90f-bc42-4aaa-ca8d-8496081bbdb2"
      },
      "source": [
        "s.dt.day_name()"
      ],
      "execution_count": 25,
      "outputs": [
        {
          "output_type": "execute_result",
          "data": {
            "text/plain": [
              "0        Tuesday\n",
              "1      Wednesday\n",
              "2       Thursday\n",
              "3         Friday\n",
              "4         Monday\n",
              "5        Tuesday\n",
              "6      Wednesday\n",
              "7       Thursday\n",
              "8         Friday\n",
              "9         Monday\n",
              "10       Tuesday\n",
              "11     Wednesday\n",
              "12      Thursday\n",
              "13        Friday\n",
              "14        Monday\n",
              "15       Tuesday\n",
              "16     Wednesday\n",
              "17      Thursday\n",
              "18        Friday\n",
              "19        Monday\n",
              "20       Tuesday\n",
              "21     Wednesday\n",
              "22      Thursday\n",
              "23        Friday\n",
              "24        Monday\n",
              "25       Tuesday\n",
              "26     Wednesday\n",
              "27      Thursday\n",
              "28        Friday\n",
              "29        Monday\n",
              "         ...    \n",
              "214    Wednesday\n",
              "215     Thursday\n",
              "216       Friday\n",
              "217       Monday\n",
              "218      Tuesday\n",
              "219    Wednesday\n",
              "220     Thursday\n",
              "221       Friday\n",
              "222       Monday\n",
              "223      Tuesday\n",
              "224    Wednesday\n",
              "225     Thursday\n",
              "226       Friday\n",
              "227       Monday\n",
              "228      Tuesday\n",
              "229    Wednesday\n",
              "230     Thursday\n",
              "231       Friday\n",
              "232       Monday\n",
              "233      Tuesday\n",
              "234     Thursday\n",
              "235       Friday\n",
              "236       Monday\n",
              "237      Tuesday\n",
              "238    Wednesday\n",
              "239     Thursday\n",
              "240       Friday\n",
              "241       Monday\n",
              "242      Tuesday\n",
              "243    Wednesday\n",
              "Name: Date_f, Length: 244, dtype: object"
            ]
          },
          "metadata": {
            "tags": []
          },
          "execution_count": 25
        }
      ]
    },
    {
      "cell_type": "code",
      "metadata": {
        "id": "BFEy9KaqwqQX",
        "colab_type": "code",
        "colab": {}
      },
      "source": [
        "k = (df['Date_f'][243] - df['Date_f'][31])"
      ],
      "execution_count": 0,
      "outputs": []
    },
    {
      "cell_type": "code",
      "metadata": {
        "id": "7sRlvrNKxES_",
        "colab_type": "code",
        "colab": {
          "base_uri": "https://localhost:8080/",
          "height": 35
        },
        "outputId": "989bc9fa-ca31-4fa3-b18e-f0c3770eb291"
      },
      "source": [
        "type(k)"
      ],
      "execution_count": 40,
      "outputs": [
        {
          "output_type": "execute_result",
          "data": {
            "text/plain": [
              "pandas._libs.tslibs.timedeltas.Timedelta"
            ]
          },
          "metadata": {
            "tags": []
          },
          "execution_count": 40
        }
      ]
    },
    {
      "cell_type": "code",
      "metadata": {
        "id": "KOxfnLL6x1j9",
        "colab_type": "code",
        "colab": {
          "base_uri": "https://localhost:8080/",
          "height": 35
        },
        "outputId": "cefdb3fe-93de-4976-d24f-3afed0fa5c7c"
      },
      "source": [
        "k.to_timedelta64().astype('timedelta64[h]')"
      ],
      "execution_count": 53,
      "outputs": [
        {
          "output_type": "execute_result",
          "data": {
            "text/plain": [
              "numpy.timedelta64(7728,'h')"
            ]
          },
          "metadata": {
            "tags": []
          },
          "execution_count": 53
        }
      ]
    },
    {
      "cell_type": "code",
      "metadata": {
        "id": "UmzMEMmqzEAn",
        "colab_type": "code",
        "colab": {
          "base_uri": "https://localhost:8080/",
          "height": 35
        },
        "outputId": "c08c6414-dc92-487a-f997-26be519d795d"
      },
      "source": [
        "463680/60"
      ],
      "execution_count": 50,
      "outputs": [
        {
          "output_type": "execute_result",
          "data": {
            "text/plain": [
              "7728.0"
            ]
          },
          "metadata": {
            "tags": []
          },
          "execution_count": 50
        }
      ]
    },
    {
      "cell_type": "code",
      "metadata": {
        "id": "QyrWapHbztmC",
        "colab_type": "code",
        "colab": {
          "base_uri": "https://localhost:8080/",
          "height": 35
        },
        "outputId": "e813954a-1f7c-4b1f-d084-4a5bdca74d18"
      },
      "source": [
        "7728/24"
      ],
      "execution_count": 51,
      "outputs": [
        {
          "output_type": "execute_result",
          "data": {
            "text/plain": [
              "322.0"
            ]
          },
          "metadata": {
            "tags": []
          },
          "execution_count": 51
        }
      ]
    },
    {
      "cell_type": "code",
      "metadata": {
        "id": "_Y9verlDzx9-",
        "colab_type": "code",
        "colab": {
          "base_uri": "https://localhost:8080/",
          "height": 300
        },
        "outputId": "db3bf7ff-318b-4222-d701-5cfafdc7e43d"
      },
      "source": [
        "df.set_index(['Date_f'])['High'].plot(kind = 'line')"
      ],
      "execution_count": 54,
      "outputs": [
        {
          "output_type": "execute_result",
          "data": {
            "text/plain": [
              "<matplotlib.axes._subplots.AxesSubplot at 0x7f3e3b95c278>"
            ]
          },
          "metadata": {
            "tags": []
          },
          "execution_count": 54
        },
        {
          "output_type": "display_data",
          "data": {
            "image/png": "[encoded data removed]",
            "text/plain": [
              "<Figure size 432x288 with 1 Axes>"
            ]
          },
          "metadata": {
            "tags": []
          }
        }
      ]
    },
    {
      "cell_type": "code",
      "metadata": {
        "id": "1q-I_5Sw2ASo",
        "colab_type": "code",
        "colab": {
          "base_uri": "https://localhost:8080/",
          "height": 301
        },
        "outputId": "77a93a88-bbca-4dae-ba9e-3cef8940ea8a"
      },
      "source": [
        "df.set_index(['Date'])['High'].plot(kind = 'line')"
      ],
      "execution_count": 55,
      "outputs": [
        {
          "output_type": "execute_result",
          "data": {
            "text/plain": [
              "<matplotlib.axes._subplots.AxesSubplot at 0x7f3e3b7d2d68>"
            ]
          },
          "metadata": {
            "tags": []
          },
          "execution_count": 55
        },
        {
          "output_type": "display_data",
          "data": {
            "image/png": "[encoded data removed]",
            "text/plain": [
              "<Figure size 432x288 with 1 Axes>"
            ]
          },
          "metadata": {
            "tags": []
          }
        }
      ]
    },
    {
      "cell_type": "code",
      "metadata": {
        "id": "rjlvu-ka2Jls",
        "colab_type": "code",
        "colab": {}
      },
      "source": [
        "from sklearn.model_selection import train_test_split"
      ],
      "execution_count": 0,
      "outputs": []
    },
    {
      "cell_type": "code",
      "metadata": {
        "id": "KvUSlzNY2Sy0",
        "colab_type": "code",
        "colab": {}
      },
      "source": [
        "d1 , d2 = train_test_split(df , test_size = 0.2)"
      ],
      "execution_count": 0,
      "outputs": []
    },
    {
      "cell_type": "code",
      "metadata": {
        "id": "ohIGLlJl2XnT",
        "colab_type": "code",
        "colab": {
          "base_uri": "https://localhost:8080/",
          "height": 301
        },
        "outputId": "900e240a-e530-4693-c4f4-5c24a1f5326f"
      },
      "source": [
        "d1.set_index(['Date'])['High'].plot(kind = 'line')"
      ],
      "execution_count": 58,
      "outputs": [
        {
          "output_type": "execute_result",
          "data": {
            "text/plain": [
              "<matplotlib.axes._subplots.AxesSubplot at 0x7f3e2ea4cac8>"
            ]
          },
          "metadata": {
            "tags": []
          },
          "execution_count": 58
        },
        {
          "output_type": "display_data",
          "data": {
            "image/png": "[encoded data removed]",
            "text/plain": [
              "<Figure size 432x288 with 1 Axes>"
            ]
          },
          "metadata": {
            "tags": []
          }
        }
      ]
    },
    {
      "cell_type": "code",
      "metadata": {
        "id": "97Yqoy162cUx",
        "colab_type": "code",
        "colab": {
          "base_uri": "https://localhost:8080/",
          "height": 300
        },
        "outputId": "17592954-8e0c-46fa-9d18-2f07fb20688d"
      },
      "source": [
        "d1.set_index(['Date_f'])['High'].plot(kind = 'line')"
      ],
      "execution_count": 59,
      "outputs": [
        {
          "output_type": "execute_result",
          "data": {
            "text/plain": [
              "<matplotlib.axes._subplots.AxesSubplot at 0x7f3e2e2f5080>"
            ]
          },
          "metadata": {
            "tags": []
          },
          "execution_count": 59
        },
        {
          "output_type": "display_data",
          "data": {
            "image/png": "[encoded data removed]",
            "text/plain": [
              "<Figure size 432x288 with 1 Axes>"
            ]
          },
          "metadata": {
            "tags": []
          }
        }
      ]
    },
    {
      "cell_type": "code",
      "metadata": {
        "id": "QYDXg9nk2hZn",
        "colab_type": "code",
        "colab": {
          "base_uri": "https://localhost:8080/",
          "height": 301
        },
        "outputId": "b36d256e-f506-4d7b-cfa4-9a04fcb9d30a"
      },
      "source": [
        "d1.plot(x = 'Date' , y = ['High','Low'] , kind = 'line')"
      ],
      "execution_count": 61,
      "outputs": [
        {
          "output_type": "execute_result",
          "data": {
            "text/plain": [
              "<matplotlib.axes._subplots.AxesSubplot at 0x7f3e2e23f080>"
            ]
          },
          "metadata": {
            "tags": []
          },
          "execution_count": 61
        },
        {
          "output_type": "display_data",
          "data": {
            "image/png": "[encoded data removed]",
            "text/plain": [
              "<Figure size 432x288 with 1 Axes>"
            ]
          },
          "metadata": {
            "tags": []
          }
        }
      ]
    },
    {
      "cell_type": "code",
      "metadata": {
        "id": "InF3WrQL3yKh",
        "colab_type": "code",
        "colab": {
          "base_uri": "https://localhost:8080/",
          "height": 300
        },
        "outputId": "b70954bc-4577-4f79-84e1-d0de9619d4cf"
      },
      "source": [
        "d1.plot(x = 'Date_f' , y = ['High','Low'] , kind = 'line')"
      ],
      "execution_count": 62,
      "outputs": [
        {
          "output_type": "execute_result",
          "data": {
            "text/plain": [
              "<matplotlib.axes._subplots.AxesSubplot at 0x7f3e2e2ccd68>"
            ]
          },
          "metadata": {
            "tags": []
          },
          "execution_count": 62
        },
        {
          "output_type": "display_data",
          "data": {
            "image/png": "[encoded data removed]",
            "text/plain": [
              "<Figure size 432x288 with 1 Axes>"
            ]
          },
          "metadata": {
            "tags": []
          }
        }
      ]
    },
    {
      "cell_type": "code",
      "metadata": {
        "id": "6SLnUyhF37Nt",
        "colab_type": "code",
        "colab": {}
      },
      "source": [
        "lti = df.copy()"
      ],
      "execution_count": 0,
      "outputs": []
    },
    {
      "cell_type": "code",
      "metadata": {
        "id": "nvEZimp54WiQ",
        "colab_type": "code",
        "colab": {}
      },
      "source": [
        "infy = pd.read_csv('INFY.NS.csv')"
      ],
      "execution_count": 0,
      "outputs": []
    },
    {
      "cell_type": "code",
      "metadata": {
        "id": "uxJnUPoT4cuX",
        "colab_type": "code",
        "colab": {
          "base_uri": "https://localhost:8080/",
          "height": 202
        },
        "outputId": "26e927ea-cb5b-4924-cff6-4591a63c6d91"
      },
      "source": [
        "infy.head()"
      ],
      "execution_count": 66,
      "outputs": [
        {
          "output_type": "execute_result",
          "data": {
            "text/html": [
              "<div>\n",
              "<style scoped>\n",
              "    .dataframe tbody tr th:only-of-type {\n",
              "        vertical-align: middle;\n",
              "    }\n",
              "\n",
              "    .dataframe tbody tr th {\n",
              "        vertical-align: top;\n",
              "    }\n",
              "\n",
              "    .dataframe thead th {\n",
              "        text-align: right;\n",
              "    }\n",
              "</style>\n",
              "<table border=\"1\" class=\"dataframe\">\n",
              "  <thead>\n",
              "    <tr style=\"text-align: right;\">\n",
              "      <th></th>\n",
              "      <th>Date</th>\n",
              "      <th>Open</th>\n",
              "      <th>High</th>\n",
              "      <th>Low</th>\n",
              "      <th>Close</th>\n",
              "      <th>Adj Close</th>\n",
              "      <th>Volume</th>\n",
              "    </tr>\n",
              "  </thead>\n",
              "  <tbody>\n",
              "    <tr>\n",
              "      <th>0</th>\n",
              "      <td>2018-06-19</td>\n",
              "      <td>NaN</td>\n",
              "      <td>NaN</td>\n",
              "      <td>NaN</td>\n",
              "      <td>NaN</td>\n",
              "      <td>NaN</td>\n",
              "      <td>NaN</td>\n",
              "    </tr>\n",
              "    <tr>\n",
              "      <th>1</th>\n",
              "      <td>2018-06-20</td>\n",
              "      <td>624.250000</td>\n",
              "      <td>626.174988</td>\n",
              "      <td>619.000000</td>\n",
              "      <td>621.575012</td>\n",
              "      <td>606.314148</td>\n",
              "      <td>5371802.0</td>\n",
              "    </tr>\n",
              "    <tr>\n",
              "      <th>2</th>\n",
              "      <td>2018-06-21</td>\n",
              "      <td>622.974976</td>\n",
              "      <td>628.250000</td>\n",
              "      <td>618.000000</td>\n",
              "      <td>623.275024</td>\n",
              "      <td>607.972473</td>\n",
              "      <td>5798790.0</td>\n",
              "    </tr>\n",
              "    <tr>\n",
              "      <th>3</th>\n",
              "      <td>2018-06-22</td>\n",
              "      <td>621.500000</td>\n",
              "      <td>627.750000</td>\n",
              "      <td>620.599976</td>\n",
              "      <td>623.924988</td>\n",
              "      <td>608.606445</td>\n",
              "      <td>4343118.0</td>\n",
              "    </tr>\n",
              "    <tr>\n",
              "      <th>4</th>\n",
              "      <td>2018-06-25</td>\n",
              "      <td>628.575012</td>\n",
              "      <td>639.400024</td>\n",
              "      <td>627.000000</td>\n",
              "      <td>636.224976</td>\n",
              "      <td>620.604431</td>\n",
              "      <td>7731178.0</td>\n",
              "    </tr>\n",
              "  </tbody>\n",
              "</table>\n",
              "</div>"
            ],
            "text/plain": [
              "         Date        Open        High  ...       Close   Adj Close     Volume\n",
              "0  2018-06-19         NaN         NaN  ...         NaN         NaN        NaN\n",
              "1  2018-06-20  624.250000  626.174988  ...  621.575012  606.314148  5371802.0\n",
              "2  2018-06-21  622.974976  628.250000  ...  623.275024  607.972473  5798790.0\n",
              "3  2018-06-22  621.500000  627.750000  ...  623.924988  608.606445  4343118.0\n",
              "4  2018-06-25  628.575012  639.400024  ...  636.224976  620.604431  7731178.0\n",
              "\n",
              "[5 rows x 7 columns]"
            ]
          },
          "metadata": {
            "tags": []
          },
          "execution_count": 66
        }
      ]
    },
    {
      "cell_type": "code",
      "metadata": {
        "id": "YweOdh1i4eLe",
        "colab_type": "code",
        "colab": {}
      },
      "source": [
        "tcs = pd.read_csv('TCS.NS.csv')"
      ],
      "execution_count": 0,
      "outputs": []
    },
    {
      "cell_type": "code",
      "metadata": {
        "id": "0PhtH-tP4sSA",
        "colab_type": "code",
        "colab": {}
      },
      "source": [
        "ltn = ['Date']\n",
        "infn =['Date']\n",
        "tcsn = ['Date']\n",
        "key = ['Open', 'High', 'Low', 'Close', 'Adj Close', 'Volume']\n",
        "for i in range(len(key)):\n",
        "\n",
        "  ltn.append(key[i] + '_LTI')\n",
        "  infn.append(key[i] + '_INFY')\n",
        "  tcsn.append(key[i] + '_TCS')"
      ],
      "execution_count": 0,
      "outputs": []
    },
    {
      "cell_type": "code",
      "metadata": {
        "id": "QnJ3_ksi40D7",
        "colab_type": "code",
        "colab": {}
      },
      "source": [
        "infy.drop(['Date'],axis = 1).columns = infy.drop(['Date'],axis = 1).columns + '_INFY'"
      ],
      "execution_count": 0,
      "outputs": []
    },
    {
      "cell_type": "code",
      "metadata": {
        "id": "-jpxDOF443RC",
        "colab_type": "code",
        "colab": {}
      },
      "source": [
        "lti.drop(['Date_f'],axis = 1 , inplace = True)"
      ],
      "execution_count": 0,
      "outputs": []
    },
    {
      "cell_type": "code",
      "metadata": {
        "id": "RWY9R-H86NCD",
        "colab_type": "code",
        "colab": {}
      },
      "source": [
        "lti_zip = {i : j for i , j in zip(lti.columns , ltn)}"
      ],
      "execution_count": 0,
      "outputs": []
    },
    {
      "cell_type": "code",
      "metadata": {
        "id": "veMr2fjy6snn",
        "colab_type": "code",
        "colab": {}
      },
      "source": [
        "infy_zip = {i : j for i , j in zip(infy.columns , infn)}\n",
        "tcs_zip = {i : j for i , j in zip(tcs.columns , tcsn)}"
      ],
      "execution_count": 0,
      "outputs": []
    },
    {
      "cell_type": "code",
      "metadata": {
        "id": "5oHT5lyM7CZ-",
        "colab_type": "code",
        "colab": {}
      },
      "source": [
        "lti.rename(columns=lti_zip , inplace = True)\n",
        "infy.rename(columns=infy_zip , inplace = True)\n",
        "tcs.rename(columns=tcs_zip , inplace = True)"
      ],
      "execution_count": 0,
      "outputs": []
    },
    {
      "cell_type": "code",
      "metadata": {
        "id": "MHq9pobv7umY",
        "colab_type": "code",
        "colab": {
          "base_uri": "https://localhost:8080/",
          "height": 202
        },
        "outputId": "fdd41d5d-3f64-47e4-ea4d-2554ad92807d"
      },
      "source": [
        "lti.head()"
      ],
      "execution_count": 98,
      "outputs": [
        {
          "output_type": "execute_result",
          "data": {
            "text/html": [
              "<div>\n",
              "<style scoped>\n",
              "    .dataframe tbody tr th:only-of-type {\n",
              "        vertical-align: middle;\n",
              "    }\n",
              "\n",
              "    .dataframe tbody tr th {\n",
              "        vertical-align: top;\n",
              "    }\n",
              "\n",
              "    .dataframe thead th {\n",
              "        text-align: right;\n",
              "    }\n",
              "</style>\n",
              "<table border=\"1\" class=\"dataframe\">\n",
              "  <thead>\n",
              "    <tr style=\"text-align: right;\">\n",
              "      <th></th>\n",
              "      <th>Date</th>\n",
              "      <th>Open_LTI</th>\n",
              "      <th>High_LTI</th>\n",
              "      <th>Low_LTI</th>\n",
              "      <th>Close_LTI</th>\n",
              "      <th>Adj Close_LTI</th>\n",
              "      <th>Volume_LTI</th>\n",
              "    </tr>\n",
              "  </thead>\n",
              "  <tbody>\n",
              "    <tr>\n",
              "      <th>0</th>\n",
              "      <td>2018-06-19</td>\n",
              "      <td>NaN</td>\n",
              "      <td>NaN</td>\n",
              "      <td>NaN</td>\n",
              "      <td>NaN</td>\n",
              "      <td>NaN</td>\n",
              "      <td>NaN</td>\n",
              "    </tr>\n",
              "    <tr>\n",
              "      <th>1</th>\n",
              "      <td>2018-06-20</td>\n",
              "      <td>1697.949951</td>\n",
              "      <td>1697.949951</td>\n",
              "      <td>1666.000000</td>\n",
              "      <td>1671.050049</td>\n",
              "      <td>1645.703857</td>\n",
              "      <td>44209.0</td>\n",
              "    </tr>\n",
              "    <tr>\n",
              "      <th>2</th>\n",
              "      <td>2018-06-21</td>\n",
              "      <td>1667.000000</td>\n",
              "      <td>1694.800049</td>\n",
              "      <td>1656.900024</td>\n",
              "      <td>1686.400024</td>\n",
              "      <td>1660.821045</td>\n",
              "      <td>45080.0</td>\n",
              "    </tr>\n",
              "    <tr>\n",
              "      <th>3</th>\n",
              "      <td>2018-06-22</td>\n",
              "      <td>1688.000000</td>\n",
              "      <td>1714.400024</td>\n",
              "      <td>1665.000000</td>\n",
              "      <td>1673.300049</td>\n",
              "      <td>1647.919800</td>\n",
              "      <td>124995.0</td>\n",
              "    </tr>\n",
              "    <tr>\n",
              "      <th>4</th>\n",
              "      <td>2018-06-25</td>\n",
              "      <td>1673.000000</td>\n",
              "      <td>1695.000000</td>\n",
              "      <td>1655.000000</td>\n",
              "      <td>1662.150024</td>\n",
              "      <td>1636.938843</td>\n",
              "      <td>63432.0</td>\n",
              "    </tr>\n",
              "  </tbody>\n",
              "</table>\n",
              "</div>"
            ],
            "text/plain": [
              "         Date     Open_LTI     High_LTI  ...    Close_LTI  Adj Close_LTI  Volume_LTI\n",
              "0  2018-06-19          NaN          NaN  ...          NaN            NaN         NaN\n",
              "1  2018-06-20  1697.949951  1697.949951  ...  1671.050049    1645.703857     44209.0\n",
              "2  2018-06-21  1667.000000  1694.800049  ...  1686.400024    1660.821045     45080.0\n",
              "3  2018-06-22  1688.000000  1714.400024  ...  1673.300049    1647.919800    124995.0\n",
              "4  2018-06-25  1673.000000  1695.000000  ...  1662.150024    1636.938843     63432.0\n",
              "\n",
              "[5 rows x 7 columns]"
            ]
          },
          "metadata": {
            "tags": []
          },
          "execution_count": 98
        }
      ]
    },
    {
      "cell_type": "code",
      "metadata": {
        "id": "_tqi9aqq746t",
        "colab_type": "code",
        "colab": {
          "base_uri": "https://localhost:8080/",
          "height": 202
        },
        "outputId": "3c3af24e-6f00-4df0-9923-922ed14ae41a"
      },
      "source": [
        "infy.head()"
      ],
      "execution_count": 99,
      "outputs": [
        {
          "output_type": "execute_result",
          "data": {
            "text/html": [
              "<div>\n",
              "<style scoped>\n",
              "    .dataframe tbody tr th:only-of-type {\n",
              "        vertical-align: middle;\n",
              "    }\n",
              "\n",
              "    .dataframe tbody tr th {\n",
              "        vertical-align: top;\n",
              "    }\n",
              "\n",
              "    .dataframe thead th {\n",
              "        text-align: right;\n",
              "    }\n",
              "</style>\n",
              "<table border=\"1\" class=\"dataframe\">\n",
              "  <thead>\n",
              "    <tr style=\"text-align: right;\">\n",
              "      <th></th>\n",
              "      <th>Date</th>\n",
              "      <th>Open_INFY</th>\n",
              "      <th>High_INFY</th>\n",
              "      <th>Low_INFY</th>\n",
              "      <th>Close_INFY</th>\n",
              "      <th>Adj Close_INFY</th>\n",
              "      <th>Volume_INFY</th>\n",
              "    </tr>\n",
              "  </thead>\n",
              "  <tbody>\n",
              "    <tr>\n",
              "      <th>0</th>\n",
              "      <td>2018-06-19</td>\n",
              "      <td>NaN</td>\n",
              "      <td>NaN</td>\n",
              "      <td>NaN</td>\n",
              "      <td>NaN</td>\n",
              "      <td>NaN</td>\n",
              "      <td>NaN</td>\n",
              "    </tr>\n",
              "    <tr>\n",
              "      <th>1</th>\n",
              "      <td>2018-06-20</td>\n",
              "      <td>624.250000</td>\n",
              "      <td>626.174988</td>\n",
              "      <td>619.000000</td>\n",
              "      <td>621.575012</td>\n",
              "      <td>606.314148</td>\n",
              "      <td>5371802.0</td>\n",
              "    </tr>\n",
              "    <tr>\n",
              "      <th>2</th>\n",
              "      <td>2018-06-21</td>\n",
              "      <td>622.974976</td>\n",
              "      <td>628.250000</td>\n",
              "      <td>618.000000</td>\n",
              "      <td>623.275024</td>\n",
              "      <td>607.972473</td>\n",
              "      <td>5798790.0</td>\n",
              "    </tr>\n",
              "    <tr>\n",
              "      <th>3</th>\n",
              "      <td>2018-06-22</td>\n",
              "      <td>621.500000</td>\n",
              "      <td>627.750000</td>\n",
              "      <td>620.599976</td>\n",
              "      <td>623.924988</td>\n",
              "      <td>608.606445</td>\n",
              "      <td>4343118.0</td>\n",
              "    </tr>\n",
              "    <tr>\n",
              "      <th>4</th>\n",
              "      <td>2018-06-25</td>\n",
              "      <td>628.575012</td>\n",
              "      <td>639.400024</td>\n",
              "      <td>627.000000</td>\n",
              "      <td>636.224976</td>\n",
              "      <td>620.604431</td>\n",
              "      <td>7731178.0</td>\n",
              "    </tr>\n",
              "  </tbody>\n",
              "</table>\n",
              "</div>"
            ],
            "text/plain": [
              "         Date   Open_INFY   High_INFY  ...  Close_INFY  Adj Close_INFY  Volume_INFY\n",
              "0  2018-06-19         NaN         NaN  ...         NaN             NaN          NaN\n",
              "1  2018-06-20  624.250000  626.174988  ...  621.575012      606.314148    5371802.0\n",
              "2  2018-06-21  622.974976  628.250000  ...  623.275024      607.972473    5798790.0\n",
              "3  2018-06-22  621.500000  627.750000  ...  623.924988      608.606445    4343118.0\n",
              "4  2018-06-25  628.575012  639.400024  ...  636.224976      620.604431    7731178.0\n",
              "\n",
              "[5 rows x 7 columns]"
            ]
          },
          "metadata": {
            "tags": []
          },
          "execution_count": 99
        }
      ]
    },
    {
      "cell_type": "code",
      "metadata": {
        "id": "RetF-fMg76m1",
        "colab_type": "code",
        "colab": {
          "base_uri": "https://localhost:8080/",
          "height": 202
        },
        "outputId": "7b49768d-a262-4d78-ef2d-56e145e34c35"
      },
      "source": [
        "tcs.head()"
      ],
      "execution_count": 100,
      "outputs": [
        {
          "output_type": "execute_result",
          "data": {
            "text/html": [
              "<div>\n",
              "<style scoped>\n",
              "    .dataframe tbody tr th:only-of-type {\n",
              "        vertical-align: middle;\n",
              "    }\n",
              "\n",
              "    .dataframe tbody tr th {\n",
              "        vertical-align: top;\n",
              "    }\n",
              "\n",
              "    .dataframe thead th {\n",
              "        text-align: right;\n",
              "    }\n",
              "</style>\n",
              "<table border=\"1\" class=\"dataframe\">\n",
              "  <thead>\n",
              "    <tr style=\"text-align: right;\">\n",
              "      <th></th>\n",
              "      <th>Date</th>\n",
              "      <th>Open_TCS</th>\n",
              "      <th>High_TCS</th>\n",
              "      <th>Low_TCS</th>\n",
              "      <th>Close_TCS</th>\n",
              "      <th>Adj Close_TCS</th>\n",
              "      <th>Volume_TCS</th>\n",
              "    </tr>\n",
              "  </thead>\n",
              "  <tbody>\n",
              "    <tr>\n",
              "      <th>0</th>\n",
              "      <td>2018-06-19</td>\n",
              "      <td>NaN</td>\n",
              "      <td>NaN</td>\n",
              "      <td>NaN</td>\n",
              "      <td>NaN</td>\n",
              "      <td>NaN</td>\n",
              "      <td>NaN</td>\n",
              "    </tr>\n",
              "    <tr>\n",
              "      <th>1</th>\n",
              "      <td>2018-06-20</td>\n",
              "      <td>1832.000000</td>\n",
              "      <td>1836.300049</td>\n",
              "      <td>1818.599976</td>\n",
              "      <td>1822.449951</td>\n",
              "      <td>1796.541870</td>\n",
              "      <td>3107695.0</td>\n",
              "    </tr>\n",
              "    <tr>\n",
              "      <th>2</th>\n",
              "      <td>2018-06-21</td>\n",
              "      <td>1832.000000</td>\n",
              "      <td>1832.000000</td>\n",
              "      <td>1817.599976</td>\n",
              "      <td>1819.349976</td>\n",
              "      <td>1793.485840</td>\n",
              "      <td>2910659.0</td>\n",
              "    </tr>\n",
              "    <tr>\n",
              "      <th>3</th>\n",
              "      <td>2018-06-22</td>\n",
              "      <td>1827.000000</td>\n",
              "      <td>1827.000000</td>\n",
              "      <td>1799.550049</td>\n",
              "      <td>1809.800049</td>\n",
              "      <td>1784.071777</td>\n",
              "      <td>2949458.0</td>\n",
              "    </tr>\n",
              "    <tr>\n",
              "      <th>4</th>\n",
              "      <td>2018-06-25</td>\n",
              "      <td>1811.900024</td>\n",
              "      <td>1822.349976</td>\n",
              "      <td>1806.000000</td>\n",
              "      <td>1819.250000</td>\n",
              "      <td>1793.387329</td>\n",
              "      <td>2083217.0</td>\n",
              "    </tr>\n",
              "  </tbody>\n",
              "</table>\n",
              "</div>"
            ],
            "text/plain": [
              "         Date     Open_TCS     High_TCS  ...    Close_TCS  Adj Close_TCS  Volume_TCS\n",
              "0  2018-06-19          NaN          NaN  ...          NaN            NaN         NaN\n",
              "1  2018-06-20  1832.000000  1836.300049  ...  1822.449951    1796.541870   3107695.0\n",
              "2  2018-06-21  1832.000000  1832.000000  ...  1819.349976    1793.485840   2910659.0\n",
              "3  2018-06-22  1827.000000  1827.000000  ...  1809.800049    1784.071777   2949458.0\n",
              "4  2018-06-25  1811.900024  1822.349976  ...  1819.250000    1793.387329   2083217.0\n",
              "\n",
              "[5 rows x 7 columns]"
            ]
          },
          "metadata": {
            "tags": []
          },
          "execution_count": 100
        }
      ]
    },
    {
      "cell_type": "code",
      "metadata": {
        "id": "Bbg_nkMy776S",
        "colab_type": "code",
        "colab": {}
      },
      "source": [
        "lti['Date'] = pd.to_datetime(lti['Date'])\n",
        "infy['Date'] = pd.to_datetime(infy['Date'])\n",
        "tcs['Date'] = pd.to_datetime(tcs['Date'])"
      ],
      "execution_count": 0,
      "outputs": []
    },
    {
      "cell_type": "code",
      "metadata": {
        "id": "jeha-gn88K3q",
        "colab_type": "code",
        "colab": {}
      },
      "source": [
        "newdf = pd.merge(tcs , lti , on = 'Date')"
      ],
      "execution_count": 0,
      "outputs": []
    },
    {
      "cell_type": "code",
      "metadata": {
        "id": "WPKko22j80Qo",
        "colab_type": "code",
        "colab": {}
      },
      "source": [
        "newdf = pd.merge(newdf , infy , on = 'Date')"
      ],
      "execution_count": 0,
      "outputs": []
    },
    {
      "cell_type": "code",
      "metadata": {
        "id": "98LQgThu863T",
        "colab_type": "code",
        "colab": {
          "base_uri": "https://localhost:8080/",
          "height": 104
        },
        "outputId": "849bc907-e995-4b77-df74-4454aa4258e9"
      },
      "source": [
        "newdf.columns"
      ],
      "execution_count": 125,
      "outputs": [
        {
          "output_type": "execute_result",
          "data": {
            "text/plain": [
              "Index(['Date', 'Open_TCS', 'High_TCS', 'Low_TCS', 'Close_TCS', 'Adj Close_TCS',\n",
              "       'Volume_TCS', 'Open_LTI', 'High_LTI', 'Low_LTI', 'Close_LTI',\n",
              "       'Adj Close_LTI', 'Volume_LTI', 'Open_INFY', 'High_INFY', 'Low_INFY',\n",
              "       'Close_INFY', 'Adj Close_INFY', 'Volume_INFY'],\n",
              "      dtype='object')"
            ]
          },
          "metadata": {
            "tags": []
          },
          "execution_count": 125
        }
      ]
    },
    {
      "cell_type": "code",
      "metadata": {
        "id": "8lCJewaz-CJL",
        "colab_type": "code",
        "colab": {}
      },
      "source": [
        "key1 = ['Open_LTI', 'High_LTI', 'Low_LTI', 'Close_LTI', 'Adj Close_LTI',\n",
        "       'Volume_LTI', 'Open_TCS', 'High_TCS', 'Low_TCS', 'Close_TCS',\n",
        "       'Adj Close_TCS', 'Volume_TCS', 'Open_INFY', 'High_INFY',\n",
        "       'Low_INFY', 'Close_INFY', 'Adj Close_INFY', 'Volume_INFY']"
      ],
      "execution_count": 0,
      "outputs": []
    },
    {
      "cell_type": "code",
      "metadata": {
        "id": "vJlEWqLH-2gz",
        "colab_type": "code",
        "colab": {}
      },
      "source": [
        "k2 = ['pct_' + i for i in key1]"
      ],
      "execution_count": 0,
      "outputs": []
    },
    {
      "cell_type": "code",
      "metadata": {
        "id": "5orsCjke9GNN",
        "colab_type": "code",
        "colab": {}
      },
      "source": [
        "newdf[k2] = (newdf[key1] - newdf[key1].iloc[1,:])/newdf[key1].iloc[1,:]"
      ],
      "execution_count": 0,
      "outputs": []
    },
    {
      "cell_type": "code",
      "metadata": {
        "id": "NZ4QxyhP934i",
        "colab_type": "code",
        "colab": {
          "base_uri": "https://localhost:8080/",
          "height": 35
        },
        "outputId": "e4c09a61-319d-49ce-a9dc-78b4e68b85ea"
      },
      "source": [
        "newdf.shape"
      ],
      "execution_count": 132,
      "outputs": [
        {
          "output_type": "execute_result",
          "data": {
            "text/plain": [
              "(244, 37)"
            ]
          },
          "metadata": {
            "tags": []
          },
          "execution_count": 132
        }
      ]
    },
    {
      "cell_type": "code",
      "metadata": {
        "id": "CzNtZyr0_Sis",
        "colab_type": "code",
        "colab": {
          "base_uri": "https://localhost:8080/",
          "height": 326
        },
        "outputId": "b614fb40-6e7d-471a-cc40-d1389567fe4b"
      },
      "source": [
        "newdf.head()"
      ],
      "execution_count": 133,
      "outputs": [
        {
          "output_type": "execute_result",
          "data": {
            "text/html": [
              "<div>\n",
              "<style scoped>\n",
              "    .dataframe tbody tr th:only-of-type {\n",
              "        vertical-align: middle;\n",
              "    }\n",
              "\n",
              "    .dataframe tbody tr th {\n",
              "        vertical-align: top;\n",
              "    }\n",
              "\n",
              "    .dataframe thead th {\n",
              "        text-align: right;\n",
              "    }\n",
              "</style>\n",
              "<table border=\"1\" class=\"dataframe\">\n",
              "  <thead>\n",
              "    <tr style=\"text-align: right;\">\n",
              "      <th></th>\n",
              "      <th>Date</th>\n",
              "      <th>Open_TCS</th>\n",
              "      <th>High_TCS</th>\n",
              "      <th>Low_TCS</th>\n",
              "      <th>Close_TCS</th>\n",
              "      <th>Adj Close_TCS</th>\n",
              "      <th>Volume_TCS</th>\n",
              "      <th>Open_LTI</th>\n",
              "      <th>High_LTI</th>\n",
              "      <th>Low_LTI</th>\n",
              "      <th>Close_LTI</th>\n",
              "      <th>Adj Close_LTI</th>\n",
              "      <th>Volume_LTI</th>\n",
              "      <th>Open_INFY</th>\n",
              "      <th>High_INFY</th>\n",
              "      <th>Low_INFY</th>\n",
              "      <th>Close_INFY</th>\n",
              "      <th>Adj Close_INFY</th>\n",
              "      <th>Volume_INFY</th>\n",
              "      <th>pct_Open_LTI</th>\n",
              "      <th>pct_High_LTI</th>\n",
              "      <th>pct_Low_LTI</th>\n",
              "      <th>pct_Close_LTI</th>\n",
              "      <th>pct_Adj Close_LTI</th>\n",
              "      <th>pct_Volume_LTI</th>\n",
              "      <th>pct_Open_TCS</th>\n",
              "      <th>pct_High_TCS</th>\n",
              "      <th>pct_Low_TCS</th>\n",
              "      <th>pct_Close_TCS</th>\n",
              "      <th>pct_Adj Close_TCS</th>\n",
              "      <th>pct_Volume_TCS</th>\n",
              "      <th>pct_Open_INFY</th>\n",
              "      <th>pct_High_INFY</th>\n",
              "      <th>pct_Low_INFY</th>\n",
              "      <th>pct_Close_INFY</th>\n",
              "      <th>pct_Adj Close_INFY</th>\n",
              "      <th>pct_Volume_INFY</th>\n",
              "    </tr>\n",
              "  </thead>\n",
              "  <tbody>\n",
              "    <tr>\n",
              "      <th>0</th>\n",
              "      <td>2018-06-19</td>\n",
              "      <td>NaN</td>\n",
              "      <td>NaN</td>\n",
              "      <td>NaN</td>\n",
              "      <td>NaN</td>\n",
              "      <td>NaN</td>\n",
              "      <td>NaN</td>\n",
              "      <td>NaN</td>\n",
              "      <td>NaN</td>\n",
              "      <td>NaN</td>\n",
              "      <td>NaN</td>\n",
              "      <td>NaN</td>\n",
              "      <td>NaN</td>\n",
              "      <td>NaN</td>\n",
              "      <td>NaN</td>\n",
              "      <td>NaN</td>\n",
              "      <td>NaN</td>\n",
              "      <td>NaN</td>\n",
              "      <td>NaN</td>\n",
              "      <td>NaN</td>\n",
              "      <td>NaN</td>\n",
              "      <td>NaN</td>\n",
              "      <td>NaN</td>\n",
              "      <td>NaN</td>\n",
              "      <td>NaN</td>\n",
              "      <td>NaN</td>\n",
              "      <td>NaN</td>\n",
              "      <td>NaN</td>\n",
              "      <td>NaN</td>\n",
              "      <td>NaN</td>\n",
              "      <td>NaN</td>\n",
              "      <td>NaN</td>\n",
              "      <td>NaN</td>\n",
              "      <td>NaN</td>\n",
              "      <td>NaN</td>\n",
              "      <td>NaN</td>\n",
              "      <td>NaN</td>\n",
              "    </tr>\n",
              "    <tr>\n",
              "      <th>1</th>\n",
              "      <td>2018-06-20</td>\n",
              "      <td>1832.000000</td>\n",
              "      <td>1836.300049</td>\n",
              "      <td>1818.599976</td>\n",
              "      <td>1822.449951</td>\n",
              "      <td>1796.541870</td>\n",
              "      <td>3107695.0</td>\n",
              "      <td>1697.949951</td>\n",
              "      <td>1697.949951</td>\n",
              "      <td>1666.000000</td>\n",
              "      <td>1671.050049</td>\n",
              "      <td>1645.703857</td>\n",
              "      <td>44209.0</td>\n",
              "      <td>624.250000</td>\n",
              "      <td>626.174988</td>\n",
              "      <td>619.000000</td>\n",
              "      <td>621.575012</td>\n",
              "      <td>606.314148</td>\n",
              "      <td>5371802.0</td>\n",
              "      <td>0.000000</td>\n",
              "      <td>0.000000</td>\n",
              "      <td>0.000000</td>\n",
              "      <td>0.000000</td>\n",
              "      <td>0.000000</td>\n",
              "      <td>0.000000</td>\n",
              "      <td>0.000000</td>\n",
              "      <td>0.000000</td>\n",
              "      <td>0.000000</td>\n",
              "      <td>0.000000</td>\n",
              "      <td>0.000000</td>\n",
              "      <td>0.000000</td>\n",
              "      <td>0.000000</td>\n",
              "      <td>0.000000</td>\n",
              "      <td>0.000000</td>\n",
              "      <td>0.000000</td>\n",
              "      <td>0.000000</td>\n",
              "      <td>0.000000</td>\n",
              "    </tr>\n",
              "    <tr>\n",
              "      <th>2</th>\n",
              "      <td>2018-06-21</td>\n",
              "      <td>1832.000000</td>\n",
              "      <td>1832.000000</td>\n",
              "      <td>1817.599976</td>\n",
              "      <td>1819.349976</td>\n",
              "      <td>1793.485840</td>\n",
              "      <td>2910659.0</td>\n",
              "      <td>1667.000000</td>\n",
              "      <td>1694.800049</td>\n",
              "      <td>1656.900024</td>\n",
              "      <td>1686.400024</td>\n",
              "      <td>1660.821045</td>\n",
              "      <td>45080.0</td>\n",
              "      <td>622.974976</td>\n",
              "      <td>628.250000</td>\n",
              "      <td>618.000000</td>\n",
              "      <td>623.275024</td>\n",
              "      <td>607.972473</td>\n",
              "      <td>5798790.0</td>\n",
              "      <td>-0.018228</td>\n",
              "      <td>-0.001855</td>\n",
              "      <td>-0.005462</td>\n",
              "      <td>0.009186</td>\n",
              "      <td>0.009186</td>\n",
              "      <td>0.019702</td>\n",
              "      <td>0.000000</td>\n",
              "      <td>-0.002342</td>\n",
              "      <td>-0.000550</td>\n",
              "      <td>-0.001701</td>\n",
              "      <td>-0.001701</td>\n",
              "      <td>-0.063403</td>\n",
              "      <td>-0.002042</td>\n",
              "      <td>0.003314</td>\n",
              "      <td>-0.001616</td>\n",
              "      <td>0.002735</td>\n",
              "      <td>0.002735</td>\n",
              "      <td>0.079487</td>\n",
              "    </tr>\n",
              "    <tr>\n",
              "      <th>3</th>\n",
              "      <td>2018-06-22</td>\n",
              "      <td>1827.000000</td>\n",
              "      <td>1827.000000</td>\n",
              "      <td>1799.550049</td>\n",
              "      <td>1809.800049</td>\n",
              "      <td>1784.071777</td>\n",
              "      <td>2949458.0</td>\n",
              "      <td>1688.000000</td>\n",
              "      <td>1714.400024</td>\n",
              "      <td>1665.000000</td>\n",
              "      <td>1673.300049</td>\n",
              "      <td>1647.919800</td>\n",
              "      <td>124995.0</td>\n",
              "      <td>621.500000</td>\n",
              "      <td>627.750000</td>\n",
              "      <td>620.599976</td>\n",
              "      <td>623.924988</td>\n",
              "      <td>608.606445</td>\n",
              "      <td>4343118.0</td>\n",
              "      <td>-0.005860</td>\n",
              "      <td>0.009688</td>\n",
              "      <td>-0.000600</td>\n",
              "      <td>0.001346</td>\n",
              "      <td>0.001347</td>\n",
              "      <td>1.827365</td>\n",
              "      <td>-0.002729</td>\n",
              "      <td>-0.005065</td>\n",
              "      <td>-0.010475</td>\n",
              "      <td>-0.006941</td>\n",
              "      <td>-0.006941</td>\n",
              "      <td>-0.050918</td>\n",
              "      <td>-0.004405</td>\n",
              "      <td>0.002515</td>\n",
              "      <td>0.002585</td>\n",
              "      <td>0.003781</td>\n",
              "      <td>0.003781</td>\n",
              "      <td>-0.191497</td>\n",
              "    </tr>\n",
              "    <tr>\n",
              "      <th>4</th>\n",
              "      <td>2018-06-25</td>\n",
              "      <td>1811.900024</td>\n",
              "      <td>1822.349976</td>\n",
              "      <td>1806.000000</td>\n",
              "      <td>1819.250000</td>\n",
              "      <td>1793.387329</td>\n",
              "      <td>2083217.0</td>\n",
              "      <td>1673.000000</td>\n",
              "      <td>1695.000000</td>\n",
              "      <td>1655.000000</td>\n",
              "      <td>1662.150024</td>\n",
              "      <td>1636.938843</td>\n",
              "      <td>63432.0</td>\n",
              "      <td>628.575012</td>\n",
              "      <td>639.400024</td>\n",
              "      <td>627.000000</td>\n",
              "      <td>636.224976</td>\n",
              "      <td>620.604431</td>\n",
              "      <td>7731178.0</td>\n",
              "      <td>-0.014694</td>\n",
              "      <td>-0.001737</td>\n",
              "      <td>-0.006603</td>\n",
              "      <td>-0.005326</td>\n",
              "      <td>-0.005326</td>\n",
              "      <td>0.434821</td>\n",
              "      <td>-0.010972</td>\n",
              "      <td>-0.007597</td>\n",
              "      <td>-0.006928</td>\n",
              "      <td>-0.001756</td>\n",
              "      <td>-0.001756</td>\n",
              "      <td>-0.329658</td>\n",
              "      <td>0.006928</td>\n",
              "      <td>0.021120</td>\n",
              "      <td>0.012924</td>\n",
              "      <td>0.023569</td>\n",
              "      <td>0.023569</td>\n",
              "      <td>0.439215</td>\n",
              "    </tr>\n",
              "  </tbody>\n",
              "</table>\n",
              "</div>"
            ],
            "text/plain": [
              "        Date     Open_TCS  ...  pct_Adj Close_INFY  pct_Volume_INFY\n",
              "0 2018-06-19          NaN  ...                 NaN              NaN\n",
              "1 2018-06-20  1832.000000  ...            0.000000         0.000000\n",
              "2 2018-06-21  1832.000000  ...            0.002735         0.079487\n",
              "3 2018-06-22  1827.000000  ...            0.003781        -0.191497\n",
              "4 2018-06-25  1811.900024  ...            0.023569         0.439215\n",
              "\n",
              "[5 rows x 37 columns]"
            ]
          },
          "metadata": {
            "tags": []
          },
          "execution_count": 133
        }
      ]
    },
    {
      "cell_type": "code",
      "metadata": {
        "id": "YHxTP_bJ_Uud",
        "colab_type": "code",
        "colab": {
          "base_uri": "https://localhost:8080/",
          "height": 299
        },
        "outputId": "0ac12729-b22a-40d0-92bf-d63c89a6308b"
      },
      "source": [
        "newdf.plot(x = 'Date' , y = ['pct_Open_TCS','pct_Open_LTI','pct_Open_INFY'] , kind = 'line')"
      ],
      "execution_count": 134,
      "outputs": [
        {
          "output_type": "execute_result",
          "data": {
            "text/plain": [
              "<matplotlib.axes._subplots.AxesSubplot at 0x7f3e2cc104a8>"
            ]
          },
          "metadata": {
            "tags": []
          },
          "execution_count": 134
        },
        {
          "output_type": "display_data",
          "data": {
            "image/png": "[encoded data removed]",
            "text/plain": [
              "<Figure size 432x288 with 1 Axes>"
            ]
          },
          "metadata": {
            "tags": []
          }
        }
      ]
    },
    {
      "cell_type": "code",
      "metadata": {
        "id": "z5CcxsVu_mv9",
        "colab_type": "code",
        "colab": {}
      },
      "source": [
        ""
      ],
      "execution_count": 0,
      "outputs": []
    }
  ]
}