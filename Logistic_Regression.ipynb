{
  "nbformat": 4,
  "nbformat_minor": 0,
  "metadata": {
    "colab": {
      "name": "Logistic Regression.ipynb",
      "version": "0.3.2",
      "provenance": [],
      "collapsed_sections": [],
      "include_colab_link": true
    },
    "kernelspec": {
      "name": "python3",
      "display_name": "Python 3"
    }
  },
  "cells": [
    {
      "cell_type": "markdown",
      "metadata": {
        "id": "view-in-github",
        "colab_type": "text"
      },
      "source": [
        "<a href=\"https://colab.research.google.com/github/Shreyas3108/Upgrad_DS/blob/master/Logistic_Regression.ipynb\" target=\"_parent\"><img src=\"https://colab.research.google.com/assets/colab-badge.svg\" alt=\"Open In Colab\"/></a>"
      ]
    },
    {
      "cell_type": "code",
      "metadata": {
        "id": "D6rRMGi5lPdc",
        "colab_type": "code",
        "colab": {}
      },
      "source": [
        "import pandas as pd\n",
        "import numpy as np"
      ],
      "execution_count": 0,
      "outputs": []
    },
    {
      "cell_type": "code",
      "metadata": {
        "id": "oCO9Ya9RlR0s",
        "colab_type": "code",
        "colab": {}
      },
      "source": [
        "df = pd.read_csv('https://github.com/Shreyas3108/Upgrad_DS/raw/master/bank-additional-full.csv' , delimiter=';')"
      ],
      "execution_count": 0,
      "outputs": []
    },
    {
      "cell_type": "code",
      "metadata": {
        "id": "E3m-yZzulkEf",
        "colab_type": "code",
        "colab": {
          "base_uri": "https://localhost:8080/",
          "height": 222
        },
        "outputId": "9aa39de5-0ddd-4210-eb64-9eedb021875a"
      },
      "source": [
        "df.head()"
      ],
      "execution_count": 7,
      "outputs": [
        {
          "output_type": "execute_result",
          "data": {
            "text/html": [
              "<div>\n",
              "<style scoped>\n",
              "    .dataframe tbody tr th:only-of-type {\n",
              "        vertical-align: middle;\n",
              "    }\n",
              "\n",
              "    .dataframe tbody tr th {\n",
              "        vertical-align: top;\n",
              "    }\n",
              "\n",
              "    .dataframe thead th {\n",
              "        text-align: right;\n",
              "    }\n",
              "</style>\n",
              "<table border=\"1\" class=\"dataframe\">\n",
              "  <thead>\n",
              "    <tr style=\"text-align: right;\">\n",
              "      <th></th>\n",
              "      <th>age</th>\n",
              "      <th>job</th>\n",
              "      <th>marital</th>\n",
              "      <th>education</th>\n",
              "      <th>default</th>\n",
              "      <th>housing</th>\n",
              "      <th>loan</th>\n",
              "      <th>contact</th>\n",
              "      <th>month</th>\n",
              "      <th>day_of_week</th>\n",
              "      <th>duration</th>\n",
              "      <th>campaign</th>\n",
              "      <th>pdays</th>\n",
              "      <th>previous</th>\n",
              "      <th>poutcome</th>\n",
              "      <th>emp.var.rate</th>\n",
              "      <th>cons.price.idx</th>\n",
              "      <th>cons.conf.idx</th>\n",
              "      <th>euribor3m</th>\n",
              "      <th>nr.employed</th>\n",
              "      <th>y</th>\n",
              "    </tr>\n",
              "  </thead>\n",
              "  <tbody>\n",
              "    <tr>\n",
              "      <th>0</th>\n",
              "      <td>56</td>\n",
              "      <td>housemaid</td>\n",
              "      <td>married</td>\n",
              "      <td>basic.4y</td>\n",
              "      <td>no</td>\n",
              "      <td>no</td>\n",
              "      <td>no</td>\n",
              "      <td>telephone</td>\n",
              "      <td>may</td>\n",
              "      <td>mon</td>\n",
              "      <td>261</td>\n",
              "      <td>1</td>\n",
              "      <td>999</td>\n",
              "      <td>0</td>\n",
              "      <td>nonexistent</td>\n",
              "      <td>1.1</td>\n",
              "      <td>93.994</td>\n",
              "      <td>-36.4</td>\n",
              "      <td>4.857</td>\n",
              "      <td>5191.0</td>\n",
              "      <td>no</td>\n",
              "    </tr>\n",
              "    <tr>\n",
              "      <th>1</th>\n",
              "      <td>57</td>\n",
              "      <td>services</td>\n",
              "      <td>married</td>\n",
              "      <td>high.school</td>\n",
              "      <td>unknown</td>\n",
              "      <td>no</td>\n",
              "      <td>no</td>\n",
              "      <td>telephone</td>\n",
              "      <td>may</td>\n",
              "      <td>mon</td>\n",
              "      <td>149</td>\n",
              "      <td>1</td>\n",
              "      <td>999</td>\n",
              "      <td>0</td>\n",
              "      <td>nonexistent</td>\n",
              "      <td>1.1</td>\n",
              "      <td>93.994</td>\n",
              "      <td>-36.4</td>\n",
              "      <td>4.857</td>\n",
              "      <td>5191.0</td>\n",
              "      <td>no</td>\n",
              "    </tr>\n",
              "    <tr>\n",
              "      <th>2</th>\n",
              "      <td>37</td>\n",
              "      <td>services</td>\n",
              "      <td>married</td>\n",
              "      <td>high.school</td>\n",
              "      <td>no</td>\n",
              "      <td>yes</td>\n",
              "      <td>no</td>\n",
              "      <td>telephone</td>\n",
              "      <td>may</td>\n",
              "      <td>mon</td>\n",
              "      <td>226</td>\n",
              "      <td>1</td>\n",
              "      <td>999</td>\n",
              "      <td>0</td>\n",
              "      <td>nonexistent</td>\n",
              "      <td>1.1</td>\n",
              "      <td>93.994</td>\n",
              "      <td>-36.4</td>\n",
              "      <td>4.857</td>\n",
              "      <td>5191.0</td>\n",
              "      <td>no</td>\n",
              "    </tr>\n",
              "    <tr>\n",
              "      <th>3</th>\n",
              "      <td>40</td>\n",
              "      <td>admin.</td>\n",
              "      <td>married</td>\n",
              "      <td>basic.6y</td>\n",
              "      <td>no</td>\n",
              "      <td>no</td>\n",
              "      <td>no</td>\n",
              "      <td>telephone</td>\n",
              "      <td>may</td>\n",
              "      <td>mon</td>\n",
              "      <td>151</td>\n",
              "      <td>1</td>\n",
              "      <td>999</td>\n",
              "      <td>0</td>\n",
              "      <td>nonexistent</td>\n",
              "      <td>1.1</td>\n",
              "      <td>93.994</td>\n",
              "      <td>-36.4</td>\n",
              "      <td>4.857</td>\n",
              "      <td>5191.0</td>\n",
              "      <td>no</td>\n",
              "    </tr>\n",
              "    <tr>\n",
              "      <th>4</th>\n",
              "      <td>56</td>\n",
              "      <td>services</td>\n",
              "      <td>married</td>\n",
              "      <td>high.school</td>\n",
              "      <td>no</td>\n",
              "      <td>no</td>\n",
              "      <td>yes</td>\n",
              "      <td>telephone</td>\n",
              "      <td>may</td>\n",
              "      <td>mon</td>\n",
              "      <td>307</td>\n",
              "      <td>1</td>\n",
              "      <td>999</td>\n",
              "      <td>0</td>\n",
              "      <td>nonexistent</td>\n",
              "      <td>1.1</td>\n",
              "      <td>93.994</td>\n",
              "      <td>-36.4</td>\n",
              "      <td>4.857</td>\n",
              "      <td>5191.0</td>\n",
              "      <td>no</td>\n",
              "    </tr>\n",
              "  </tbody>\n",
              "</table>\n",
              "</div>"
            ],
            "text/plain": [
              "   age        job  marital  ... euribor3m nr.employed   y\n",
              "0   56  housemaid  married  ...     4.857      5191.0  no\n",
              "1   57   services  married  ...     4.857      5191.0  no\n",
              "2   37   services  married  ...     4.857      5191.0  no\n",
              "3   40     admin.  married  ...     4.857      5191.0  no\n",
              "4   56   services  married  ...     4.857      5191.0  no\n",
              "\n",
              "[5 rows x 21 columns]"
            ]
          },
          "metadata": {
            "tags": []
          },
          "execution_count": 7
        }
      ]
    },
    {
      "cell_type": "code",
      "metadata": {
        "id": "55d3JBPullJM",
        "colab_type": "code",
        "colab": {
          "base_uri": "https://localhost:8080/",
          "height": 35
        },
        "outputId": "b4184dd8-8dae-428a-9460-4852763f223b"
      },
      "source": [
        "df.shape"
      ],
      "execution_count": 8,
      "outputs": [
        {
          "output_type": "execute_result",
          "data": {
            "text/plain": [
              "(41188, 21)"
            ]
          },
          "metadata": {
            "tags": []
          },
          "execution_count": 8
        }
      ]
    },
    {
      "cell_type": "code",
      "metadata": {
        "id": "Mtap_eSQmDsq",
        "colab_type": "code",
        "colab": {
          "base_uri": "https://localhost:8080/",
          "height": 468
        },
        "outputId": "d9ff76c8-ec85-4a4f-8161-a54e2de502be"
      },
      "source": [
        "df.info()"
      ],
      "execution_count": 9,
      "outputs": [
        {
          "output_type": "stream",
          "text": [
            "<class 'pandas.core.frame.DataFrame'>\n",
            "RangeIndex: 41188 entries, 0 to 41187\n",
            "Data columns (total 21 columns):\n",
            "age               41188 non-null int64\n",
            "job               41188 non-null object\n",
            "marital           41188 non-null object\n",
            "education         41188 non-null object\n",
            "default           41188 non-null object\n",
            "housing           41188 non-null object\n",
            "loan              41188 non-null object\n",
            "contact           41188 non-null object\n",
            "month             41188 non-null object\n",
            "day_of_week       41188 non-null object\n",
            "duration          41188 non-null int64\n",
            "campaign          41188 non-null int64\n",
            "pdays             41188 non-null int64\n",
            "previous          41188 non-null int64\n",
            "poutcome          41188 non-null object\n",
            "emp.var.rate      41188 non-null float64\n",
            "cons.price.idx    41188 non-null float64\n",
            "cons.conf.idx     41188 non-null float64\n",
            "euribor3m         41188 non-null float64\n",
            "nr.employed       41188 non-null float64\n",
            "y                 41188 non-null object\n",
            "dtypes: float64(5), int64(5), object(11)\n",
            "memory usage: 6.6+ MB\n"
          ],
          "name": "stdout"
        }
      ]
    },
    {
      "cell_type": "code",
      "metadata": {
        "id": "Zwk_fy9emFGF",
        "colab_type": "code",
        "colab": {
          "base_uri": "https://localhost:8080/",
          "height": 243
        },
        "outputId": "ea9dbc60-a108-4a10-8e78-c35b2540558b"
      },
      "source": [
        "df['job'].value_counts()"
      ],
      "execution_count": 10,
      "outputs": [
        {
          "output_type": "execute_result",
          "data": {
            "text/plain": [
              "admin.           10422\n",
              "blue-collar       9254\n",
              "technician        6743\n",
              "services          3969\n",
              "management        2924\n",
              "retired           1720\n",
              "entrepreneur      1456\n",
              "self-employed     1421\n",
              "housemaid         1060\n",
              "unemployed        1014\n",
              "student            875\n",
              "unknown            330\n",
              "Name: job, dtype: int64"
            ]
          },
          "metadata": {
            "tags": []
          },
          "execution_count": 10
        }
      ]
    },
    {
      "cell_type": "code",
      "metadata": {
        "id": "4xu6Rzb1mLrT",
        "colab_type": "code",
        "colab": {
          "base_uri": "https://localhost:8080/",
          "height": 104
        },
        "outputId": "a1888250-ccdd-4956-d3aa-3501cf2c02a8"
      },
      "source": [
        "df['marital'].value_counts()"
      ],
      "execution_count": 11,
      "outputs": [
        {
          "output_type": "execute_result",
          "data": {
            "text/plain": [
              "married     24928\n",
              "single      11568\n",
              "divorced     4612\n",
              "unknown        80\n",
              "Name: marital, dtype: int64"
            ]
          },
          "metadata": {
            "tags": []
          },
          "execution_count": 11
        }
      ]
    },
    {
      "cell_type": "code",
      "metadata": {
        "id": "5MQmtOIQmU4x",
        "colab_type": "code",
        "colab": {
          "base_uri": "https://localhost:8080/",
          "height": 173
        },
        "outputId": "0834f52f-a685-4af4-ebeb-ffb4f9cfe28e"
      },
      "source": [
        "df['education'].value_counts()"
      ],
      "execution_count": 12,
      "outputs": [
        {
          "output_type": "execute_result",
          "data": {
            "text/plain": [
              "university.degree      12168\n",
              "high.school             9515\n",
              "basic.9y                6045\n",
              "professional.course     5243\n",
              "basic.4y                4176\n",
              "basic.6y                2292\n",
              "unknown                 1731\n",
              "illiterate                18\n",
              "Name: education, dtype: int64"
            ]
          },
          "metadata": {
            "tags": []
          },
          "execution_count": 12
        }
      ]
    },
    {
      "cell_type": "code",
      "metadata": {
        "id": "DH4StK9tncH4",
        "colab_type": "code",
        "colab": {
          "base_uri": "https://localhost:8080/",
          "height": 87
        },
        "outputId": "bce1a69f-95be-4477-9d1b-85b654bf56b7"
      },
      "source": [
        "df['default'].value_counts()"
      ],
      "execution_count": 13,
      "outputs": [
        {
          "output_type": "execute_result",
          "data": {
            "text/plain": [
              "no         32588\n",
              "unknown     8597\n",
              "yes            3\n",
              "Name: default, dtype: int64"
            ]
          },
          "metadata": {
            "tags": []
          },
          "execution_count": 13
        }
      ]
    },
    {
      "cell_type": "code",
      "metadata": {
        "id": "KrBAbJh0nwLQ",
        "colab_type": "code",
        "colab": {
          "base_uri": "https://localhost:8080/",
          "height": 87
        },
        "outputId": "a901d249-d8d4-4d46-b4e6-51e820e4f899"
      },
      "source": [
        "df['housing'].value_counts()"
      ],
      "execution_count": 14,
      "outputs": [
        {
          "output_type": "execute_result",
          "data": {
            "text/plain": [
              "yes        21576\n",
              "no         18622\n",
              "unknown      990\n",
              "Name: housing, dtype: int64"
            ]
          },
          "metadata": {
            "tags": []
          },
          "execution_count": 14
        }
      ]
    },
    {
      "cell_type": "code",
      "metadata": {
        "id": "xGVtwXc3nz2M",
        "colab_type": "code",
        "colab": {
          "base_uri": "https://localhost:8080/",
          "height": 87
        },
        "outputId": "aafb393b-e527-42ee-9f33-951a47c1aead"
      },
      "source": [
        "df['loan'].value_counts()"
      ],
      "execution_count": 15,
      "outputs": [
        {
          "output_type": "execute_result",
          "data": {
            "text/plain": [
              "no         33950\n",
              "yes         6248\n",
              "unknown      990\n",
              "Name: loan, dtype: int64"
            ]
          },
          "metadata": {
            "tags": []
          },
          "execution_count": 15
        }
      ]
    },
    {
      "cell_type": "code",
      "metadata": {
        "id": "h8EtveGHn2iz",
        "colab_type": "code",
        "colab": {
          "base_uri": "https://localhost:8080/",
          "height": 69
        },
        "outputId": "beeb5be2-0e90-4a19-f60e-968f6298dd8f"
      },
      "source": [
        "df['contact'].value_counts()"
      ],
      "execution_count": 16,
      "outputs": [
        {
          "output_type": "execute_result",
          "data": {
            "text/plain": [
              "cellular     26144\n",
              "telephone    15044\n",
              "Name: contact, dtype: int64"
            ]
          },
          "metadata": {
            "tags": []
          },
          "execution_count": 16
        }
      ]
    },
    {
      "cell_type": "code",
      "metadata": {
        "id": "1M6vd_xgoNxs",
        "colab_type": "code",
        "colab": {
          "base_uri": "https://localhost:8080/",
          "height": 208
        },
        "outputId": "489728df-24e0-430d-fd33-a378a1280786"
      },
      "source": [
        "df['month'].value_counts()"
      ],
      "execution_count": 17,
      "outputs": [
        {
          "output_type": "execute_result",
          "data": {
            "text/plain": [
              "may    13769\n",
              "jul     7174\n",
              "aug     6178\n",
              "jun     5318\n",
              "nov     4101\n",
              "apr     2632\n",
              "oct      718\n",
              "sep      570\n",
              "mar      546\n",
              "dec      182\n",
              "Name: month, dtype: int64"
            ]
          },
          "metadata": {
            "tags": []
          },
          "execution_count": 17
        }
      ]
    },
    {
      "cell_type": "code",
      "metadata": {
        "id": "p3CR_bQGoXGk",
        "colab_type": "code",
        "colab": {}
      },
      "source": [
        "df = df.drop(['day_of_week'],axis = 1)"
      ],
      "execution_count": 0,
      "outputs": []
    },
    {
      "cell_type": "code",
      "metadata": {
        "id": "J7d4osE_odEs",
        "colab_type": "code",
        "colab": {
          "base_uri": "https://localhost:8080/",
          "height": 87
        },
        "outputId": "eeb4e6cd-e645-42a2-ec86-47e1c657eaf5"
      },
      "source": [
        "df['poutcome'].value_counts()"
      ],
      "execution_count": 22,
      "outputs": [
        {
          "output_type": "execute_result",
          "data": {
            "text/plain": [
              "nonexistent    35563\n",
              "failure         4252\n",
              "success         1373\n",
              "Name: poutcome, dtype: int64"
            ]
          },
          "metadata": {
            "tags": []
          },
          "execution_count": 22
        }
      ]
    },
    {
      "cell_type": "code",
      "metadata": {
        "id": "Mu8EEmuyo1jK",
        "colab_type": "code",
        "colab": {}
      },
      "source": [
        "df = df.drop(['duration'],axis = 1)"
      ],
      "execution_count": 0,
      "outputs": []
    },
    {
      "cell_type": "code",
      "metadata": {
        "id": "GdM7kzBjp9GB",
        "colab_type": "code",
        "colab": {
          "base_uri": "https://localhost:8080/",
          "height": 69
        },
        "outputId": "8fb8e13c-84fd-45c4-c60a-c5a3e4a730db"
      },
      "source": [
        "df.select_dtypes(['O']).columns"
      ],
      "execution_count": 29,
      "outputs": [
        {
          "output_type": "execute_result",
          "data": {
            "text/plain": [
              "Index(['job', 'marital', 'education', 'default', 'housing', 'loan', 'contact',\n",
              "       'month', 'poutcome', 'y'],\n",
              "      dtype='object')"
            ]
          },
          "metadata": {
            "tags": []
          },
          "execution_count": 29
        }
      ]
    },
    {
      "cell_type": "code",
      "metadata": {
        "id": "lpgxfdawp-Ge",
        "colab_type": "code",
        "colab": {
          "base_uri": "https://localhost:8080/",
          "height": 243
        },
        "outputId": "c9ac9080-70a6-4e22-e7e6-a1f8b4368d0a"
      },
      "source": [
        "df['job'].value_counts()"
      ],
      "execution_count": 25,
      "outputs": [
        {
          "output_type": "execute_result",
          "data": {
            "text/plain": [
              "admin.           10422\n",
              "blue-collar       9254\n",
              "technician        6743\n",
              "services          3969\n",
              "management        2924\n",
              "retired           1720\n",
              "entrepreneur      1456\n",
              "self-employed     1421\n",
              "housemaid         1060\n",
              "unemployed        1014\n",
              "student            875\n",
              "unknown            330\n",
              "Name: job, dtype: int64"
            ]
          },
          "metadata": {
            "tags": []
          },
          "execution_count": 25
        }
      ]
    },
    {
      "cell_type": "code",
      "metadata": {
        "id": "m7U8MqoOqKJW",
        "colab_type": "code",
        "colab": {}
      },
      "source": [
        "df1 = pd.get_dummies(data=df , columns=['job', 'marital', 'education', 'default', 'housing', 'loan', 'contact',\n",
        "       'month', 'poutcome'])"
      ],
      "execution_count": 0,
      "outputs": []
    },
    {
      "cell_type": "code",
      "metadata": {
        "id": "hcPOTx5EqOqS",
        "colab_type": "code",
        "colab": {
          "base_uri": "https://localhost:8080/",
          "height": 35
        },
        "outputId": "8b40cc4b-b6b1-41f5-9347-992f0744b2db"
      },
      "source": [
        "df1.shape"
      ],
      "execution_count": 31,
      "outputs": [
        {
          "output_type": "execute_result",
          "data": {
            "text/plain": [
              "(41188, 58)"
            ]
          },
          "metadata": {
            "tags": []
          },
          "execution_count": 31
        }
      ]
    },
    {
      "cell_type": "code",
      "metadata": {
        "id": "oj6GDMhGq4x_",
        "colab_type": "code",
        "colab": {}
      },
      "source": [
        "df1['y'] = df1['y'].apply(lambda x:1 if x == 'yes' else 0)"
      ],
      "execution_count": 0,
      "outputs": []
    },
    {
      "cell_type": "code",
      "metadata": {
        "id": "z3Gn_TKQrCX8",
        "colab_type": "code",
        "colab": {}
      },
      "source": [
        "X = df1.drop('y' , axis = 1)\n",
        "y = df1['y']"
      ],
      "execution_count": 0,
      "outputs": []
    },
    {
      "cell_type": "code",
      "metadata": {
        "id": "4qrZbbE_r11X",
        "colab_type": "code",
        "colab": {}
      },
      "source": [
        "from statsmodels.stats.outliers_influence import variance_inflation_factor\n",
        "from statsmodels.tools.tools import add_constant\n"
      ],
      "execution_count": 0,
      "outputs": []
    },
    {
      "cell_type": "code",
      "metadata": {
        "id": "1BfcRGfEsYUS",
        "colab_type": "code",
        "colab": {
          "base_uri": "https://localhost:8080/",
          "height": 107
        },
        "outputId": "ca35882b-1f3c-47bc-9d0e-9026c09eba16"
      },
      "source": [
        "X1 = add_constant(X)\n",
        "vif = pd.Series([variance_inflation_factor(X.values, i) \n",
        "               for i in range(X.shape[1])], \n",
        "              index=X.columns)"
      ],
      "execution_count": 43,
      "outputs": [
        {
          "output_type": "stream",
          "text": [
            "/usr/local/lib/python3.6/dist-packages/numpy/core/fromnumeric.py:2389: FutureWarning: Method .ptp is deprecated and will be removed in a future version. Use numpy.ptp instead.\n",
            "  return ptp(axis=axis, out=out, **kwargs)\n",
            "/usr/local/lib/python3.6/dist-packages/statsmodels/stats/outliers_influence.py:185: RuntimeWarning: divide by zero encountered in double_scalars\n",
            "  vif = 1. / (1. - r_squared_i)\n"
          ],
          "name": "stderr"
        }
      ]
    },
    {
      "cell_type": "code",
      "metadata": {
        "id": "q38krDX_syO9",
        "colab_type": "code",
        "colab": {}
      },
      "source": [
        "from sklearn.feature_selection import RFE"
      ],
      "execution_count": 0,
      "outputs": []
    },
    {
      "cell_type": "code",
      "metadata": {
        "id": "L6S5R1vftAPD",
        "colab_type": "code",
        "colab": {}
      },
      "source": [
        "from sklearn.linear_model import LogisticRegression"
      ],
      "execution_count": 0,
      "outputs": []
    },
    {
      "cell_type": "code",
      "metadata": {
        "id": "CS1ytzmNtyJL",
        "colab_type": "code",
        "colab": {}
      },
      "source": [
        "logreg = LogisticRegression()"
      ],
      "execution_count": 0,
      "outputs": []
    },
    {
      "cell_type": "code",
      "metadata": {
        "id": "JbCj_jjqt1Ix",
        "colab_type": "code",
        "colab": {}
      },
      "source": [
        "rfe = RFE(logreg , 12)"
      ],
      "execution_count": 0,
      "outputs": []
    },
    {
      "cell_type": "code",
      "metadata": {
        "id": "PYYe4-Nbt6r9",
        "colab_type": "code",
        "colab": {
          "base_uri": "https://localhost:8080/",
          "height": 139
        },
        "outputId": "168ff271-e65e-4f6a-9fc2-0ab4362bbfe8"
      },
      "source": [
        "rfe.fit(X , y)"
      ],
      "execution_count": 140,
      "outputs": [
        {
          "output_type": "execute_result",
          "data": {
            "text/plain": [
              "RFE(estimator=LogisticRegression(C=1.0, class_weight=None, dual=False,\n",
              "                                 fit_intercept=True, intercept_scaling=1,\n",
              "                                 l1_ratio=None, max_iter=100,\n",
              "                                 multi_class='warn', n_jobs=None, penalty='l2',\n",
              "                                 random_state=None, solver='warn', tol=0.0001,\n",
              "                                 verbose=0, warm_start=False),\n",
              "    n_features_to_select=12, step=1, verbose=0)"
            ]
          },
          "metadata": {
            "tags": []
          },
          "execution_count": 140
        }
      ]
    },
    {
      "cell_type": "code",
      "metadata": {
        "id": "DuB7XN-5t9Ah",
        "colab_type": "code",
        "colab": {
          "base_uri": "https://localhost:8080/",
          "height": 35
        },
        "outputId": "76c96625-c5fa-4327-e1d5-0474dfffd945"
      },
      "source": [
        "rfe.n_features_to_select"
      ],
      "execution_count": 141,
      "outputs": [
        {
          "output_type": "execute_result",
          "data": {
            "text/plain": [
              "12"
            ]
          },
          "metadata": {
            "tags": []
          },
          "execution_count": 141
        }
      ]
    },
    {
      "cell_type": "code",
      "metadata": {
        "id": "QePI7pozuPPx",
        "colab_type": "code",
        "colab": {
          "base_uri": "https://localhost:8080/",
          "height": 1000
        },
        "outputId": "11668fc1-b801-442f-efcb-d53ef69a1f57"
      },
      "source": [
        "pd.DataFrame(rfe.support_ , index = X.columns)"
      ],
      "execution_count": 142,
      "outputs": [
        {
          "output_type": "execute_result",
          "data": {
            "text/html": [
              "<div>\n",
              "<style scoped>\n",
              "    .dataframe tbody tr th:only-of-type {\n",
              "        vertical-align: middle;\n",
              "    }\n",
              "\n",
              "    .dataframe tbody tr th {\n",
              "        vertical-align: top;\n",
              "    }\n",
              "\n",
              "    .dataframe thead th {\n",
              "        text-align: right;\n",
              "    }\n",
              "</style>\n",
              "<table border=\"1\" class=\"dataframe\">\n",
              "  <thead>\n",
              "    <tr style=\"text-align: right;\">\n",
              "      <th></th>\n",
              "      <th>0</th>\n",
              "    </tr>\n",
              "  </thead>\n",
              "  <tbody>\n",
              "    <tr>\n",
              "      <th>age</th>\n",
              "      <td>False</td>\n",
              "    </tr>\n",
              "    <tr>\n",
              "      <th>campaign</th>\n",
              "      <td>False</td>\n",
              "    </tr>\n",
              "    <tr>\n",
              "      <th>pdays</th>\n",
              "      <td>False</td>\n",
              "    </tr>\n",
              "    <tr>\n",
              "      <th>previous</th>\n",
              "      <td>True</td>\n",
              "    </tr>\n",
              "    <tr>\n",
              "      <th>emp.var.rate</th>\n",
              "      <td>False</td>\n",
              "    </tr>\n",
              "    <tr>\n",
              "      <th>cons.price.idx</th>\n",
              "      <td>False</td>\n",
              "    </tr>\n",
              "    <tr>\n",
              "      <th>cons.conf.idx</th>\n",
              "      <td>False</td>\n",
              "    </tr>\n",
              "    <tr>\n",
              "      <th>euribor3m</th>\n",
              "      <td>True</td>\n",
              "    </tr>\n",
              "    <tr>\n",
              "      <th>nr.employed</th>\n",
              "      <td>False</td>\n",
              "    </tr>\n",
              "    <tr>\n",
              "      <th>job_admin.</th>\n",
              "      <td>False</td>\n",
              "    </tr>\n",
              "    <tr>\n",
              "      <th>job_blue-collar</th>\n",
              "      <td>False</td>\n",
              "    </tr>\n",
              "    <tr>\n",
              "      <th>job_entrepreneur</th>\n",
              "      <td>False</td>\n",
              "    </tr>\n",
              "    <tr>\n",
              "      <th>job_housemaid</th>\n",
              "      <td>False</td>\n",
              "    </tr>\n",
              "    <tr>\n",
              "      <th>job_management</th>\n",
              "      <td>False</td>\n",
              "    </tr>\n",
              "    <tr>\n",
              "      <th>job_retired</th>\n",
              "      <td>True</td>\n",
              "    </tr>\n",
              "    <tr>\n",
              "      <th>job_self-employed</th>\n",
              "      <td>False</td>\n",
              "    </tr>\n",
              "    <tr>\n",
              "      <th>job_services</th>\n",
              "      <td>False</td>\n",
              "    </tr>\n",
              "    <tr>\n",
              "      <th>job_student</th>\n",
              "      <td>True</td>\n",
              "    </tr>\n",
              "    <tr>\n",
              "      <th>job_technician</th>\n",
              "      <td>False</td>\n",
              "    </tr>\n",
              "    <tr>\n",
              "      <th>job_unemployed</th>\n",
              "      <td>False</td>\n",
              "    </tr>\n",
              "    <tr>\n",
              "      <th>job_unknown</th>\n",
              "      <td>False</td>\n",
              "    </tr>\n",
              "    <tr>\n",
              "      <th>marital_divorced</th>\n",
              "      <td>False</td>\n",
              "    </tr>\n",
              "    <tr>\n",
              "      <th>marital_married</th>\n",
              "      <td>False</td>\n",
              "    </tr>\n",
              "    <tr>\n",
              "      <th>marital_single</th>\n",
              "      <td>False</td>\n",
              "    </tr>\n",
              "    <tr>\n",
              "      <th>marital_unknown</th>\n",
              "      <td>False</td>\n",
              "    </tr>\n",
              "    <tr>\n",
              "      <th>education_basic.4y</th>\n",
              "      <td>False</td>\n",
              "    </tr>\n",
              "    <tr>\n",
              "      <th>education_basic.6y</th>\n",
              "      <td>False</td>\n",
              "    </tr>\n",
              "    <tr>\n",
              "      <th>education_basic.9y</th>\n",
              "      <td>False</td>\n",
              "    </tr>\n",
              "    <tr>\n",
              "      <th>education_high.school</th>\n",
              "      <td>False</td>\n",
              "    </tr>\n",
              "    <tr>\n",
              "      <th>education_illiterate</th>\n",
              "      <td>False</td>\n",
              "    </tr>\n",
              "    <tr>\n",
              "      <th>education_professional.course</th>\n",
              "      <td>False</td>\n",
              "    </tr>\n",
              "    <tr>\n",
              "      <th>education_university.degree</th>\n",
              "      <td>False</td>\n",
              "    </tr>\n",
              "    <tr>\n",
              "      <th>education_unknown</th>\n",
              "      <td>False</td>\n",
              "    </tr>\n",
              "    <tr>\n",
              "      <th>default_no</th>\n",
              "      <td>False</td>\n",
              "    </tr>\n",
              "    <tr>\n",
              "      <th>default_unknown</th>\n",
              "      <td>True</td>\n",
              "    </tr>\n",
              "    <tr>\n",
              "      <th>default_yes</th>\n",
              "      <td>False</td>\n",
              "    </tr>\n",
              "    <tr>\n",
              "      <th>housing_no</th>\n",
              "      <td>False</td>\n",
              "    </tr>\n",
              "    <tr>\n",
              "      <th>housing_unknown</th>\n",
              "      <td>False</td>\n",
              "    </tr>\n",
              "    <tr>\n",
              "      <th>housing_yes</th>\n",
              "      <td>False</td>\n",
              "    </tr>\n",
              "    <tr>\n",
              "      <th>loan_no</th>\n",
              "      <td>False</td>\n",
              "    </tr>\n",
              "    <tr>\n",
              "      <th>loan_unknown</th>\n",
              "      <td>False</td>\n",
              "    </tr>\n",
              "    <tr>\n",
              "      <th>loan_yes</th>\n",
              "      <td>False</td>\n",
              "    </tr>\n",
              "    <tr>\n",
              "      <th>contact_cellular</th>\n",
              "      <td>False</td>\n",
              "    </tr>\n",
              "    <tr>\n",
              "      <th>contact_telephone</th>\n",
              "      <td>False</td>\n",
              "    </tr>\n",
              "    <tr>\n",
              "      <th>month_apr</th>\n",
              "      <td>True</td>\n",
              "    </tr>\n",
              "    <tr>\n",
              "      <th>month_aug</th>\n",
              "      <td>True</td>\n",
              "    </tr>\n",
              "    <tr>\n",
              "      <th>month_dec</th>\n",
              "      <td>False</td>\n",
              "    </tr>\n",
              "    <tr>\n",
              "      <th>month_jul</th>\n",
              "      <td>False</td>\n",
              "    </tr>\n",
              "    <tr>\n",
              "      <th>month_jun</th>\n",
              "      <td>False</td>\n",
              "    </tr>\n",
              "    <tr>\n",
              "      <th>month_mar</th>\n",
              "      <td>True</td>\n",
              "    </tr>\n",
              "    <tr>\n",
              "      <th>month_may</th>\n",
              "      <td>True</td>\n",
              "    </tr>\n",
              "    <tr>\n",
              "      <th>month_nov</th>\n",
              "      <td>True</td>\n",
              "    </tr>\n",
              "    <tr>\n",
              "      <th>month_oct</th>\n",
              "      <td>False</td>\n",
              "    </tr>\n",
              "    <tr>\n",
              "      <th>month_sep</th>\n",
              "      <td>False</td>\n",
              "    </tr>\n",
              "    <tr>\n",
              "      <th>poutcome_failure</th>\n",
              "      <td>True</td>\n",
              "    </tr>\n",
              "    <tr>\n",
              "      <th>poutcome_nonexistent</th>\n",
              "      <td>False</td>\n",
              "    </tr>\n",
              "    <tr>\n",
              "      <th>poutcome_success</th>\n",
              "      <td>True</td>\n",
              "    </tr>\n",
              "  </tbody>\n",
              "</table>\n",
              "</div>"
            ],
            "text/plain": [
              "                                   0\n",
              "age                            False\n",
              "campaign                       False\n",
              "pdays                          False\n",
              "previous                        True\n",
              "emp.var.rate                   False\n",
              "cons.price.idx                 False\n",
              "cons.conf.idx                  False\n",
              "euribor3m                       True\n",
              "nr.employed                    False\n",
              "job_admin.                     False\n",
              "job_blue-collar                False\n",
              "job_entrepreneur               False\n",
              "job_housemaid                  False\n",
              "job_management                 False\n",
              "job_retired                     True\n",
              "job_self-employed              False\n",
              "job_services                   False\n",
              "job_student                     True\n",
              "job_technician                 False\n",
              "job_unemployed                 False\n",
              "job_unknown                    False\n",
              "marital_divorced               False\n",
              "marital_married                False\n",
              "marital_single                 False\n",
              "marital_unknown                False\n",
              "education_basic.4y             False\n",
              "education_basic.6y             False\n",
              "education_basic.9y             False\n",
              "education_high.school          False\n",
              "education_illiterate           False\n",
              "education_professional.course  False\n",
              "education_university.degree    False\n",
              "education_unknown              False\n",
              "default_no                     False\n",
              "default_unknown                 True\n",
              "default_yes                    False\n",
              "housing_no                     False\n",
              "housing_unknown                False\n",
              "housing_yes                    False\n",
              "loan_no                        False\n",
              "loan_unknown                   False\n",
              "loan_yes                       False\n",
              "contact_cellular               False\n",
              "contact_telephone              False\n",
              "month_apr                       True\n",
              "month_aug                       True\n",
              "month_dec                      False\n",
              "month_jul                      False\n",
              "month_jun                      False\n",
              "month_mar                       True\n",
              "month_may                       True\n",
              "month_nov                       True\n",
              "month_oct                      False\n",
              "month_sep                      False\n",
              "poutcome_failure                True\n",
              "poutcome_nonexistent           False\n",
              "poutcome_success                True"
            ]
          },
          "metadata": {
            "tags": []
          },
          "execution_count": 142
        }
      ]
    },
    {
      "cell_type": "code",
      "metadata": {
        "id": "jlTlddv6uRze",
        "colab_type": "code",
        "colab": {
          "base_uri": "https://localhost:8080/",
          "height": 35
        },
        "outputId": "df2fd802-3326-4b6c-daa1-b3575ff6ccbd"
      },
      "source": [
        "rfe.predict(X)"
      ],
      "execution_count": 143,
      "outputs": [
        {
          "output_type": "execute_result",
          "data": {
            "text/plain": [
              "array([0, 0, 0, ..., 0, 0, 0])"
            ]
          },
          "metadata": {
            "tags": []
          },
          "execution_count": 143
        }
      ]
    },
    {
      "cell_type": "code",
      "metadata": {
        "id": "WkmRbcSDu0XA",
        "colab_type": "code",
        "colab": {}
      },
      "source": [
        "from sklearn.metrics import accuracy_score"
      ],
      "execution_count": 0,
      "outputs": []
    },
    {
      "cell_type": "code",
      "metadata": {
        "id": "Lh9yY_u3u3km",
        "colab_type": "code",
        "colab": {
          "base_uri": "https://localhost:8080/",
          "height": 35
        },
        "outputId": "a0398836-1c7a-431a-ca4a-5bd9ce56c811"
      },
      "source": [
        "accuracy_score(y , rfe.predict(X))"
      ],
      "execution_count": 145,
      "outputs": [
        {
          "output_type": "execute_result",
          "data": {
            "text/plain": [
              "0.899048266485384"
            ]
          },
          "metadata": {
            "tags": []
          },
          "execution_count": 145
        }
      ]
    },
    {
      "cell_type": "code",
      "metadata": {
        "id": "qcnVSE7Gu7Fw",
        "colab_type": "code",
        "colab": {}
      },
      "source": [
        "rfe1 = RFE(logreg ,12)"
      ],
      "execution_count": 0,
      "outputs": []
    },
    {
      "cell_type": "code",
      "metadata": {
        "id": "I4QkE6TavLkt",
        "colab_type": "code",
        "colab": {
          "base_uri": "https://localhost:8080/",
          "height": 1000
        },
        "outputId": "9f42ba9e-d0ee-4235-c198-951605904c25"
      },
      "source": [
        "rfe1.fit(X , y)"
      ],
      "execution_count": 82,
      "outputs": [
        {
          "output_type": "stream",
          "text": [
            "/usr/local/lib/python3.6/dist-packages/sklearn/linear_model/logistic.py:432: FutureWarning: Default solver will be changed to 'lbfgs' in 0.22. Specify a solver to silence this warning.\n",
            "  FutureWarning)\n",
            "/usr/local/lib/python3.6/dist-packages/sklearn/linear_model/logistic.py:432: FutureWarning: Default solver will be changed to 'lbfgs' in 0.22. Specify a solver to silence this warning.\n",
            "  FutureWarning)\n",
            "/usr/local/lib/python3.6/dist-packages/sklearn/linear_model/logistic.py:432: FutureWarning: Default solver will be changed to 'lbfgs' in 0.22. Specify a solver to silence this warning.\n",
            "  FutureWarning)\n",
            "/usr/local/lib/python3.6/dist-packages/sklearn/linear_model/logistic.py:432: FutureWarning: Default solver will be changed to 'lbfgs' in 0.22. Specify a solver to silence this warning.\n",
            "  FutureWarning)\n",
            "/usr/local/lib/python3.6/dist-packages/sklearn/linear_model/logistic.py:432: FutureWarning: Default solver will be changed to 'lbfgs' in 0.22. Specify a solver to silence this warning.\n",
            "  FutureWarning)\n",
            "/usr/local/lib/python3.6/dist-packages/sklearn/linear_model/logistic.py:432: FutureWarning: Default solver will be changed to 'lbfgs' in 0.22. Specify a solver to silence this warning.\n",
            "  FutureWarning)\n",
            "/usr/local/lib/python3.6/dist-packages/sklearn/linear_model/logistic.py:432: FutureWarning: Default solver will be changed to 'lbfgs' in 0.22. Specify a solver to silence this warning.\n",
            "  FutureWarning)\n",
            "/usr/local/lib/python3.6/dist-packages/sklearn/linear_model/logistic.py:432: FutureWarning: Default solver will be changed to 'lbfgs' in 0.22. Specify a solver to silence this warning.\n",
            "  FutureWarning)\n",
            "/usr/local/lib/python3.6/dist-packages/sklearn/linear_model/logistic.py:432: FutureWarning: Default solver will be changed to 'lbfgs' in 0.22. Specify a solver to silence this warning.\n",
            "  FutureWarning)\n",
            "/usr/local/lib/python3.6/dist-packages/sklearn/linear_model/logistic.py:432: FutureWarning: Default solver will be changed to 'lbfgs' in 0.22. Specify a solver to silence this warning.\n",
            "  FutureWarning)\n",
            "/usr/local/lib/python3.6/dist-packages/sklearn/linear_model/logistic.py:432: FutureWarning: Default solver will be changed to 'lbfgs' in 0.22. Specify a solver to silence this warning.\n",
            "  FutureWarning)\n",
            "/usr/local/lib/python3.6/dist-packages/sklearn/linear_model/logistic.py:432: FutureWarning: Default solver will be changed to 'lbfgs' in 0.22. Specify a solver to silence this warning.\n",
            "  FutureWarning)\n",
            "/usr/local/lib/python3.6/dist-packages/sklearn/linear_model/logistic.py:432: FutureWarning: Default solver will be changed to 'lbfgs' in 0.22. Specify a solver to silence this warning.\n",
            "  FutureWarning)\n",
            "/usr/local/lib/python3.6/dist-packages/sklearn/linear_model/logistic.py:432: FutureWarning: Default solver will be changed to 'lbfgs' in 0.22. Specify a solver to silence this warning.\n",
            "  FutureWarning)\n",
            "/usr/local/lib/python3.6/dist-packages/sklearn/linear_model/logistic.py:432: FutureWarning: Default solver will be changed to 'lbfgs' in 0.22. Specify a solver to silence this warning.\n",
            "  FutureWarning)\n",
            "/usr/local/lib/python3.6/dist-packages/sklearn/linear_model/logistic.py:432: FutureWarning: Default solver will be changed to 'lbfgs' in 0.22. Specify a solver to silence this warning.\n",
            "  FutureWarning)\n",
            "/usr/local/lib/python3.6/dist-packages/sklearn/linear_model/logistic.py:432: FutureWarning: Default solver will be changed to 'lbfgs' in 0.22. Specify a solver to silence this warning.\n",
            "  FutureWarning)\n",
            "/usr/local/lib/python3.6/dist-packages/sklearn/linear_model/logistic.py:432: FutureWarning: Default solver will be changed to 'lbfgs' in 0.22. Specify a solver to silence this warning.\n",
            "  FutureWarning)\n",
            "/usr/local/lib/python3.6/dist-packages/sklearn/linear_model/logistic.py:432: FutureWarning: Default solver will be changed to 'lbfgs' in 0.22. Specify a solver to silence this warning.\n",
            "  FutureWarning)\n",
            "/usr/local/lib/python3.6/dist-packages/sklearn/linear_model/logistic.py:432: FutureWarning: Default solver will be changed to 'lbfgs' in 0.22. Specify a solver to silence this warning.\n",
            "  FutureWarning)\n",
            "/usr/local/lib/python3.6/dist-packages/sklearn/linear_model/logistic.py:432: FutureWarning: Default solver will be changed to 'lbfgs' in 0.22. Specify a solver to silence this warning.\n",
            "  FutureWarning)\n",
            "/usr/local/lib/python3.6/dist-packages/sklearn/linear_model/logistic.py:432: FutureWarning: Default solver will be changed to 'lbfgs' in 0.22. Specify a solver to silence this warning.\n",
            "  FutureWarning)\n",
            "/usr/local/lib/python3.6/dist-packages/sklearn/linear_model/logistic.py:432: FutureWarning: Default solver will be changed to 'lbfgs' in 0.22. Specify a solver to silence this warning.\n",
            "  FutureWarning)\n",
            "/usr/local/lib/python3.6/dist-packages/sklearn/linear_model/logistic.py:432: FutureWarning: Default solver will be changed to 'lbfgs' in 0.22. Specify a solver to silence this warning.\n",
            "  FutureWarning)\n",
            "/usr/local/lib/python3.6/dist-packages/sklearn/linear_model/logistic.py:432: FutureWarning: Default solver will be changed to 'lbfgs' in 0.22. Specify a solver to silence this warning.\n",
            "  FutureWarning)\n",
            "/usr/local/lib/python3.6/dist-packages/sklearn/linear_model/logistic.py:432: FutureWarning: Default solver will be changed to 'lbfgs' in 0.22. Specify a solver to silence this warning.\n",
            "  FutureWarning)\n",
            "/usr/local/lib/python3.6/dist-packages/sklearn/linear_model/logistic.py:432: FutureWarning: Default solver will be changed to 'lbfgs' in 0.22. Specify a solver to silence this warning.\n",
            "  FutureWarning)\n",
            "/usr/local/lib/python3.6/dist-packages/sklearn/linear_model/logistic.py:432: FutureWarning: Default solver will be changed to 'lbfgs' in 0.22. Specify a solver to silence this warning.\n",
            "  FutureWarning)\n",
            "/usr/local/lib/python3.6/dist-packages/sklearn/linear_model/logistic.py:432: FutureWarning: Default solver will be changed to 'lbfgs' in 0.22. Specify a solver to silence this warning.\n",
            "  FutureWarning)\n",
            "/usr/local/lib/python3.6/dist-packages/sklearn/linear_model/logistic.py:432: FutureWarning: Default solver will be changed to 'lbfgs' in 0.22. Specify a solver to silence this warning.\n",
            "  FutureWarning)\n",
            "/usr/local/lib/python3.6/dist-packages/sklearn/linear_model/logistic.py:432: FutureWarning: Default solver will be changed to 'lbfgs' in 0.22. Specify a solver to silence this warning.\n",
            "  FutureWarning)\n",
            "/usr/local/lib/python3.6/dist-packages/sklearn/linear_model/logistic.py:432: FutureWarning: Default solver will be changed to 'lbfgs' in 0.22. Specify a solver to silence this warning.\n",
            "  FutureWarning)\n",
            "/usr/local/lib/python3.6/dist-packages/sklearn/linear_model/logistic.py:432: FutureWarning: Default solver will be changed to 'lbfgs' in 0.22. Specify a solver to silence this warning.\n",
            "  FutureWarning)\n",
            "/usr/local/lib/python3.6/dist-packages/sklearn/linear_model/logistic.py:432: FutureWarning: Default solver will be changed to 'lbfgs' in 0.22. Specify a solver to silence this warning.\n",
            "  FutureWarning)\n",
            "/usr/local/lib/python3.6/dist-packages/sklearn/linear_model/logistic.py:432: FutureWarning: Default solver will be changed to 'lbfgs' in 0.22. Specify a solver to silence this warning.\n",
            "  FutureWarning)\n",
            "/usr/local/lib/python3.6/dist-packages/sklearn/linear_model/logistic.py:432: FutureWarning: Default solver will be changed to 'lbfgs' in 0.22. Specify a solver to silence this warning.\n",
            "  FutureWarning)\n",
            "/usr/local/lib/python3.6/dist-packages/sklearn/linear_model/logistic.py:432: FutureWarning: Default solver will be changed to 'lbfgs' in 0.22. Specify a solver to silence this warning.\n",
            "  FutureWarning)\n",
            "/usr/local/lib/python3.6/dist-packages/sklearn/linear_model/logistic.py:432: FutureWarning: Default solver will be changed to 'lbfgs' in 0.22. Specify a solver to silence this warning.\n",
            "  FutureWarning)\n",
            "/usr/local/lib/python3.6/dist-packages/sklearn/linear_model/logistic.py:432: FutureWarning: Default solver will be changed to 'lbfgs' in 0.22. Specify a solver to silence this warning.\n",
            "  FutureWarning)\n",
            "/usr/local/lib/python3.6/dist-packages/sklearn/linear_model/logistic.py:432: FutureWarning: Default solver will be changed to 'lbfgs' in 0.22. Specify a solver to silence this warning.\n",
            "  FutureWarning)\n",
            "/usr/local/lib/python3.6/dist-packages/sklearn/linear_model/logistic.py:432: FutureWarning: Default solver will be changed to 'lbfgs' in 0.22. Specify a solver to silence this warning.\n",
            "  FutureWarning)\n",
            "/usr/local/lib/python3.6/dist-packages/sklearn/linear_model/logistic.py:432: FutureWarning: Default solver will be changed to 'lbfgs' in 0.22. Specify a solver to silence this warning.\n",
            "  FutureWarning)\n",
            "/usr/local/lib/python3.6/dist-packages/sklearn/linear_model/logistic.py:432: FutureWarning: Default solver will be changed to 'lbfgs' in 0.22. Specify a solver to silence this warning.\n",
            "  FutureWarning)\n",
            "/usr/local/lib/python3.6/dist-packages/sklearn/linear_model/logistic.py:432: FutureWarning: Default solver will be changed to 'lbfgs' in 0.22. Specify a solver to silence this warning.\n",
            "  FutureWarning)\n",
            "/usr/local/lib/python3.6/dist-packages/sklearn/linear_model/logistic.py:432: FutureWarning: Default solver will be changed to 'lbfgs' in 0.22. Specify a solver to silence this warning.\n",
            "  FutureWarning)\n",
            "/usr/local/lib/python3.6/dist-packages/sklearn/linear_model/logistic.py:432: FutureWarning: Default solver will be changed to 'lbfgs' in 0.22. Specify a solver to silence this warning.\n",
            "  FutureWarning)\n"
          ],
          "name": "stderr"
        },
        {
          "output_type": "execute_result",
          "data": {
            "text/plain": [
              "RFE(estimator=LogisticRegression(C=1.0, class_weight=None, dual=False,\n",
              "                                 fit_intercept=True, intercept_scaling=1,\n",
              "                                 l1_ratio=None, max_iter=500,\n",
              "                                 multi_class='warn', n_jobs=None, penalty='l2',\n",
              "                                 random_state=None, solver='warn', tol=0.0001,\n",
              "                                 verbose=0, warm_start=False),\n",
              "    n_features_to_select=12, step=1, verbose=0)"
            ]
          },
          "metadata": {
            "tags": []
          },
          "execution_count": 82
        }
      ]
    },
    {
      "cell_type": "code",
      "metadata": {
        "id": "3D_35tQFvR5x",
        "colab_type": "code",
        "colab": {
          "base_uri": "https://localhost:8080/",
          "height": 35
        },
        "outputId": "15a67d3a-c5c7-4d59-e38e-f284482d6701"
      },
      "source": [
        "accuracy_score(y , rfe1.predict(X))"
      ],
      "execution_count": 83,
      "outputs": [
        {
          "output_type": "execute_result",
          "data": {
            "text/plain": [
              "0.899048266485384"
            ]
          },
          "metadata": {
            "tags": []
          },
          "execution_count": 83
        }
      ]
    },
    {
      "cell_type": "code",
      "metadata": {
        "id": "7OsJBMoAxr3I",
        "colab_type": "code",
        "colab": {}
      },
      "source": [
        "X2 = add_constant(X)"
      ],
      "execution_count": 0,
      "outputs": []
    },
    {
      "cell_type": "code",
      "metadata": {
        "id": "ds1K1ZyYz_dw",
        "colab_type": "code",
        "colab": {}
      },
      "source": [
        "X1 = X1.astype('float64')"
      ],
      "execution_count": 0,
      "outputs": []
    },
    {
      "cell_type": "code",
      "metadata": {
        "id": "6TPrhZWHvWUl",
        "colab_type": "code",
        "colab": {
          "base_uri": "https://localhost:8080/",
          "height": 1000
        },
        "outputId": "475c1500-51c0-4335-d460-20d63beb3ac7"
      },
      "source": [
        "import statsmodels.api as sm\n",
        "logit_model=sm.Logit(y,X1)\n",
        "result=logit_model.fit()\n",
        "print(result.summary())"
      ],
      "execution_count": 119,
      "outputs": [
        {
          "output_type": "stream",
          "text": [
            "Warning: Maximum number of iterations has been exceeded.\n",
            "         Current function value: 0.276290\n",
            "         Iterations: 35\n",
            "                           Logit Regression Results                           \n",
            "==============================================================================\n",
            "Dep. Variable:                      y   No. Observations:                41188\n",
            "Model:                          Logit   Df Residuals:                    41140\n",
            "Method:                           MLE   Df Model:                           47\n",
            "Date:                Wed, 03 Jul 2019   Pseudo R-squ.:                  0.2151\n",
            "Time:                        17:21:33   Log-Likelihood:                -11380.\n",
            "converged:                      False   LL-Null:                       -14499.\n",
            "Covariance Type:            nonrobust   LLR p-value:                     0.000\n",
            "=================================================================================================\n",
            "                                    coef    std err          z      P>|z|      [0.025      0.975]\n",
            "-------------------------------------------------------------------------------------------------\n",
            "const                           -67.8924        nan        nan        nan         nan         nan\n",
            "age                               0.0002      0.002      0.101      0.920      -0.004       0.004\n",
            "campaign                         -0.0465      0.009     -5.017      0.000      -0.065      -0.028\n",
            "pdays                            -0.0011      0.000     -5.444      0.000      -0.001      -0.001\n",
            "previous                         -0.0589      0.056     -1.059      0.290      -0.168       0.050\n",
            "emp.var.rate                     -1.4492      0.124    -11.710      0.000      -1.692      -1.207\n",
            "cons.price.idx                    2.0446      0.219      9.320      0.000       1.615       2.475\n",
            "cons.conf.idx                     0.0301      0.007      4.327      0.000       0.016       0.044\n",
            "euribor3m                         0.1874      0.114      1.645      0.100      -0.036       0.411\n",
            "nr.employed                       0.0066      0.003      2.454      0.014       0.001       0.012\n",
            "job_admin.                       -5.6483   4.29e+05  -1.32e-05      1.000   -8.42e+05    8.42e+05\n",
            "job_blue-collar                  -5.8009    1.2e+05  -4.82e-05      1.000   -2.36e+05    2.36e+05\n",
            "job_entrepreneur                 -5.7236   9.55e+04  -5.99e-05      1.000   -1.87e+05    1.87e+05\n",
            "job_housemaid                    -5.7422   1.76e+05  -3.27e-05      1.000   -3.44e+05    3.44e+05\n",
            "job_management                   -5.7111   3.39e+05  -1.69e-05      1.000   -6.64e+05    6.64e+05\n",
            "job_retired                      -5.4029        nan        nan        nan         nan         nan\n",
            "job_self-employed                -5.7203        nan        nan        nan         nan         nan\n",
            "job_services                     -5.7835   2.57e+05  -2.25e-05      1.000   -5.05e+05    5.05e+05\n",
            "job_student                      -5.4439   4.22e+05  -1.29e-05      1.000   -8.26e+05    8.26e+05\n",
            "job_technician                   -5.6698        nan        nan        nan         nan         nan\n",
            "job_unemployed                   -5.6672   1.61e+05  -3.51e-05      1.000   -3.16e+05    3.16e+05\n",
            "job_unknown                      -5.8126        nan        nan        nan         nan         nan\n",
            "marital_divorced                -17.1380   5.25e+05  -3.26e-05      1.000   -1.03e+06    1.03e+06\n",
            "marital_married                 -17.0970   4.89e+05  -3.49e-05      1.000   -9.59e+05    9.59e+05\n",
            "marital_single                  -17.0526   4.89e+05  -3.48e-05      1.000   -9.59e+05    9.59e+05\n",
            "marital_unknown                 -16.8382   5.04e+05  -3.34e-05      1.000   -9.87e+05    9.87e+05\n",
            "education_basic.4y               -8.6831        nan        nan        nan         nan         nan\n",
            "education_basic.6y               -8.5544        nan        nan        nan         nan         nan\n",
            "education_basic.9y               -8.7087        nan        nan        nan         nan         nan\n",
            "education_high.school            -8.6518        nan        nan        nan         nan         nan\n",
            "education_illiterate             -7.7374        nan        nan        nan         nan         nan\n",
            "education_professional.course    -8.6360        nan        nan        nan         nan         nan\n",
            "education_university.degree      -8.5752        nan        nan        nan         nan         nan\n",
            "education_unknown                -8.5774        nan        nan        nan         nan         nan\n",
            "default_no                      -17.7758        nan        nan        nan         nan         nan\n",
            "default_unknown                 -18.0281        nan        nan        nan         nan         nan\n",
            "default_yes                     -32.3190        nan        nan        nan         nan         nan\n",
            "housing_no                      -22.6801        nan        nan        nan         nan         nan\n",
            "housing_unknown                 -22.7269   1.06e+07  -2.15e-06      1.000   -2.08e+07    2.08e+07\n",
            "housing_yes                     -22.7085        nan        nan        nan         nan         nan\n",
            "loan_no                         -22.7007        nan        nan        nan         nan         nan\n",
            "loan_unknown                    -22.7370   1.06e+07  -2.15e-06      1.000   -2.07e+07    2.07e+07\n",
            "loan_yes                        -22.7271        nan        nan        nan         nan         nan\n",
            "contact_cellular                -33.6899        nan        nan        nan         nan         nan\n",
            "contact_telephone               -34.4228        nan        nan        nan         nan         nan\n",
            "month_apr                        -6.9438   1.24e+06  -5.62e-06      1.000   -2.42e+06    2.42e+06\n",
            "month_aug                        -6.4842   1.24e+06  -5.24e-06      1.000   -2.42e+06    2.42e+06\n",
            "month_dec                        -6.4980   1.24e+06  -5.26e-06      1.000   -2.42e+06    2.42e+06\n",
            "month_jul                        -6.8682   1.24e+06  -5.56e-06      1.000   -2.42e+06    2.42e+06\n",
            "month_jun                        -7.5768   1.24e+06  -6.13e-06      1.000   -2.42e+06    2.42e+06\n",
            "month_mar                        -5.4646   1.24e+06  -4.42e-06      1.000   -2.42e+06    2.42e+06\n",
            "month_may                        -7.3331   1.24e+06  -5.93e-06      1.000   -2.42e+06    2.42e+06\n",
            "month_nov                        -7.3758   1.24e+06  -5.97e-06      1.000   -2.42e+06    2.42e+06\n",
            "month_oct                        -6.8794   1.24e+06  -5.56e-06      1.000   -2.42e+06    2.42e+06\n",
            "month_sep                        -6.6782   1.24e+06   -5.4e-06      1.000   -2.42e+06    2.42e+06\n",
            "poutcome_failure                -23.0914    2.7e+05  -8.57e-05      1.000   -5.28e+05    5.28e+05\n",
            "poutcome_nonexistent            -22.6440    2.7e+05   -8.4e-05      1.000   -5.28e+05    5.28e+05\n",
            "poutcome_success                -22.3138    2.7e+05  -8.28e-05      1.000   -5.28e+05    5.28e+05\n",
            "=================================================================================================\n"
          ],
          "name": "stdout"
        }
      ]
    },
    {
      "cell_type": "code",
      "metadata": {
        "id": "Qt2Dhjx2xngE",
        "colab_type": "code",
        "colab": {}
      },
      "source": [
        "results_summary = result.summary()\n",
        "results_as_html = results_summary.tables[1].as_html()\n",
        "res = pd.read_html(results_as_html, header=0, index_col=0)[0]"
      ],
      "execution_count": 0,
      "outputs": []
    },
    {
      "cell_type": "code",
      "metadata": {
        "id": "0FEDw_hgzGwZ",
        "colab_type": "code",
        "colab": {
          "base_uri": "https://localhost:8080/",
          "height": 191
        },
        "outputId": "083694f9-b6e7-453f-d825-dab2f1b97034"
      },
      "source": [
        "res[~res['P>|z|'].isnull()].index"
      ],
      "execution_count": 117,
      "outputs": [
        {
          "output_type": "execute_result",
          "data": {
            "text/plain": [
              "Index(['age', 'campaign', 'pdays', 'previous', 'emp.var.rate',\n",
              "       'cons.price.idx', 'cons.conf.idx', 'euribor3m', 'nr.employed',\n",
              "       'job_admin.', 'job_blue-collar', 'job_entrepreneur', 'job_housemaid',\n",
              "       'job_management', 'job_services', 'job_student', 'job_unemployed',\n",
              "       'marital_divorced', 'marital_married', 'marital_single',\n",
              "       'marital_unknown', 'housing_unknown', 'loan_unknown', 'month_apr',\n",
              "       'month_aug', 'month_dec', 'month_jul', 'month_jun', 'month_mar',\n",
              "       'month_may', 'month_nov', 'month_oct', 'month_sep', 'poutcome_failure',\n",
              "       'poutcome_nonexistent', 'poutcome_success'],\n",
              "      dtype='object')"
            ]
          },
          "metadata": {
            "tags": []
          },
          "execution_count": 117
        }
      ]
    },
    {
      "cell_type": "code",
      "metadata": {
        "id": "498Bzy78zJR7",
        "colab_type": "code",
        "colab": {}
      },
      "source": [
        "sel2 = ['const','age', 'campaign', 'pdays', 'previous', 'emp.var.rate',\n",
        "       'cons.price.idx', 'cons.conf.idx', 'euribor3m', 'nr.employed',\n",
        "       'job_admin.', 'job_blue-collar', 'job_entrepreneur', 'job_housemaid',\n",
        "       'job_management', 'job_services', 'job_student', 'job_unemployed',\n",
        "       'marital_divorced', 'marital_married', 'marital_single',\n",
        "       'marital_unknown', 'housing_unknown', 'loan_unknown', 'month_apr',\n",
        "       'month_aug', 'month_dec', 'month_jul', 'month_jun', 'month_mar',\n",
        "       'month_may', 'month_nov', 'month_oct', 'month_sep', 'poutcome_failure',\n",
        "       'poutcome_nonexistent', 'poutcome_success']"
      ],
      "execution_count": 0,
      "outputs": []
    },
    {
      "cell_type": "code",
      "metadata": {
        "id": "mC5qPLojzS7e",
        "colab_type": "code",
        "colab": {
          "base_uri": "https://localhost:8080/",
          "height": 971
        },
        "outputId": "7153f158-dc85-40ff-8832-17885cbbadeb"
      },
      "source": [
        "import statsmodels.api as sm\n",
        "logit_model1=sm.Logit(y,X1[sel2])\n",
        "result1=logit_model1.fit()\n",
        "print(result1.summary2())"
      ],
      "execution_count": 120,
      "outputs": [
        {
          "output_type": "stream",
          "text": [
            "Optimization terminated successfully.\n",
            "         Current function value: 0.278355\n",
            "         Iterations 10\n",
            "                                   Results: Logit\n",
            "=====================================================================================\n",
            "Model:                      Logit                  Pseudo R-squared:       0.209     \n",
            "Dependent Variable:         y                      AIC:                    22995.7879\n",
            "Date:                       2019-07-03 17:22       BIC:                    23280.4427\n",
            "No. Observations:           41188                  Log-Likelihood:         -11465.   \n",
            "Df Model:                   32                     LL-Null:                -14499.   \n",
            "Df Residuals:               41155                  LLR p-value:            0.0000    \n",
            "Converged:                  1.0000                 Scale:                  1.0000    \n",
            "No. Iterations:             10.0000                                                  \n",
            "-------------------------------------------------------------------------------------\n",
            "                      Coef.     Std.Err.      z     P>|z|      [0.025       0.975]   \n",
            "-------------------------------------------------------------------------------------\n",
            "const                -59.9479 3731673.9363  -0.0000 1.0000 -7314006.4652 7313886.5693\n",
            "age                    0.0023       0.0018   1.3395 0.1804       -0.0011       0.0058\n",
            "campaign              -0.0506       0.0093  -5.4534 0.0000       -0.0688      -0.0324\n",
            "pdays                 -0.0011       0.0002  -5.4159 0.0000       -0.0015      -0.0007\n",
            "previous              -0.0230       0.0553  -0.4165 0.6770       -0.1314       0.0854\n",
            "emp.var.rate          -0.9895       0.1143  -8.6600 0.0000       -1.2135      -0.7656\n",
            "cons.price.idx         1.1123       0.1978   5.6244 0.0000        0.7247       1.4999\n",
            "cons.conf.idx          0.0034       0.0064   0.5224 0.6014       -0.0092       0.0159\n",
            "euribor3m              0.1888       0.1125   1.6785 0.0933       -0.0317       0.4092\n",
            "nr.employed           -0.0009       0.0026  -0.3590 0.7196       -0.0060       0.0041\n",
            "job_admin.             0.0024       0.0487   0.0502 0.9600       -0.0929       0.0978\n",
            "job_blue-collar       -0.2436       0.0572  -4.2580 0.0000       -0.3557      -0.1315\n",
            "job_entrepreneur      -0.1085       0.1063  -1.0207 0.3074       -0.3169       0.0999\n",
            "job_housemaid         -0.1839       0.1222  -1.5046 0.1324       -0.4233       0.0556\n",
            "job_management        -0.0587       0.0740  -0.7928 0.4279       -0.2037       0.0864\n",
            "job_services          -0.1873       0.0726  -2.5820 0.0098       -0.3295      -0.0451\n",
            "job_student            0.1641       0.0984   1.6676 0.0954       -0.0288       0.3570\n",
            "job_unemployed        -0.0924       0.1098  -0.8411 0.4003       -0.3076       0.1229\n",
            "marital_divorced     -15.0334          nan      nan    nan           nan          nan\n",
            "marital_married      -14.9998       0.1780 -84.2742 0.0000      -15.3487     -14.6510\n",
            "marital_single       -14.9325      -0.0000      inf 0.0000      -14.9325     -14.9325\n",
            "marital_unknown      -14.6815      -0.0000      inf 0.0000      -14.6815     -14.6815\n",
            "housing_unknown       -0.0297          nan      nan    nan           nan          nan\n",
            "loan_unknown          -0.0297          nan      nan    nan           nan          nan\n",
            "month_apr             -6.1114          nan      nan    nan           nan          nan\n",
            "month_aug             -5.6014          nan      nan    nan           nan          nan\n",
            "month_dec             -5.7229          nan      nan    nan           nan          nan\n",
            "month_jul             -5.7426          nan      nan    nan           nan          nan\n",
            "month_jun             -6.4925          nan      nan    nan           nan          nan\n",
            "month_mar             -4.8666          nan      nan    nan           nan          nan\n",
            "month_may             -6.6872          nan      nan    nan           nan          nan\n",
            "month_nov             -6.4040          nan      nan    nan           nan          nan\n",
            "month_oct             -6.0518          nan      nan    nan           nan          nan\n",
            "month_sep             -5.9725          nan      nan    nan           nan          nan\n",
            "poutcome_failure     -20.3733  446852.7402  -0.0000 1.0000  -875835.6504  875794.9038\n",
            "poutcome_nonexistent -19.9280  446852.7402  -0.0000 1.0000  -875835.2051  875795.3491\n",
            "poutcome_success     -19.5694  446852.7402  -0.0000 1.0000  -875834.8465  875795.7077\n",
            "=====================================================================================\n",
            "\n"
          ],
          "name": "stdout"
        }
      ]
    },
    {
      "cell_type": "code",
      "metadata": {
        "id": "LVP9LK4623Ya",
        "colab_type": "code",
        "colab": {}
      },
      "source": [
        "sel2 = ['const','age', 'campaign', 'pdays', 'previous', 'emp.var.rate',\n",
        "       'cons.price.idx', 'cons.conf.idx', 'euribor3m', 'nr.employed',\n",
        "       'job_admin.', 'job_blue-collar', 'job_entrepreneur', 'job_housemaid',\n",
        "       'job_management', 'job_services', 'job_student', 'job_unemployed',\n",
        "       'marital_married', 'marital_single',\n",
        "       'marital_unknown', 'poutcome_failure',\n",
        "       'poutcome_nonexistent', 'poutcome_success']"
      ],
      "execution_count": 0,
      "outputs": []
    },
    {
      "cell_type": "code",
      "metadata": {
        "id": "Sa9bAKg73FIv",
        "colab_type": "code",
        "colab": {
          "base_uri": "https://localhost:8080/",
          "height": 745
        },
        "outputId": "79d01043-e394-47e2-ac14-fe7a60336dcc"
      },
      "source": [
        "import statsmodels.api as sm\n",
        "logit_model1=sm.Logit(y,X1[sel2])\n",
        "result1=logit_model1.fit()\n",
        "print(result1.summary2())"
      ],
      "execution_count": 122,
      "outputs": [
        {
          "output_type": "stream",
          "text": [
            "Optimization terminated successfully.\n",
            "         Current function value: 0.285351\n",
            "         Iterations 8\n",
            "                           Results: Logit\n",
            "=====================================================================\n",
            "Model:                Logit             Pseudo R-squared:  0.189     \n",
            "Dependent Variable:   y                 AIC:               23552.1078\n",
            "Date:                 2019-07-03 17:23  BIC:               23750.5035\n",
            "No. Observations:     41188             Log-Likelihood:    -11753.   \n",
            "Df Model:             22                LL-Null:           -14499.   \n",
            "Df Residuals:         41165             LLR p-value:       0.0000    \n",
            "Converged:            1.0000            Scale:             1.0000    \n",
            "No. Iterations:       8.0000                                         \n",
            "---------------------------------------------------------------------\n",
            "                      Coef.   Std.Err.    z    P>|z|   [0.025  0.975]\n",
            "---------------------------------------------------------------------\n",
            "const                -18.7161      nan     nan    nan     nan     nan\n",
            "age                    0.0053   0.0017  3.0822 0.0021  0.0019  0.0087\n",
            "campaign              -0.0490   0.0093 -5.2434 0.0000 -0.0673 -0.0307\n",
            "pdays                 -0.0012   0.0002 -5.9300 0.0000 -0.0015 -0.0008\n",
            "previous              -0.0000   0.0552 -0.0007 0.9995 -0.1082  0.1081\n",
            "emp.var.rate          -0.4818   0.0586 -8.2170 0.0000 -0.5967 -0.3669\n",
            "cons.price.idx         0.5353   0.0842  6.3550 0.0000  0.3702  0.7005\n",
            "cons.conf.idx          0.0188   0.0052  3.6374 0.0003  0.0087  0.0289\n",
            "euribor3m              0.0295   0.0742  0.3972 0.6912 -0.1160  0.1749\n",
            "nr.employed           -0.0050   0.0013 -3.9821 0.0001 -0.0075 -0.0025\n",
            "job_admin.            -0.0050   0.0478 -0.1048 0.9166 -0.0986  0.0886\n",
            "job_blue-collar       -0.3930   0.0558 -7.0389 0.0000 -0.5025 -0.2836\n",
            "job_entrepreneur      -0.2028   0.1050 -1.9320 0.0534 -0.4085  0.0029\n",
            "job_housemaid         -0.2028   0.1206 -1.6814 0.0927 -0.4392  0.0336\n",
            "job_management        -0.1109   0.0728 -1.5247 0.1273 -0.2536  0.0317\n",
            "job_services          -0.2934   0.0711 -4.1272 0.0000 -0.4327 -0.1541\n",
            "job_student            0.2369   0.0966  2.4512 0.0142  0.0475  0.4263\n",
            "job_unemployed        -0.0988   0.1079 -0.9153 0.3600 -0.3103  0.1127\n",
            "marital_married        0.0293   0.0587  0.4992 0.6176 -0.0858  0.1444\n",
            "marital_single         0.1516   0.0666  2.2759 0.0229  0.0210  0.2821\n",
            "marital_unknown        0.3435   0.3520  0.9760 0.3291 -0.3463  1.0333\n",
            "poutcome_failure      -6.6635      nan     nan    nan     nan     nan\n",
            "poutcome_nonexistent  -6.1567      nan     nan    nan     nan     nan\n",
            "poutcome_success      -5.8958      nan     nan    nan     nan     nan\n",
            "=====================================================================\n",
            "\n"
          ],
          "name": "stdout"
        }
      ]
    },
    {
      "cell_type": "code",
      "metadata": {
        "id": "6d6DhZ0E3HmP",
        "colab_type": "code",
        "colab": {}
      },
      "source": [
        "sel2 = ['const','age', 'campaign', 'pdays', 'previous', 'emp.var.rate',\n",
        "       'cons.price.idx', 'cons.conf.idx', 'euribor3m', 'nr.employed',\n",
        "       'job_admin.', 'job_blue-collar', 'job_entrepreneur', 'job_housemaid',\n",
        "       'job_management', 'job_services', 'job_student', 'job_unemployed',\n",
        "       'marital_married', 'marital_single',\n",
        "       'marital_unknown']"
      ],
      "execution_count": 0,
      "outputs": []
    },
    {
      "cell_type": "code",
      "metadata": {
        "id": "R3dZVGdB3Mfr",
        "colab_type": "code",
        "colab": {
          "base_uri": "https://localhost:8080/",
          "height": 693
        },
        "outputId": "ae4d5779-20cf-4384-bb10-1c2b5d66376c"
      },
      "source": [
        "import statsmodels.api as sm\n",
        "logit_model1=sm.Logit(y,X1[sel2])\n",
        "result1=logit_model1.fit()\n",
        "print(result1.summary2())"
      ],
      "execution_count": 124,
      "outputs": [
        {
          "output_type": "stream",
          "text": [
            "Optimization terminated successfully.\n",
            "         Current function value: 0.285899\n",
            "         Iterations 8\n",
            "                          Results: Logit\n",
            "===================================================================\n",
            "Model:                Logit            Pseudo R-squared: 0.188     \n",
            "Dependent Variable:   y                AIC:              23593.2003\n",
            "Date:                 2019-07-03 17:23 BIC:              23774.3442\n",
            "No. Observations:     41188            Log-Likelihood:   -11776.   \n",
            "Df Model:             20               LL-Null:          -14499.   \n",
            "Df Residuals:         41167            LLR p-value:      0.0000    \n",
            "Converged:            1.0000           Scale:            1.0000    \n",
            "No. Iterations:       8.0000                                       \n",
            "-------------------------------------------------------------------\n",
            "                  Coef.   Std.Err.    z     P>|z|   [0.025   0.975]\n",
            "-------------------------------------------------------------------\n",
            "const            -24.2623  13.2751  -1.8277 0.0676 -50.2809  1.7564\n",
            "age                0.0055   0.0017   3.1752 0.0015   0.0021  0.0089\n",
            "campaign          -0.0485   0.0093  -5.1962 0.0000  -0.0667 -0.0302\n",
            "pdays             -0.0018   0.0001 -23.4401 0.0000  -0.0020 -0.0017\n",
            "previous          -0.2703   0.0346  -7.8041 0.0000  -0.3382 -0.2025\n",
            "emp.var.rate      -0.4721   0.0586  -8.0497 0.0000  -0.5870 -0.3571\n",
            "cons.price.idx     0.5511   0.0842   6.5477 0.0000   0.3861  0.7161\n",
            "cons.conf.idx      0.0190   0.0052   3.6950 0.0002   0.0089  0.0291\n",
            "euribor3m          0.0395   0.0740   0.5337 0.5936  -0.1056  0.1846\n",
            "nr.employed       -0.0053   0.0013  -4.2208 0.0000  -0.0077 -0.0028\n",
            "job_admin.        -0.0023   0.0477  -0.0489 0.9610  -0.0959  0.0912\n",
            "job_blue-collar   -0.3927   0.0558  -7.0351 0.0000  -0.5020 -0.2833\n",
            "job_entrepreneur  -0.2008   0.1049  -1.9149 0.0555  -0.4064  0.0047\n",
            "job_housemaid     -0.2005   0.1204  -1.6645 0.0960  -0.4366  0.0356\n",
            "job_management    -0.1072   0.0727  -1.4759 0.1400  -0.2496  0.0352\n",
            "job_services      -0.2945   0.0710  -4.1452 0.0000  -0.4337 -0.1552\n",
            "job_student        0.2484   0.0964   2.5775 0.0100   0.0595  0.4374\n",
            "job_unemployed    -0.0907   0.1077  -0.8421 0.3997  -0.3017  0.1204\n",
            "marital_married    0.0309   0.0586   0.5277 0.5977  -0.0839  0.1458\n",
            "marital_single     0.1566   0.0665   2.3567 0.0184   0.0264  0.2869\n",
            "marital_unknown    0.3441   0.3509   0.9808 0.3267  -0.3436  1.0318\n",
            "===================================================================\n",
            "\n"
          ],
          "name": "stdout"
        }
      ]
    },
    {
      "cell_type": "code",
      "metadata": {
        "id": "jjIlPF9I3O4Z",
        "colab_type": "code",
        "colab": {}
      },
      "source": [
        "sel3 = ['const',\n",
        " 'age',\n",
        " 'campaign',\n",
        " 'pdays',\n",
        " 'previous',\n",
        " 'emp.var.rate',\n",
        " 'cons.price.idx',\n",
        " 'cons.conf.idx',\n",
        " 'nr.employed',\n",
        " 'job_blue-collar',\n",
        " 'job_entrepreneur',\n",
        " 'job_services',\n",
        " 'job_student',\n",
        " 'marital_single',]"
      ],
      "execution_count": 0,
      "outputs": []
    },
    {
      "cell_type": "code",
      "metadata": {
        "id": "yGYTlpfi3RRe",
        "colab_type": "code",
        "colab": {
          "base_uri": "https://localhost:8080/",
          "height": 572
        },
        "outputId": "99ce6424-114a-4fa0-cd6b-e96d9c2dfd6a"
      },
      "source": [
        "import statsmodels.api as sm\n",
        "logit_model1=sm.Logit(y,X1[sel3])\n",
        "result1=logit_model1.fit()\n",
        "print(result1.summary2())"
      ],
      "execution_count": 127,
      "outputs": [
        {
          "output_type": "stream",
          "text": [
            "Optimization terminated successfully.\n",
            "         Current function value: 0.285980\n",
            "         Iterations 8\n",
            "                          Results: Logit\n",
            "===================================================================\n",
            "Model:                Logit            Pseudo R-squared: 0.188     \n",
            "Dependent Variable:   y                AIC:              23585.8977\n",
            "Date:                 2019-07-03 17:25 BIC:              23706.6604\n",
            "No. Observations:     41188            Log-Likelihood:   -11779.   \n",
            "Df Model:             13               LL-Null:          -14499.   \n",
            "Df Residuals:         41174            LLR p-value:      0.0000    \n",
            "Converged:            1.0000           Scale:            1.0000    \n",
            "No. Iterations:       8.0000                                       \n",
            "-------------------------------------------------------------------\n",
            "                  Coef.   Std.Err.    z     P>|z|   [0.025   0.975]\n",
            "-------------------------------------------------------------------\n",
            "const            -27.7670  10.6228  -2.6139 0.0090 -48.5873 -6.9467\n",
            "age                0.0053   0.0017   3.1666 0.0015   0.0020  0.0086\n",
            "campaign          -0.0487   0.0093  -5.2360 0.0000  -0.0670 -0.0305\n",
            "pdays             -0.0018   0.0001 -23.4428 0.0000  -0.0020 -0.0017\n",
            "previous          -0.2703   0.0346  -7.8073 0.0000  -0.3381 -0.2024\n",
            "emp.var.rate      -0.4551   0.0523  -8.7058 0.0000  -0.5575 -0.3526\n",
            "cons.price.idx     0.5646   0.0767   7.3648 0.0000   0.4144  0.7149\n",
            "cons.conf.idx      0.0212   0.0033   6.4751 0.0000   0.0147  0.0276\n",
            "nr.employed       -0.0048   0.0008  -6.3283 0.0000  -0.0063 -0.0033\n",
            "job_blue-collar   -0.3679   0.0487  -7.5536 0.0000  -0.4633 -0.2724\n",
            "job_entrepreneur  -0.1733   0.1015  -1.7067 0.0879  -0.3722  0.0257\n",
            "job_services      -0.2729   0.0655  -4.1685 0.0000  -0.4012 -0.1446\n",
            "job_student        0.2631   0.0911   2.8885 0.0039   0.0846  0.4416\n",
            "marital_single     0.1365   0.0427   3.1975 0.0014   0.0528  0.2201\n",
            "===================================================================\n",
            "\n"
          ],
          "name": "stdout"
        }
      ]
    },
    {
      "cell_type": "code",
      "metadata": {
        "id": "97jUZgJz3mm-",
        "colab_type": "code",
        "colab": {}
      },
      "source": [
        "sel3 = ['const',\n",
        " 'age',\n",
        " 'campaign',\n",
        " 'pdays',\n",
        " 'previous',\n",
        " 'emp.var.rate',\n",
        " 'cons.price.idx',\n",
        " 'cons.conf.idx',\n",
        " 'nr.employed',\n",
        " 'job_blue-collar',\n",
        " 'job_services',\n",
        " 'job_student',\n",
        " 'marital_single',]"
      ],
      "execution_count": 0,
      "outputs": []
    },
    {
      "cell_type": "code",
      "metadata": {
        "id": "ZFdYOurJ3qnN",
        "colab_type": "code",
        "colab": {
          "base_uri": "https://localhost:8080/",
          "height": 555
        },
        "outputId": "45661846-69fe-4645-da5e-ec0f91fdc143"
      },
      "source": [
        "import statsmodels.api as sm\n",
        "logit_model1=sm.Logit(y,X1[sel3])\n",
        "result1=logit_model1.fit()\n",
        "print(result1.summary2())"
      ],
      "execution_count": 129,
      "outputs": [
        {
          "output_type": "stream",
          "text": [
            "Optimization terminated successfully.\n",
            "         Current function value: 0.286017\n",
            "         Iterations 8\n",
            "                          Results: Logit\n",
            "==================================================================\n",
            "Model:               Logit            Pseudo R-squared: 0.188     \n",
            "Dependent Variable:  y                AIC:              23586.9197\n",
            "Date:                2019-07-03 17:25 BIC:              23699.0565\n",
            "No. Observations:    41188            Log-Likelihood:   -11780.   \n",
            "Df Model:            12               LL-Null:          -14499.   \n",
            "Df Residuals:        41175            LLR p-value:      0.0000    \n",
            "Converged:           1.0000           Scale:            1.0000    \n",
            "No. Iterations:      8.0000                                       \n",
            "------------------------------------------------------------------\n",
            "                 Coef.   Std.Err.    z     P>|z|   [0.025   0.975]\n",
            "------------------------------------------------------------------\n",
            "const           -27.2631  10.6253  -2.5659 0.0103 -48.0883 -6.4380\n",
            "age               0.0053   0.0017   3.1873 0.0014   0.0021  0.0086\n",
            "campaign         -0.0486   0.0093  -5.2267 0.0000  -0.0669 -0.0304\n",
            "pdays            -0.0018   0.0001 -23.4607 0.0000  -0.0020 -0.0017\n",
            "previous         -0.2703   0.0346  -7.8087 0.0000  -0.3381 -0.2024\n",
            "emp.var.rate     -0.4527   0.0523  -8.6584 0.0000  -0.5552 -0.3502\n",
            "cons.price.idx    0.5620   0.0767   7.3276 0.0000   0.4117  0.7123\n",
            "cons.conf.idx     0.0214   0.0033   6.5437 0.0000   0.0150  0.0278\n",
            "nr.employed      -0.0049   0.0008  -6.3972 0.0000  -0.0063 -0.0034\n",
            "job_blue-collar  -0.3584   0.0484  -7.4022 0.0000  -0.4533 -0.2635\n",
            "job_services     -0.2642   0.0653  -4.0460 0.0001  -0.3922 -0.1362\n",
            "job_student       0.2671   0.0911   2.9329 0.0034   0.0886  0.4456\n",
            "marital_single    0.1416   0.0426   3.3258 0.0009   0.0582  0.2251\n",
            "==================================================================\n",
            "\n"
          ],
          "name": "stdout"
        }
      ]
    },
    {
      "cell_type": "code",
      "metadata": {
        "id": "6AEYIKtt31O4",
        "colab_type": "code",
        "colab": {}
      },
      "source": [
        "sel4 = [ 'age',\n",
        " 'campaign',\n",
        " 'pdays',\n",
        " 'previous',\n",
        " 'emp.var.rate',\n",
        " 'cons.price.idx',\n",
        " 'cons.conf.idx',\n",
        " 'nr.employed',\n",
        " 'job_blue-collar',\n",
        " 'job_services',\n",
        " 'job_student',\n",
        " 'marital_single']"
      ],
      "execution_count": 0,
      "outputs": []
    },
    {
      "cell_type": "code",
      "metadata": {
        "id": "bVEYc_Pe3sPo",
        "colab_type": "code",
        "colab": {
          "base_uri": "https://localhost:8080/",
          "height": 104
        },
        "outputId": "52210a16-f8d9-4270-bc68-6978136e8503"
      },
      "source": [
        "lreg3 = LogisticRegression()\n",
        "lreg3.fit(X1[sel4] , y)"
      ],
      "execution_count": 136,
      "outputs": [
        {
          "output_type": "execute_result",
          "data": {
            "text/plain": [
              "LogisticRegression(C=1.0, class_weight=None, dual=False, fit_intercept=True,\n",
              "                   intercept_scaling=1, l1_ratio=None, max_iter=100,\n",
              "                   multi_class='warn', n_jobs=None, penalty='l2',\n",
              "                   random_state=None, solver='warn', tol=0.0001, verbose=0,\n",
              "                   warm_start=False)"
            ]
          },
          "metadata": {
            "tags": []
          },
          "execution_count": 136
        }
      ]
    },
    {
      "cell_type": "code",
      "metadata": {
        "id": "_T2w5n174ZoY",
        "colab_type": "code",
        "colab": {
          "base_uri": "https://localhost:8080/",
          "height": 35
        },
        "outputId": "f761c433-3fc6-46e0-f754-7c697a3f0f27"
      },
      "source": [
        "accuracy_score(y,lreg3.predict(X1[sel4]))"
      ],
      "execution_count": 146,
      "outputs": [
        {
          "output_type": "execute_result",
          "data": {
            "text/plain": [
              "0.8995095658929786"
            ]
          },
          "metadata": {
            "tags": []
          },
          "execution_count": 146
        }
      ]
    },
    {
      "cell_type": "code",
      "metadata": {
        "id": "BnjqzqG34iJk",
        "colab_type": "code",
        "colab": {
          "base_uri": "https://localhost:8080/",
          "height": 417
        },
        "outputId": "24a187bc-0824-45a7-87a8-4397daf660a3"
      },
      "source": [
        "pd.DataFrame(rfe.support_ , index = X.columns , columns=['Selected']).reset_index().query('Selected == True')"
      ],
      "execution_count": 152,
      "outputs": [
        {
          "output_type": "execute_result",
          "data": {
            "text/html": [
              "<div>\n",
              "<style scoped>\n",
              "    .dataframe tbody tr th:only-of-type {\n",
              "        vertical-align: middle;\n",
              "    }\n",
              "\n",
              "    .dataframe tbody tr th {\n",
              "        vertical-align: top;\n",
              "    }\n",
              "\n",
              "    .dataframe thead th {\n",
              "        text-align: right;\n",
              "    }\n",
              "</style>\n",
              "<table border=\"1\" class=\"dataframe\">\n",
              "  <thead>\n",
              "    <tr style=\"text-align: right;\">\n",
              "      <th></th>\n",
              "      <th>index</th>\n",
              "      <th>Selected</th>\n",
              "    </tr>\n",
              "  </thead>\n",
              "  <tbody>\n",
              "    <tr>\n",
              "      <th>3</th>\n",
              "      <td>previous</td>\n",
              "      <td>True</td>\n",
              "    </tr>\n",
              "    <tr>\n",
              "      <th>7</th>\n",
              "      <td>euribor3m</td>\n",
              "      <td>True</td>\n",
              "    </tr>\n",
              "    <tr>\n",
              "      <th>14</th>\n",
              "      <td>job_retired</td>\n",
              "      <td>True</td>\n",
              "    </tr>\n",
              "    <tr>\n",
              "      <th>17</th>\n",
              "      <td>job_student</td>\n",
              "      <td>True</td>\n",
              "    </tr>\n",
              "    <tr>\n",
              "      <th>34</th>\n",
              "      <td>default_unknown</td>\n",
              "      <td>True</td>\n",
              "    </tr>\n",
              "    <tr>\n",
              "      <th>44</th>\n",
              "      <td>month_apr</td>\n",
              "      <td>True</td>\n",
              "    </tr>\n",
              "    <tr>\n",
              "      <th>45</th>\n",
              "      <td>month_aug</td>\n",
              "      <td>True</td>\n",
              "    </tr>\n",
              "    <tr>\n",
              "      <th>49</th>\n",
              "      <td>month_mar</td>\n",
              "      <td>True</td>\n",
              "    </tr>\n",
              "    <tr>\n",
              "      <th>50</th>\n",
              "      <td>month_may</td>\n",
              "      <td>True</td>\n",
              "    </tr>\n",
              "    <tr>\n",
              "      <th>51</th>\n",
              "      <td>month_nov</td>\n",
              "      <td>True</td>\n",
              "    </tr>\n",
              "    <tr>\n",
              "      <th>54</th>\n",
              "      <td>poutcome_failure</td>\n",
              "      <td>True</td>\n",
              "    </tr>\n",
              "    <tr>\n",
              "      <th>56</th>\n",
              "      <td>poutcome_success</td>\n",
              "      <td>True</td>\n",
              "    </tr>\n",
              "  </tbody>\n",
              "</table>\n",
              "</div>"
            ],
            "text/plain": [
              "               index  Selected\n",
              "3           previous      True\n",
              "7          euribor3m      True\n",
              "14       job_retired      True\n",
              "17       job_student      True\n",
              "34   default_unknown      True\n",
              "44         month_apr      True\n",
              "45         month_aug      True\n",
              "49         month_mar      True\n",
              "50         month_may      True\n",
              "51         month_nov      True\n",
              "54  poutcome_failure      True\n",
              "56  poutcome_success      True"
            ]
          },
          "metadata": {
            "tags": []
          },
          "execution_count": 152
        }
      ]
    },
    {
      "cell_type": "code",
      "metadata": {
        "id": "LJBs3lF75Y1M",
        "colab_type": "code",
        "colab": {
          "base_uri": "https://localhost:8080/",
          "height": 225
        },
        "outputId": "61d6beca-52a8-479d-96b4-c40143fb3a93"
      },
      "source": [
        "sel4"
      ],
      "execution_count": 153,
      "outputs": [
        {
          "output_type": "execute_result",
          "data": {
            "text/plain": [
              "['age',\n",
              " 'campaign',\n",
              " 'pdays',\n",
              " 'previous',\n",
              " 'emp.var.rate',\n",
              " 'cons.price.idx',\n",
              " 'cons.conf.idx',\n",
              " 'nr.employed',\n",
              " 'job_blue-collar',\n",
              " 'job_services',\n",
              " 'job_student',\n",
              " 'marital_single']"
            ]
          },
          "metadata": {
            "tags": []
          },
          "execution_count": 153
        }
      ]
    },
    {
      "cell_type": "code",
      "metadata": {
        "id": "zb5Bdnaq5xFf",
        "colab_type": "code",
        "colab": {}
      },
      "source": [
        "from sklearn.metrics import confusion_matrix"
      ],
      "execution_count": 0,
      "outputs": []
    },
    {
      "cell_type": "code",
      "metadata": {
        "id": "Yxb0z15a6PVV",
        "colab_type": "code",
        "colab": {
          "base_uri": "https://localhost:8080/",
          "height": 52
        },
        "outputId": "5b9842d5-f3d3-4e38-8935-0472a7e6ecd9"
      },
      "source": [
        "confusion_matrix(y , lreg3.predict(X1[sel4]))"
      ],
      "execution_count": 155,
      "outputs": [
        {
          "output_type": "execute_result",
          "data": {
            "text/plain": [
              "array([[36177,   371],\n",
              "       [ 3768,   872]])"
            ]
          },
          "metadata": {
            "tags": []
          },
          "execution_count": 155
        }
      ]
    },
    {
      "cell_type": "code",
      "metadata": {
        "id": "MxDLZPeO6TgK",
        "colab_type": "code",
        "colab": {
          "base_uri": "https://localhost:8080/",
          "height": 52
        },
        "outputId": "c0828993-0eb5-4969-e005-57892d7b63c6"
      },
      "source": [
        "confusion_matrix(y , rfe.predict(X))"
      ],
      "execution_count": 156,
      "outputs": [
        {
          "output_type": "execute_result",
          "data": {
            "text/plain": [
              "array([[36148,   400],\n",
              "       [ 3758,   882]])"
            ]
          },
          "metadata": {
            "tags": []
          },
          "execution_count": 156
        }
      ]
    },
    {
      "cell_type": "code",
      "metadata": {
        "id": "Vyrgt3TW65kj",
        "colab_type": "code",
        "colab": {
          "base_uri": "https://localhost:8080/",
          "height": 228
        },
        "outputId": "eb688d04-70a7-4ea6-876c-5356b7347e82"
      },
      "source": [
        "!pip install pandas_ml"
      ],
      "execution_count": 159,
      "outputs": [
        {
          "output_type": "stream",
          "text": [
            "Collecting pandas_ml\n",
            "\u001b[?25l  Downloading https://files.pythonhosted.org/packages/ae/72/6d90debfcb9ea74ec00927fa7ed0204dcc560b1f9ffcd8b239daa7fd106d/pandas_ml-0.6.1-py3-none-any.whl (100kB)\n",
            "\r\u001b[K     |███▎                            | 10kB 12.4MB/s eta 0:00:01\r\u001b[K     |██████▌                         | 20kB 3.4MB/s eta 0:00:01\r\u001b[K     |█████████▉                      | 30kB 4.9MB/s eta 0:00:01\r\u001b[K     |█████████████                   | 40kB 3.1MB/s eta 0:00:01\r\u001b[K     |████████████████▍               | 51kB 3.7MB/s eta 0:00:01\r\u001b[K     |███████████████████▋            | 61kB 4.5MB/s eta 0:00:01\r\u001b[K     |██████████████████████▉         | 71kB 5.1MB/s eta 0:00:01\r\u001b[K     |██████████████████████████▏     | 81kB 5.8MB/s eta 0:00:01\r\u001b[K     |█████████████████████████████▍  | 92kB 6.4MB/s eta 0:00:01\r\u001b[K     |████████████████████████████████| 102kB 4.7MB/s \n",
            "\u001b[?25hRequirement already satisfied: pandas>=0.19.0 in /usr/local/lib/python3.6/dist-packages (from pandas_ml) (0.24.2)\n",
            "Requirement already satisfied: enum34 in /usr/local/lib/python3.6/dist-packages (from pandas_ml) (1.1.6)\n",
            "Requirement already satisfied: numpy>=1.12.0 in /usr/local/lib/python3.6/dist-packages (from pandas>=0.19.0->pandas_ml) (1.16.4)\n",
            "Requirement already satisfied: pytz>=2011k in /usr/local/lib/python3.6/dist-packages (from pandas>=0.19.0->pandas_ml) (2018.9)\n",
            "Requirement already satisfied: python-dateutil>=2.5.0 in /usr/local/lib/python3.6/dist-packages (from pandas>=0.19.0->pandas_ml) (2.5.3)\n",
            "Requirement already satisfied: six>=1.5 in /usr/local/lib/python3.6/dist-packages (from python-dateutil>=2.5.0->pandas>=0.19.0->pandas_ml) (1.12.0)\n",
            "Installing collected packages: pandas-ml\n",
            "Successfully installed pandas-ml-0.6.1\n"
          ],
          "name": "stdout"
        }
      ]
    },
    {
      "cell_type": "code",
      "metadata": {
        "id": "pQ9XXM256aiG",
        "colab_type": "code",
        "colab": {}
      },
      "source": [
        "from pandas_ml import ConfusionMatrix"
      ],
      "execution_count": 0,
      "outputs": []
    },
    {
      "cell_type": "code",
      "metadata": {
        "id": "ckheV9u37QXe",
        "colab_type": "code",
        "colab": {
          "base_uri": "https://localhost:8080/",
          "height": 104
        },
        "outputId": "0807c3d9-95d5-4966-ff00-57173bcd474f"
      },
      "source": [
        "ConfusionMatrix(y , rfe.predict(X))"
      ],
      "execution_count": 163,
      "outputs": [
        {
          "output_type": "execute_result",
          "data": {
            "text/plain": [
              "Predicted  False  True  __all__\n",
              "Actual                         \n",
              "False      36148   400    36548\n",
              "True        3758   882     4640\n",
              "__all__    39906  1282    41188"
            ]
          },
          "metadata": {
            "tags": []
          },
          "execution_count": 163
        }
      ]
    },
    {
      "cell_type": "code",
      "metadata": {
        "id": "675wBIzB7biy",
        "colab_type": "code",
        "colab": {}
      },
      "source": [
        ""
      ],
      "execution_count": 0,
      "outputs": []
    }
  ]
}