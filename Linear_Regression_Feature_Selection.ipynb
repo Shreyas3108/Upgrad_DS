{
  "nbformat": 4,
  "nbformat_minor": 0,
  "metadata": {
    "colab": {
      "name": "Linear Regression Feature Selection.ipynb",
      "version": "0.3.2",
      "provenance": [],
      "include_colab_link": true
    },
    "kernelspec": {
      "name": "python3",
      "display_name": "Python 3"
    }
  },
  "cells": [
    {
      "cell_type": "markdown",
      "metadata": {
        "id": "view-in-github",
        "colab_type": "text"
      },
      "source": [
        "<a href=\"https://colab.research.google.com/github/Shreyas3108/Upgrad_DS/blob/master/Linear_Regression_Feature_Selection.ipynb\" target=\"_parent\"><img src=\"https://colab.research.google.com/assets/colab-badge.svg\" alt=\"Open In Colab\"/></a>"
      ]
    },
    {
      "cell_type": "code",
      "metadata": {
        "id": "PvtImLXNhBeW",
        "colab_type": "code",
        "colab": {}
      },
      "source": [
        "import pandas as pd\n",
        "import numpy as np \n",
        "import statsmodels.api as sm"
      ],
      "execution_count": 0,
      "outputs": []
    },
    {
      "cell_type": "code",
      "metadata": {
        "id": "Ykd4MtJmhEs9",
        "colab_type": "code",
        "colab": {}
      },
      "source": [
        "df = pd.read_csv('https://github.com/Shreyas3108/Upgrad_DS/raw/master/College.csv')"
      ],
      "execution_count": 0,
      "outputs": []
    },
    {
      "cell_type": "code",
      "metadata": {
        "id": "kJssEd3BhPJC",
        "colab_type": "code",
        "outputId": "702e5512-f814-420a-de28-be884e15c6ff",
        "colab": {
          "base_uri": "https://localhost:8080/",
          "height": 35
        }
      },
      "source": [
        "df.shape"
      ],
      "execution_count": 0,
      "outputs": [
        {
          "output_type": "execute_result",
          "data": {
            "text/plain": [
              "(777, 19)"
            ]
          },
          "metadata": {
            "tags": []
          },
          "execution_count": 5
        }
      ]
    },
    {
      "cell_type": "code",
      "metadata": {
        "id": "yfOzTNb_hQJL",
        "colab_type": "code",
        "outputId": "bb38f7ef-2658-4dcc-f687-f326f298dd34",
        "colab": {
          "base_uri": "https://localhost:8080/",
          "height": 433
        }
      },
      "source": [
        "df.info()"
      ],
      "execution_count": 0,
      "outputs": [
        {
          "output_type": "stream",
          "text": [
            "<class 'pandas.core.frame.DataFrame'>\n",
            "RangeIndex: 777 entries, 0 to 776\n",
            "Data columns (total 19 columns):\n",
            "Unnamed: 0     777 non-null object\n",
            "Private        777 non-null object\n",
            "Apps           777 non-null int64\n",
            "Accept         777 non-null int64\n",
            "Enroll         777 non-null int64\n",
            "Top10perc      777 non-null int64\n",
            "Top25perc      777 non-null int64\n",
            "F.Undergrad    777 non-null int64\n",
            "P.Undergrad    777 non-null int64\n",
            "Outstate       777 non-null int64\n",
            "Room.Board     777 non-null int64\n",
            "Books          777 non-null int64\n",
            "Personal       777 non-null int64\n",
            "PhD            777 non-null int64\n",
            "Terminal       777 non-null int64\n",
            "S.F.Ratio      777 non-null float64\n",
            "perc.alumni    777 non-null int64\n",
            "Expend         777 non-null int64\n",
            "Grad.Rate      777 non-null int64\n",
            "dtypes: float64(1), int64(16), object(2)\n",
            "memory usage: 115.4+ KB\n"
          ],
          "name": "stdout"
        }
      ]
    },
    {
      "cell_type": "code",
      "metadata": {
        "id": "HiSXsCyrhXEX",
        "colab_type": "code",
        "colab": {}
      },
      "source": [
        "y = df['Grad.Rate']"
      ],
      "execution_count": 0,
      "outputs": []
    },
    {
      "cell_type": "code",
      "metadata": {
        "id": "S0LQFiYGhfzj",
        "colab_type": "code",
        "colab": {}
      },
      "source": [
        "x = df.drop(['Unnamed: 0' , 'Grad.Rate'],axis = 1)"
      ],
      "execution_count": 0,
      "outputs": []
    },
    {
      "cell_type": "code",
      "metadata": {
        "id": "zg4R43_EhkpZ",
        "colab_type": "code",
        "outputId": "b61fc1a7-5d0d-459f-f67b-a66e89285113",
        "colab": {
          "base_uri": "https://localhost:8080/",
          "height": 35
        }
      },
      "source": [
        "x.shape"
      ],
      "execution_count": 0,
      "outputs": [
        {
          "output_type": "execute_result",
          "data": {
            "text/plain": [
              "(777, 17)"
            ]
          },
          "metadata": {
            "tags": []
          },
          "execution_count": 11
        }
      ]
    },
    {
      "cell_type": "code",
      "metadata": {
        "id": "rEggLJ_VhmNo",
        "colab_type": "code",
        "colab": {}
      },
      "source": [
        "import seaborn as sns"
      ],
      "execution_count": 0,
      "outputs": []
    },
    {
      "cell_type": "code",
      "metadata": {
        "id": "Nm1Ii6YUhzaP",
        "colab_type": "code",
        "colab": {}
      },
      "source": [
        "x['Private'] = x['Private'].apply(lambda x:1 if x == 'Yes' else 0)"
      ],
      "execution_count": 0,
      "outputs": []
    },
    {
      "cell_type": "code",
      "metadata": {
        "id": "m1qzDHBOh0fw",
        "colab_type": "code",
        "outputId": "37b904e7-c5a7-4e80-8b59-37387e9aadf7",
        "colab": {
          "base_uri": "https://localhost:8080/",
          "height": 329
        }
      },
      "source": [
        "x.dtypes"
      ],
      "execution_count": 0,
      "outputs": [
        {
          "output_type": "execute_result",
          "data": {
            "text/plain": [
              "Private          int64\n",
              "Apps             int64\n",
              "Accept           int64\n",
              "Enroll           int64\n",
              "Top10perc        int64\n",
              "Top25perc        int64\n",
              "F.Undergrad      int64\n",
              "P.Undergrad      int64\n",
              "Outstate         int64\n",
              "Room.Board       int64\n",
              "Books            int64\n",
              "Personal         int64\n",
              "PhD              int64\n",
              "Terminal         int64\n",
              "S.F.Ratio      float64\n",
              "perc.alumni      int64\n",
              "Expend           int64\n",
              "dtype: object"
            ]
          },
          "metadata": {
            "tags": []
          },
          "execution_count": 15
        }
      ]
    },
    {
      "cell_type": "code",
      "metadata": {
        "id": "6SLamZPHh7zX",
        "colab_type": "code",
        "outputId": "d8c19929-337b-4d5c-e281-afc9ac4b0d9f",
        "colab": {
          "base_uri": "https://localhost:8080/",
          "height": 339
        }
      },
      "source": [
        "sns.heatmap(x.corr())"
      ],
      "execution_count": 0,
      "outputs": [
        {
          "output_type": "execute_result",
          "data": {
            "text/plain": [
              "<matplotlib.axes._subplots.AxesSubplot at 0x7f9776d72630>"
            ]
          },
          "metadata": {
            "tags": []
          },
          "execution_count": 16
        },
        {
          "output_type": "display_data",
          "data": {
            "image/png": "[encoded data removed]",
            "text/plain": [
              "<Figure size 432x288 with 2 Axes>"
            ]
          },
          "metadata": {
            "tags": []
          }
        }
      ]
    },
    {
      "cell_type": "code",
      "metadata": {
        "id": "ymv6SHbmiTv4",
        "colab_type": "code",
        "colab": {}
      },
      "source": [
        "from statsmodels.stats.outliers_influence import variance_inflation_factor\n",
        "from statsmodels.tools.tools import add_constant"
      ],
      "execution_count": 0,
      "outputs": []
    },
    {
      "cell_type": "code",
      "metadata": {
        "id": "CooDWIlJi9Nj",
        "colab_type": "code",
        "outputId": "7d138e55-039a-49ff-df77-0bcdfa4910b9",
        "colab": {
          "base_uri": "https://localhost:8080/",
          "height": 72
        }
      },
      "source": [
        "X = add_constant(x)\n",
        "vif = pd.Series([variance_inflation_factor(X.values, i) \n",
        "               for i in range(X.shape[1])], \n",
        "              index=X.columns)"
      ],
      "execution_count": 0,
      "outputs": [
        {
          "output_type": "stream",
          "text": [
            "/usr/local/lib/python3.6/dist-packages/numpy/core/fromnumeric.py:2389: FutureWarning: Method .ptp is deprecated and will be removed in a future version. Use numpy.ptp instead.\n",
            "  return ptp(axis=axis, out=out, **kwargs)\n"
          ],
          "name": "stderr"
        }
      ]
    },
    {
      "cell_type": "code",
      "metadata": {
        "id": "0_oo9lPBjFmf",
        "colab_type": "code",
        "outputId": "112a5a9d-fb0b-486b-8f1a-4f0f4125e0be",
        "colab": {
          "base_uri": "https://localhost:8080/",
          "height": 35
        }
      },
      "source": [
        "variance_inflation_factor(X.values , 3)"
      ],
      "execution_count": 0,
      "outputs": [
        {
          "output_type": "execute_result",
          "data": {
            "text/plain": [
              "21.362550778368597"
            ]
          },
          "metadata": {
            "tags": []
          },
          "execution_count": 20
        }
      ]
    },
    {
      "cell_type": "code",
      "metadata": {
        "id": "gpY6GV-YjQPp",
        "colab_type": "code",
        "outputId": "965c6828-c483-4ff6-d0b4-1b6261beb112",
        "colab": {
          "base_uri": "https://localhost:8080/",
          "height": 347
        }
      },
      "source": [
        "vif"
      ],
      "execution_count": 0,
      "outputs": [
        {
          "output_type": "execute_result",
          "data": {
            "text/plain": [
              "const          112.423767\n",
              "Private          2.731336\n",
              "Apps            13.963107\n",
              "Accept          21.362551\n",
              "Enroll          21.971430\n",
              "Top10perc        7.654596\n",
              "Top25perc        5.661066\n",
              "F.Undergrad     18.058175\n",
              "P.Undergrad      1.685637\n",
              "Outstate         4.212636\n",
              "Room.Board       2.005442\n",
              "Books            1.107910\n",
              "Personal         1.297605\n",
              "PhD              4.110407\n",
              "Terminal         4.020950\n",
              "S.F.Ratio        1.899649\n",
              "perc.alumni      1.773848\n",
              "Expend           3.095630\n",
              "dtype: float64"
            ]
          },
          "metadata": {
            "tags": []
          },
          "execution_count": 22
        }
      ]
    },
    {
      "cell_type": "code",
      "metadata": {
        "id": "dbqhY2OYjS0e",
        "colab_type": "code",
        "colab": {}
      },
      "source": [
        "sel1 = ['Private', 'Top10perc',\n",
        "       'Top25perc', 'P.Undergrad', 'Outstate', 'Room.Board',\n",
        "       'Books', 'Personal', 'PhD', 'Terminal', 'S.F.Ratio', 'perc.alumni',\n",
        "       'Expend']"
      ],
      "execution_count": 0,
      "outputs": []
    },
    {
      "cell_type": "code",
      "metadata": {
        "id": "D9J1jeQBkdGG",
        "colab_type": "code",
        "outputId": "ee452159-af1c-4975-b532-15ff12d8f3ef",
        "colab": {
          "base_uri": "https://localhost:8080/",
          "height": 72
        }
      },
      "source": [
        "X1 = add_constant(x[sel1])"
      ],
      "execution_count": 0,
      "outputs": [
        {
          "output_type": "stream",
          "text": [
            "/usr/local/lib/python3.6/dist-packages/numpy/core/fromnumeric.py:2389: FutureWarning: Method .ptp is deprecated and will be removed in a future version. Use numpy.ptp instead.\n",
            "  return ptp(axis=axis, out=out, **kwargs)\n"
          ],
          "name": "stderr"
        }
      ]
    },
    {
      "cell_type": "code",
      "metadata": {
        "id": "HeQ6_PDSkuxU",
        "colab_type": "code",
        "colab": {}
      },
      "source": [
        "lreg = sm.OLS(y , X1).fit()"
      ],
      "execution_count": 0,
      "outputs": []
    },
    {
      "cell_type": "code",
      "metadata": {
        "id": "WmR-ehEOkzgO",
        "colab_type": "code",
        "outputId": "75dd8e35-2dcc-45d7-da9c-5b2e9ee74be3",
        "colab": {
          "base_uri": "https://localhost:8080/",
          "height": 723
        }
      },
      "source": [
        "lreg.summary()"
      ],
      "execution_count": 0,
      "outputs": [
        {
          "output_type": "execute_result",
          "data": {
            "text/html": [
              "<table class=\"simpletable\">\n",
              "<caption>OLS Regression Results</caption>\n",
              "<tr>\n",
              "  <th>Dep. Variable:</th>        <td>Grad.Rate</td>    <th>  R-squared:         </th> <td>   0.440</td>\n",
              "</tr>\n",
              "<tr>\n",
              "  <th>Model:</th>                   <td>OLS</td>       <th>  Adj. R-squared:    </th> <td>   0.430</td>\n",
              "</tr>\n",
              "<tr>\n",
              "  <th>Method:</th>             <td>Least Squares</td>  <th>  F-statistic:       </th> <td>   46.03</td>\n",
              "</tr>\n",
              "<tr>\n",
              "  <th>Date:</th>             <td>Mon, 01 Jul 2019</td> <th>  Prob (F-statistic):</th> <td>7.55e-87</td>\n",
              "</tr>\n",
              "<tr>\n",
              "  <th>Time:</th>                 <td>17:27:01</td>     <th>  Log-Likelihood:    </th> <td> -3086.6</td>\n",
              "</tr>\n",
              "<tr>\n",
              "  <th>No. Observations:</th>      <td>   777</td>      <th>  AIC:               </th> <td>   6201.</td>\n",
              "</tr>\n",
              "<tr>\n",
              "  <th>Df Residuals:</th>          <td>   763</td>      <th>  BIC:               </th> <td>   6266.</td>\n",
              "</tr>\n",
              "<tr>\n",
              "  <th>Df Model:</th>              <td>    13</td>      <th>                     </th>     <td> </td>   \n",
              "</tr>\n",
              "<tr>\n",
              "  <th>Covariance Type:</th>      <td>nonrobust</td>    <th>                     </th>     <td> </td>   \n",
              "</tr>\n",
              "</table>\n",
              "<table class=\"simpletable\">\n",
              "<tr>\n",
              "       <td></td>          <th>coef</th>     <th>std err</th>      <th>t</th>      <th>P>|t|</th>  <th>[0.025</th>    <th>0.975]</th>  \n",
              "</tr>\n",
              "<tr>\n",
              "  <th>const</th>       <td>   31.3676</td> <td>    4.881</td> <td>    6.426</td> <td> 0.000</td> <td>   21.785</td> <td>   40.950</td>\n",
              "</tr>\n",
              "<tr>\n",
              "  <th>Private</th>     <td>    0.6342</td> <td>    1.585</td> <td>    0.400</td> <td> 0.689</td> <td>   -2.477</td> <td>    3.745</td>\n",
              "</tr>\n",
              "<tr>\n",
              "  <th>Top10perc</th>   <td>    0.1121</td> <td>    0.068</td> <td>    1.637</td> <td> 0.102</td> <td>   -0.022</td> <td>    0.247</td>\n",
              "</tr>\n",
              "<tr>\n",
              "  <th>Top25perc</th>   <td>    0.1449</td> <td>    0.055</td> <td>    2.634</td> <td> 0.009</td> <td>    0.037</td> <td>    0.253</td>\n",
              "</tr>\n",
              "<tr>\n",
              "  <th>P.Undergrad</th> <td>   -0.0012</td> <td>    0.000</td> <td>   -3.195</td> <td> 0.001</td> <td>   -0.002</td> <td>   -0.000</td>\n",
              "</tr>\n",
              "<tr>\n",
              "  <th>Outstate</th>    <td>    0.0011</td> <td>    0.000</td> <td>    4.632</td> <td> 0.000</td> <td>    0.001</td> <td>    0.002</td>\n",
              "</tr>\n",
              "<tr>\n",
              "  <th>Room.Board</th>  <td>    0.0024</td> <td>    0.001</td> <td>    4.008</td> <td> 0.000</td> <td>    0.001</td> <td>    0.004</td>\n",
              "</tr>\n",
              "<tr>\n",
              "  <th>Books</th>       <td>   -0.0018</td> <td>    0.003</td> <td>   -0.598</td> <td> 0.550</td> <td>   -0.008</td> <td>    0.004</td>\n",
              "</tr>\n",
              "<tr>\n",
              "  <th>Personal</th>    <td>   -0.0016</td> <td>    0.001</td> <td>   -2.041</td> <td> 0.042</td> <td>   -0.003</td> <td>-6.04e-05</td>\n",
              "</tr>\n",
              "<tr>\n",
              "  <th>PhD</th>         <td>    0.0888</td> <td>    0.058</td> <td>    1.540</td> <td> 0.124</td> <td>   -0.024</td> <td>    0.202</td>\n",
              "</tr>\n",
              "<tr>\n",
              "  <th>Terminal</th>    <td>   -0.0815</td> <td>    0.063</td> <td>   -1.288</td> <td> 0.198</td> <td>   -0.206</td> <td>    0.043</td>\n",
              "</tr>\n",
              "<tr>\n",
              "  <th>S.F.Ratio</th>   <td>    0.1664</td> <td>    0.161</td> <td>    1.036</td> <td> 0.301</td> <td>   -0.149</td> <td>    0.482</td>\n",
              "</tr>\n",
              "<tr>\n",
              "  <th>perc.alumni</th> <td>    0.2563</td> <td>    0.049</td> <td>    5.192</td> <td> 0.000</td> <td>    0.159</td> <td>    0.353</td>\n",
              "</tr>\n",
              "<tr>\n",
              "  <th>Expend</th>      <td>   -0.0003</td> <td>    0.000</td> <td>   -2.056</td> <td> 0.040</td> <td>   -0.001</td> <td>-1.41e-05</td>\n",
              "</tr>\n",
              "</table>\n",
              "<table class=\"simpletable\">\n",
              "<tr>\n",
              "  <th>Omnibus:</th>       <td>31.988</td> <th>  Durbin-Watson:     </th> <td>   2.012</td>\n",
              "</tr>\n",
              "<tr>\n",
              "  <th>Prob(Omnibus):</th> <td> 0.000</td> <th>  Jarque-Bera (JB):  </th> <td>  71.944</td>\n",
              "</tr>\n",
              "<tr>\n",
              "  <th>Skew:</th>          <td> 0.202</td> <th>  Prob(JB):          </th> <td>2.39e-16</td>\n",
              "</tr>\n",
              "<tr>\n",
              "  <th>Kurtosis:</th>      <td> 4.435</td> <th>  Cond. No.          </th> <td>1.70e+05</td>\n",
              "</tr>\n",
              "</table><br/><br/>Warnings:<br/>[1] Standard Errors assume that the covariance matrix of the errors is correctly specified.<br/>[2] The condition number is large, 1.7e+05. This might indicate that there are<br/>strong multicollinearity or other numerical problems."
            ],
            "text/plain": [
              "<class 'statsmodels.iolib.summary.Summary'>\n",
              "\"\"\"\n",
              "                            OLS Regression Results                            \n",
              "==============================================================================\n",
              "Dep. Variable:              Grad.Rate   R-squared:                       0.440\n",
              "Model:                            OLS   Adj. R-squared:                  0.430\n",
              "Method:                 Least Squares   F-statistic:                     46.03\n",
              "Date:                Mon, 01 Jul 2019   Prob (F-statistic):           7.55e-87\n",
              "Time:                        17:27:01   Log-Likelihood:                -3086.6\n",
              "No. Observations:                 777   AIC:                             6201.\n",
              "Df Residuals:                     763   BIC:                             6266.\n",
              "Df Model:                          13                                         \n",
              "Covariance Type:            nonrobust                                         \n",
              "===============================================================================\n",
              "                  coef    std err          t      P>|t|      [0.025      0.975]\n",
              "-------------------------------------------------------------------------------\n",
              "const          31.3676      4.881      6.426      0.000      21.785      40.950\n",
              "Private         0.6342      1.585      0.400      0.689      -2.477       3.745\n",
              "Top10perc       0.1121      0.068      1.637      0.102      -0.022       0.247\n",
              "Top25perc       0.1449      0.055      2.634      0.009       0.037       0.253\n",
              "P.Undergrad    -0.0012      0.000     -3.195      0.001      -0.002      -0.000\n",
              "Outstate        0.0011      0.000      4.632      0.000       0.001       0.002\n",
              "Room.Board      0.0024      0.001      4.008      0.000       0.001       0.004\n",
              "Books          -0.0018      0.003     -0.598      0.550      -0.008       0.004\n",
              "Personal       -0.0016      0.001     -2.041      0.042      -0.003   -6.04e-05\n",
              "PhD             0.0888      0.058      1.540      0.124      -0.024       0.202\n",
              "Terminal       -0.0815      0.063     -1.288      0.198      -0.206       0.043\n",
              "S.F.Ratio       0.1664      0.161      1.036      0.301      -0.149       0.482\n",
              "perc.alumni     0.2563      0.049      5.192      0.000       0.159       0.353\n",
              "Expend         -0.0003      0.000     -2.056      0.040      -0.001   -1.41e-05\n",
              "==============================================================================\n",
              "Omnibus:                       31.988   Durbin-Watson:                   2.012\n",
              "Prob(Omnibus):                  0.000   Jarque-Bera (JB):               71.944\n",
              "Skew:                           0.202   Prob(JB):                     2.39e-16\n",
              "Kurtosis:                       4.435   Cond. No.                     1.70e+05\n",
              "==============================================================================\n",
              "\n",
              "Warnings:\n",
              "[1] Standard Errors assume that the covariance matrix of the errors is correctly specified.\n",
              "[2] The condition number is large, 1.7e+05. This might indicate that there are\n",
              "strong multicollinearity or other numerical problems.\n",
              "\"\"\""
            ]
          },
          "metadata": {
            "tags": []
          },
          "execution_count": 28
        }
      ]
    },
    {
      "cell_type": "code",
      "metadata": {
        "id": "dzcqWTI_k0Ih",
        "colab_type": "code",
        "colab": {}
      },
      "source": [
        "sel2 = ['const','Top25perc', 'P.Undergrad', 'Outstate',\n",
        "       'Room.Board', 'Personal', \n",
        "       'perc.alumni', 'Expend']"
      ],
      "execution_count": 0,
      "outputs": []
    },
    {
      "cell_type": "code",
      "metadata": {
        "id": "K_8Xm2qklFaF",
        "colab_type": "code",
        "colab": {}
      },
      "source": [
        "lreg1 = sm.OLS(y , X1[sel2]).fit()"
      ],
      "execution_count": 0,
      "outputs": []
    },
    {
      "cell_type": "code",
      "metadata": {
        "id": "TU2uivMVlvyo",
        "colab_type": "code",
        "outputId": "74943a31-ad38-4968-834b-5de052fd1631",
        "colab": {
          "base_uri": "https://localhost:8080/",
          "height": 599
        }
      },
      "source": [
        "lreg1.summary()"
      ],
      "execution_count": 0,
      "outputs": [
        {
          "output_type": "execute_result",
          "data": {
            "text/html": [
              "<table class=\"simpletable\">\n",
              "<caption>OLS Regression Results</caption>\n",
              "<tr>\n",
              "  <th>Dep. Variable:</th>        <td>Grad.Rate</td>    <th>  R-squared:         </th> <td>   0.434</td>\n",
              "</tr>\n",
              "<tr>\n",
              "  <th>Model:</th>                   <td>OLS</td>       <th>  Adj. R-squared:    </th> <td>   0.429</td>\n",
              "</tr>\n",
              "<tr>\n",
              "  <th>Method:</th>             <td>Least Squares</td>  <th>  F-statistic:       </th> <td>   84.17</td>\n",
              "</tr>\n",
              "<tr>\n",
              "  <th>Date:</th>             <td>Mon, 01 Jul 2019</td> <th>  Prob (F-statistic):</th> <td>1.14e-90</td>\n",
              "</tr>\n",
              "<tr>\n",
              "  <th>Time:</th>                 <td>17:32:00</td>     <th>  Log-Likelihood:    </th> <td> -3090.5</td>\n",
              "</tr>\n",
              "<tr>\n",
              "  <th>No. Observations:</th>      <td>   777</td>      <th>  AIC:               </th> <td>   6197.</td>\n",
              "</tr>\n",
              "<tr>\n",
              "  <th>Df Residuals:</th>          <td>   769</td>      <th>  BIC:               </th> <td>   6234.</td>\n",
              "</tr>\n",
              "<tr>\n",
              "  <th>Df Model:</th>              <td>     7</td>      <th>                     </th>     <td> </td>   \n",
              "</tr>\n",
              "<tr>\n",
              "  <th>Covariance Type:</th>      <td>nonrobust</td>    <th>                     </th>     <td> </td>   \n",
              "</tr>\n",
              "</table>\n",
              "<table class=\"simpletable\">\n",
              "<tr>\n",
              "       <td></td>          <th>coef</th>     <th>std err</th>      <th>t</th>      <th>P>|t|</th>  <th>[0.025</th>    <th>0.975]</th>  \n",
              "</tr>\n",
              "<tr>\n",
              "  <th>const</th>       <td>   31.7079</td> <td>    2.556</td> <td>   12.408</td> <td> 0.000</td> <td>   26.691</td> <td>   36.725</td>\n",
              "</tr>\n",
              "<tr>\n",
              "  <th>Top25perc</th>   <td>    0.2258</td> <td>    0.029</td> <td>    7.785</td> <td> 0.000</td> <td>    0.169</td> <td>    0.283</td>\n",
              "</tr>\n",
              "<tr>\n",
              "  <th>P.Undergrad</th> <td>   -0.0012</td> <td>    0.000</td> <td>   -3.474</td> <td> 0.001</td> <td>   -0.002</td> <td>   -0.001</td>\n",
              "</tr>\n",
              "<tr>\n",
              "  <th>Outstate</th>    <td>    0.0011</td> <td>    0.000</td> <td>    5.218</td> <td> 0.000</td> <td>    0.001</td> <td>    0.001</td>\n",
              "</tr>\n",
              "<tr>\n",
              "  <th>Room.Board</th>  <td>    0.0022</td> <td>    0.001</td> <td>    3.891</td> <td> 0.000</td> <td>    0.001</td> <td>    0.003</td>\n",
              "</tr>\n",
              "<tr>\n",
              "  <th>Personal</th>    <td>   -0.0017</td> <td>    0.001</td> <td>   -2.176</td> <td> 0.030</td> <td>   -0.003</td> <td>   -0.000</td>\n",
              "</tr>\n",
              "<tr>\n",
              "  <th>perc.alumni</th> <td>    0.2572</td> <td>    0.048</td> <td>    5.317</td> <td> 0.000</td> <td>    0.162</td> <td>    0.352</td>\n",
              "</tr>\n",
              "<tr>\n",
              "  <th>Expend</th>      <td>   -0.0003</td> <td>    0.000</td> <td>   -2.120</td> <td> 0.034</td> <td>   -0.001</td> <td>-2.03e-05</td>\n",
              "</tr>\n",
              "</table>\n",
              "<table class=\"simpletable\">\n",
              "<tr>\n",
              "  <th>Omnibus:</th>       <td>30.228</td> <th>  Durbin-Watson:     </th> <td>   2.028</td>\n",
              "</tr>\n",
              "<tr>\n",
              "  <th>Prob(Omnibus):</th> <td> 0.000</td> <th>  Jarque-Bera (JB):  </th> <td>  69.029</td>\n",
              "</tr>\n",
              "<tr>\n",
              "  <th>Skew:</th>          <td> 0.173</td> <th>  Prob(JB):          </th> <td>1.02e-15</td>\n",
              "</tr>\n",
              "<tr>\n",
              "  <th>Kurtosis:</th>      <td> 4.419</td> <th>  Cond. No.          </th> <td>8.82e+04</td>\n",
              "</tr>\n",
              "</table><br/><br/>Warnings:<br/>[1] Standard Errors assume that the covariance matrix of the errors is correctly specified.<br/>[2] The condition number is large, 8.82e+04. This might indicate that there are<br/>strong multicollinearity or other numerical problems."
            ],
            "text/plain": [
              "<class 'statsmodels.iolib.summary.Summary'>\n",
              "\"\"\"\n",
              "                            OLS Regression Results                            \n",
              "==============================================================================\n",
              "Dep. Variable:              Grad.Rate   R-squared:                       0.434\n",
              "Model:                            OLS   Adj. R-squared:                  0.429\n",
              "Method:                 Least Squares   F-statistic:                     84.17\n",
              "Date:                Mon, 01 Jul 2019   Prob (F-statistic):           1.14e-90\n",
              "Time:                        17:32:00   Log-Likelihood:                -3090.5\n",
              "No. Observations:                 777   AIC:                             6197.\n",
              "Df Residuals:                     769   BIC:                             6234.\n",
              "Df Model:                           7                                         \n",
              "Covariance Type:            nonrobust                                         \n",
              "===============================================================================\n",
              "                  coef    std err          t      P>|t|      [0.025      0.975]\n",
              "-------------------------------------------------------------------------------\n",
              "const          31.7079      2.556     12.408      0.000      26.691      36.725\n",
              "Top25perc       0.2258      0.029      7.785      0.000       0.169       0.283\n",
              "P.Undergrad    -0.0012      0.000     -3.474      0.001      -0.002      -0.001\n",
              "Outstate        0.0011      0.000      5.218      0.000       0.001       0.001\n",
              "Room.Board      0.0022      0.001      3.891      0.000       0.001       0.003\n",
              "Personal       -0.0017      0.001     -2.176      0.030      -0.003      -0.000\n",
              "perc.alumni     0.2572      0.048      5.317      0.000       0.162       0.352\n",
              "Expend         -0.0003      0.000     -2.120      0.034      -0.001   -2.03e-05\n",
              "==============================================================================\n",
              "Omnibus:                       30.228   Durbin-Watson:                   2.028\n",
              "Prob(Omnibus):                  0.000   Jarque-Bera (JB):               69.029\n",
              "Skew:                           0.173   Prob(JB):                     1.02e-15\n",
              "Kurtosis:                       4.419   Cond. No.                     8.82e+04\n",
              "==============================================================================\n",
              "\n",
              "Warnings:\n",
              "[1] Standard Errors assume that the covariance matrix of the errors is correctly specified.\n",
              "[2] The condition number is large, 8.82e+04. This might indicate that there are\n",
              "strong multicollinearity or other numerical problems.\n",
              "\"\"\""
            ]
          },
          "metadata": {
            "tags": []
          },
          "execution_count": 38
        }
      ]
    },
    {
      "cell_type": "code",
      "metadata": {
        "id": "bX7kHTOdl4TL",
        "colab_type": "code",
        "colab": {}
      },
      "source": [
        "from sklearn.metrics import r2_score"
      ],
      "execution_count": 0,
      "outputs": []
    },
    {
      "cell_type": "code",
      "metadata": {
        "id": "ANMaUYo2mOUH",
        "colab_type": "code",
        "outputId": "5a9aee0d-e005-48a0-b57f-9658c13b7c63",
        "colab": {
          "base_uri": "https://localhost:8080/",
          "height": 35
        }
      },
      "source": [
        "r2_score(y,lreg1.predict(X1[sel2]))"
      ],
      "execution_count": 0,
      "outputs": [
        {
          "output_type": "execute_result",
          "data": {
            "text/plain": [
              "0.4338136220515475"
            ]
          },
          "metadata": {
            "tags": []
          },
          "execution_count": 41
        }
      ]
    },
    {
      "cell_type": "code",
      "metadata": {
        "id": "cj5DVVXqmSRM",
        "colab_type": "code",
        "outputId": "cc524652-80b4-464f-87dd-857a77a50c6e",
        "colab": {
          "base_uri": "https://localhost:8080/",
          "height": 35
        }
      },
      "source": [
        "len(sel2)"
      ],
      "execution_count": 0,
      "outputs": [
        {
          "output_type": "execute_result",
          "data": {
            "text/plain": [
              "8"
            ]
          },
          "metadata": {
            "tags": []
          },
          "execution_count": 42
        }
      ]
    },
    {
      "cell_type": "code",
      "metadata": {
        "id": "Kv5xhcsqmdhQ",
        "colab_type": "code",
        "outputId": "752f4b8b-bb0e-4569-8817-8519edc3e20a",
        "colab": {
          "base_uri": "https://localhost:8080/",
          "height": 35
        }
      },
      "source": [
        "x.shape"
      ],
      "execution_count": 0,
      "outputs": [
        {
          "output_type": "execute_result",
          "data": {
            "text/plain": [
              "(777, 17)"
            ]
          },
          "metadata": {
            "tags": []
          },
          "execution_count": 44
        }
      ]
    },
    {
      "cell_type": "code",
      "metadata": {
        "id": "xvD3xuQPmgqi",
        "colab_type": "code",
        "colab": {}
      },
      "source": [
        ""
      ],
      "execution_count": 0,
      "outputs": []
    }
  ]
}